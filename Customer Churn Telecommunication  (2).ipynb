{
 "cells": [
  {
   "cell_type": "code",
   "execution_count": 2,
   "id": "209995c3",
   "metadata": {},
   "outputs": [],
   "source": [
    "import pandas as pd\n",
    "import matplotlib.pyplot as plt\n",
    "import numpy as np\n",
    "%matplotlib inline\n",
    "import seaborn as sns"
   ]
  },
  {
   "cell_type": "code",
   "execution_count": 3,
   "id": "6faec708",
   "metadata": {},
   "outputs": [
    {
     "data": {
      "text/html": [
       "<div>\n",
       "<style scoped>\n",
       "    .dataframe tbody tr th:only-of-type {\n",
       "        vertical-align: middle;\n",
       "    }\n",
       "\n",
       "    .dataframe tbody tr th {\n",
       "        vertical-align: top;\n",
       "    }\n",
       "\n",
       "    .dataframe thead th {\n",
       "        text-align: right;\n",
       "    }\n",
       "</style>\n",
       "<table border=\"1\" class=\"dataframe\">\n",
       "  <thead>\n",
       "    <tr style=\"text-align: right;\">\n",
       "      <th></th>\n",
       "      <th>customerID</th>\n",
       "      <th>gender</th>\n",
       "      <th>SeniorCitizen</th>\n",
       "      <th>Partner</th>\n",
       "      <th>Dependents</th>\n",
       "      <th>tenure</th>\n",
       "      <th>PhoneService</th>\n",
       "      <th>MultipleLines</th>\n",
       "      <th>InternetService</th>\n",
       "      <th>OnlineSecurity</th>\n",
       "      <th>...</th>\n",
       "      <th>DeviceProtection</th>\n",
       "      <th>TechSupport</th>\n",
       "      <th>StreamingTV</th>\n",
       "      <th>StreamingMovies</th>\n",
       "      <th>Contract</th>\n",
       "      <th>PaperlessBilling</th>\n",
       "      <th>PaymentMethod</th>\n",
       "      <th>MonthlyCharges</th>\n",
       "      <th>TotalCharges</th>\n",
       "      <th>Churn</th>\n",
       "    </tr>\n",
       "  </thead>\n",
       "  <tbody>\n",
       "    <tr>\n",
       "      <th>4182</th>\n",
       "      <td>4902-OHLSK</td>\n",
       "      <td>Female</td>\n",
       "      <td>1</td>\n",
       "      <td>No</td>\n",
       "      <td>No</td>\n",
       "      <td>29</td>\n",
       "      <td>Yes</td>\n",
       "      <td>Yes</td>\n",
       "      <td>Fiber optic</td>\n",
       "      <td>No</td>\n",
       "      <td>...</td>\n",
       "      <td>No</td>\n",
       "      <td>Yes</td>\n",
       "      <td>Yes</td>\n",
       "      <td>Yes</td>\n",
       "      <td>Month-to-month</td>\n",
       "      <td>No</td>\n",
       "      <td>Electronic check</td>\n",
       "      <td>98.65</td>\n",
       "      <td>2862.75</td>\n",
       "      <td>Yes</td>\n",
       "    </tr>\n",
       "    <tr>\n",
       "      <th>2555</th>\n",
       "      <td>1849-RJYIG</td>\n",
       "      <td>Female</td>\n",
       "      <td>0</td>\n",
       "      <td>No</td>\n",
       "      <td>No</td>\n",
       "      <td>8</td>\n",
       "      <td>Yes</td>\n",
       "      <td>No</td>\n",
       "      <td>DSL</td>\n",
       "      <td>Yes</td>\n",
       "      <td>...</td>\n",
       "      <td>No</td>\n",
       "      <td>No</td>\n",
       "      <td>Yes</td>\n",
       "      <td>No</td>\n",
       "      <td>Month-to-month</td>\n",
       "      <td>Yes</td>\n",
       "      <td>Electronic check</td>\n",
       "      <td>60.00</td>\n",
       "      <td>487.75</td>\n",
       "      <td>No</td>\n",
       "    </tr>\n",
       "    <tr>\n",
       "      <th>1739</th>\n",
       "      <td>9804-ICWBG</td>\n",
       "      <td>Male</td>\n",
       "      <td>0</td>\n",
       "      <td>No</td>\n",
       "      <td>No</td>\n",
       "      <td>1</td>\n",
       "      <td>Yes</td>\n",
       "      <td>No</td>\n",
       "      <td>Fiber optic</td>\n",
       "      <td>No</td>\n",
       "      <td>...</td>\n",
       "      <td>No</td>\n",
       "      <td>No</td>\n",
       "      <td>No</td>\n",
       "      <td>No</td>\n",
       "      <td>Month-to-month</td>\n",
       "      <td>Yes</td>\n",
       "      <td>Electronic check</td>\n",
       "      <td>69.90</td>\n",
       "      <td>69.9</td>\n",
       "      <td>Yes</td>\n",
       "    </tr>\n",
       "    <tr>\n",
       "      <th>157</th>\n",
       "      <td>2749-CTKAJ</td>\n",
       "      <td>Male</td>\n",
       "      <td>0</td>\n",
       "      <td>Yes</td>\n",
       "      <td>Yes</td>\n",
       "      <td>22</td>\n",
       "      <td>Yes</td>\n",
       "      <td>No</td>\n",
       "      <td>No</td>\n",
       "      <td>No internet service</td>\n",
       "      <td>...</td>\n",
       "      <td>No internet service</td>\n",
       "      <td>No internet service</td>\n",
       "      <td>No internet service</td>\n",
       "      <td>No internet service</td>\n",
       "      <td>One year</td>\n",
       "      <td>No</td>\n",
       "      <td>Mailed check</td>\n",
       "      <td>20.15</td>\n",
       "      <td>419.9</td>\n",
       "      <td>No</td>\n",
       "    </tr>\n",
       "    <tr>\n",
       "      <th>5958</th>\n",
       "      <td>6859-RKMZJ</td>\n",
       "      <td>Male</td>\n",
       "      <td>0</td>\n",
       "      <td>Yes</td>\n",
       "      <td>No</td>\n",
       "      <td>11</td>\n",
       "      <td>Yes</td>\n",
       "      <td>No</td>\n",
       "      <td>DSL</td>\n",
       "      <td>No</td>\n",
       "      <td>...</td>\n",
       "      <td>No</td>\n",
       "      <td>No</td>\n",
       "      <td>Yes</td>\n",
       "      <td>No</td>\n",
       "      <td>Month-to-month</td>\n",
       "      <td>Yes</td>\n",
       "      <td>Bank transfer (automatic)</td>\n",
       "      <td>55.05</td>\n",
       "      <td>608.15</td>\n",
       "      <td>No</td>\n",
       "    </tr>\n",
       "  </tbody>\n",
       "</table>\n",
       "<p>5 rows × 21 columns</p>\n",
       "</div>"
      ],
      "text/plain": [
       "      customerID  gender  SeniorCitizen Partner Dependents  tenure  \\\n",
       "4182  4902-OHLSK  Female              1      No         No      29   \n",
       "2555  1849-RJYIG  Female              0      No         No       8   \n",
       "1739  9804-ICWBG    Male              0      No         No       1   \n",
       "157   2749-CTKAJ    Male              0     Yes        Yes      22   \n",
       "5958  6859-RKMZJ    Male              0     Yes         No      11   \n",
       "\n",
       "     PhoneService MultipleLines InternetService       OnlineSecurity  ...  \\\n",
       "4182          Yes           Yes     Fiber optic                   No  ...   \n",
       "2555          Yes            No             DSL                  Yes  ...   \n",
       "1739          Yes            No     Fiber optic                   No  ...   \n",
       "157           Yes            No              No  No internet service  ...   \n",
       "5958          Yes            No             DSL                   No  ...   \n",
       "\n",
       "         DeviceProtection          TechSupport          StreamingTV  \\\n",
       "4182                   No                  Yes                  Yes   \n",
       "2555                   No                   No                  Yes   \n",
       "1739                   No                   No                   No   \n",
       "157   No internet service  No internet service  No internet service   \n",
       "5958                   No                   No                  Yes   \n",
       "\n",
       "          StreamingMovies        Contract PaperlessBilling  \\\n",
       "4182                  Yes  Month-to-month               No   \n",
       "2555                   No  Month-to-month              Yes   \n",
       "1739                   No  Month-to-month              Yes   \n",
       "157   No internet service        One year               No   \n",
       "5958                   No  Month-to-month              Yes   \n",
       "\n",
       "                  PaymentMethod MonthlyCharges  TotalCharges Churn  \n",
       "4182           Electronic check          98.65       2862.75   Yes  \n",
       "2555           Electronic check          60.00        487.75    No  \n",
       "1739           Electronic check          69.90          69.9   Yes  \n",
       "157                Mailed check          20.15         419.9    No  \n",
       "5958  Bank transfer (automatic)          55.05        608.15    No  \n",
       "\n",
       "[5 rows x 21 columns]"
      ]
     },
     "execution_count": 3,
     "metadata": {},
     "output_type": "execute_result"
    }
   ],
   "source": [
    "df = pd.read_csv(\"customer_churn.csv\")\n",
    "df.sample(5)"
   ]
  },
  {
   "cell_type": "code",
   "execution_count": 4,
   "id": "3aa9cfc8",
   "metadata": {},
   "outputs": [],
   "source": [
    "df.drop('customerID',axis='columns',inplace=True)"
   ]
  },
  {
   "cell_type": "code",
   "execution_count": 5,
   "id": "70914baf",
   "metadata": {},
   "outputs": [
    {
     "name": "stdout",
     "output_type": "stream",
     "text": [
      "<class 'pandas.core.frame.DataFrame'>\n",
      "RangeIndex: 7043 entries, 0 to 7042\n",
      "Data columns (total 20 columns):\n",
      " #   Column            Non-Null Count  Dtype  \n",
      "---  ------            --------------  -----  \n",
      " 0   gender            7043 non-null   object \n",
      " 1   SeniorCitizen     7043 non-null   int64  \n",
      " 2   Partner           7043 non-null   object \n",
      " 3   Dependents        7043 non-null   object \n",
      " 4   tenure            7043 non-null   int64  \n",
      " 5   PhoneService      7043 non-null   object \n",
      " 6   MultipleLines     7043 non-null   object \n",
      " 7   InternetService   7043 non-null   object \n",
      " 8   OnlineSecurity    7043 non-null   object \n",
      " 9   OnlineBackup      7043 non-null   object \n",
      " 10  DeviceProtection  7043 non-null   object \n",
      " 11  TechSupport       7043 non-null   object \n",
      " 12  StreamingTV       7043 non-null   object \n",
      " 13  StreamingMovies   7043 non-null   object \n",
      " 14  Contract          7043 non-null   object \n",
      " 15  PaperlessBilling  7043 non-null   object \n",
      " 16  PaymentMethod     7043 non-null   object \n",
      " 17  MonthlyCharges    7043 non-null   float64\n",
      " 18  TotalCharges      7043 non-null   object \n",
      " 19  Churn             7043 non-null   object \n",
      "dtypes: float64(1), int64(2), object(17)\n",
      "memory usage: 1.1+ MB\n"
     ]
    }
   ],
   "source": [
    "df.info()"
   ]
  },
  {
   "cell_type": "code",
   "execution_count": 6,
   "id": "0b25e952",
   "metadata": {},
   "outputs": [
    {
     "data": {
      "text/plain": [
       "['gender',\n",
       " 'SeniorCitizen',\n",
       " 'Partner',\n",
       " 'Dependents',\n",
       " 'PhoneService',\n",
       " 'MultipleLines',\n",
       " 'InternetService',\n",
       " 'OnlineSecurity',\n",
       " 'OnlineBackup',\n",
       " 'DeviceProtection',\n",
       " 'TechSupport',\n",
       " 'StreamingTV',\n",
       " 'StreamingMovies',\n",
       " 'Contract',\n",
       " 'PaperlessBilling',\n",
       " 'PaymentMethod',\n",
       " 'Churn']"
      ]
     },
     "execution_count": 6,
     "metadata": {},
     "output_type": "execute_result"
    }
   ],
   "source": [
    "df_list=list(df[['gender','SeniorCitizen', 'Partner', 'Dependents', 'PhoneService', 'MultipleLines', 'InternetService', 'OnlineSecurity',\n",
    "       'OnlineBackup', 'DeviceProtection', 'TechSupport', 'StreamingTV',\n",
    "       'StreamingMovies', 'Contract', 'PaperlessBilling', 'PaymentMethod', 'Churn']])\n",
    "df_list"
   ]
  },
  {
   "cell_type": "code",
   "execution_count": 7,
   "id": "3ec4997e",
   "metadata": {},
   "outputs": [
    {
     "name": "stdout",
     "output_type": "stream",
     "text": [
      "Male      3555\n",
      "Female    3488\n",
      "Name: gender, dtype: int64\n",
      "---------------------\n",
      "0    5901\n",
      "1    1142\n",
      "Name: SeniorCitizen, dtype: int64\n",
      "---------------------\n",
      "No     3641\n",
      "Yes    3402\n",
      "Name: Partner, dtype: int64\n",
      "---------------------\n",
      "No     4933\n",
      "Yes    2110\n",
      "Name: Dependents, dtype: int64\n",
      "---------------------\n",
      "Yes    6361\n",
      "No      682\n",
      "Name: PhoneService, dtype: int64\n",
      "---------------------\n",
      "No                  3390\n",
      "Yes                 2971\n",
      "No phone service     682\n",
      "Name: MultipleLines, dtype: int64\n",
      "---------------------\n",
      "Fiber optic    3096\n",
      "DSL            2421\n",
      "No             1526\n",
      "Name: InternetService, dtype: int64\n",
      "---------------------\n",
      "No                     3498\n",
      "Yes                    2019\n",
      "No internet service    1526\n",
      "Name: OnlineSecurity, dtype: int64\n",
      "---------------------\n",
      "No                     3088\n",
      "Yes                    2429\n",
      "No internet service    1526\n",
      "Name: OnlineBackup, dtype: int64\n",
      "---------------------\n",
      "No                     3095\n",
      "Yes                    2422\n",
      "No internet service    1526\n",
      "Name: DeviceProtection, dtype: int64\n",
      "---------------------\n",
      "No                     3473\n",
      "Yes                    2044\n",
      "No internet service    1526\n",
      "Name: TechSupport, dtype: int64\n",
      "---------------------\n",
      "No                     2810\n",
      "Yes                    2707\n",
      "No internet service    1526\n",
      "Name: StreamingTV, dtype: int64\n",
      "---------------------\n",
      "No                     2785\n",
      "Yes                    2732\n",
      "No internet service    1526\n",
      "Name: StreamingMovies, dtype: int64\n",
      "---------------------\n",
      "Month-to-month    3875\n",
      "Two year          1695\n",
      "One year          1473\n",
      "Name: Contract, dtype: int64\n",
      "---------------------\n",
      "Yes    4171\n",
      "No     2872\n",
      "Name: PaperlessBilling, dtype: int64\n",
      "---------------------\n",
      "Electronic check             2365\n",
      "Mailed check                 1612\n",
      "Bank transfer (automatic)    1544\n",
      "Credit card (automatic)      1522\n",
      "Name: PaymentMethod, dtype: int64\n",
      "---------------------\n",
      "No     5174\n",
      "Yes    1869\n",
      "Name: Churn, dtype: int64\n",
      "---------------------\n"
     ]
    }
   ],
   "source": [
    "for i in df_list:\n",
    "    print(df[i].value_counts())\n",
    "    print(\"---------------------\")"
   ]
  },
  {
   "cell_type": "code",
   "execution_count": 8,
   "id": "eea78e39",
   "metadata": {},
   "outputs": [
    {
     "name": "stdout",
     "output_type": "stream",
     "text": [
      "gender ['Female' 'Male']\n",
      "---------------------\n",
      "SeniorCitizen [0 1]\n",
      "---------------------\n",
      "Partner ['Yes' 'No']\n",
      "---------------------\n",
      "Dependents ['No' 'Yes']\n",
      "---------------------\n",
      "PhoneService ['No' 'Yes']\n",
      "---------------------\n",
      "MultipleLines ['No phone service' 'No' 'Yes']\n",
      "---------------------\n",
      "InternetService ['DSL' 'Fiber optic' 'No']\n",
      "---------------------\n",
      "OnlineSecurity ['No' 'Yes' 'No internet service']\n",
      "---------------------\n",
      "OnlineBackup ['Yes' 'No' 'No internet service']\n",
      "---------------------\n",
      "DeviceProtection ['No' 'Yes' 'No internet service']\n",
      "---------------------\n",
      "TechSupport ['No' 'Yes' 'No internet service']\n",
      "---------------------\n",
      "StreamingTV ['No' 'Yes' 'No internet service']\n",
      "---------------------\n",
      "StreamingMovies ['No' 'Yes' 'No internet service']\n",
      "---------------------\n",
      "Contract ['Month-to-month' 'One year' 'Two year']\n",
      "---------------------\n",
      "PaperlessBilling ['Yes' 'No']\n",
      "---------------------\n",
      "PaymentMethod ['Electronic check' 'Mailed check' 'Bank transfer (automatic)'\n",
      " 'Credit card (automatic)']\n",
      "---------------------\n",
      "Churn ['No' 'Yes']\n",
      "---------------------\n"
     ]
    }
   ],
   "source": [
    "for i in df_list:\n",
    "    print(i, df[i].unique())\n",
    "    print(\"---------------------\")"
   ]
  },
  {
   "cell_type": "code",
   "execution_count": 9,
   "id": "7361daf5",
   "metadata": {},
   "outputs": [],
   "source": [
    "df1_list=list(df[['tenure', 'MonthlyCharges', 'TotalCharges']])"
   ]
  },
  {
   "cell_type": "code",
   "execution_count": 10,
   "id": "433fcf3f",
   "metadata": {},
   "outputs": [
    {
     "data": {
      "text/plain": [
       "['[!',\n",
       " '@',\n",
       " '#',\n",
       " '$',\n",
       " '%',\n",
       " '^',\n",
       " '&',\n",
       " '*',\n",
       " '(',\n",
       " ')',\n",
       " '_',\n",
       " '+',\n",
       " '{',\n",
       " '}',\n",
       " '\\\\',\n",
       " '[',\n",
       " '\\\\',\n",
       " ']',\n",
       " ':',\n",
       " ';',\n",
       " '<',\n",
       " '>',\n",
       " ',',\n",
       " '.',\n",
       " '?',\n",
       " '~',\n",
       " '\"',\n",
       " '\\\\',\n",
       " '/',\n",
       " '\\\\',\n",
       " '']"
      ]
     },
     "execution_count": 10,
     "metadata": {},
     "output_type": "execute_result"
    }
   ],
   "source": [
    "re=('[! @ # $ % ^ & * ( ) _ + { } \\ [ \\ ] : ; < > , . ? ~ \" \\\\ / \\ ').split(\" \")\n",
    "re"
   ]
  },
  {
   "cell_type": "code",
   "execution_count": 11,
   "id": "0898dd1a",
   "metadata": {},
   "outputs": [
    {
     "name": "stdout",
     "output_type": "stream",
     "text": [
      "[!\n",
      "False    7043\n",
      "Name: tenure, dtype: int64\n",
      "False    7043\n",
      "Name: MonthlyCharges, dtype: int64\n",
      "False    7043\n",
      "Name: TotalCharges, dtype: int64\n",
      "@\n",
      "False    7043\n",
      "Name: tenure, dtype: int64\n",
      "False    7043\n",
      "Name: MonthlyCharges, dtype: int64\n",
      "False    7043\n",
      "Name: TotalCharges, dtype: int64\n",
      "#\n",
      "False    7043\n",
      "Name: tenure, dtype: int64\n",
      "False    7043\n",
      "Name: MonthlyCharges, dtype: int64\n",
      "False    7043\n",
      "Name: TotalCharges, dtype: int64\n",
      "$\n",
      "False    7043\n",
      "Name: tenure, dtype: int64\n",
      "False    7043\n",
      "Name: MonthlyCharges, dtype: int64\n",
      "False    7043\n",
      "Name: TotalCharges, dtype: int64\n",
      "%\n",
      "False    7043\n",
      "Name: tenure, dtype: int64\n",
      "False    7043\n",
      "Name: MonthlyCharges, dtype: int64\n",
      "False    7043\n",
      "Name: TotalCharges, dtype: int64\n",
      "^\n",
      "False    7043\n",
      "Name: tenure, dtype: int64\n",
      "False    7043\n",
      "Name: MonthlyCharges, dtype: int64\n",
      "False    7043\n",
      "Name: TotalCharges, dtype: int64\n",
      "&\n",
      "False    7043\n",
      "Name: tenure, dtype: int64\n",
      "False    7043\n",
      "Name: MonthlyCharges, dtype: int64\n",
      "False    7043\n",
      "Name: TotalCharges, dtype: int64\n",
      "*\n",
      "False    7043\n",
      "Name: tenure, dtype: int64\n",
      "False    7043\n",
      "Name: MonthlyCharges, dtype: int64\n",
      "False    7043\n",
      "Name: TotalCharges, dtype: int64\n",
      "(\n",
      "False    7043\n",
      "Name: tenure, dtype: int64\n",
      "False    7043\n",
      "Name: MonthlyCharges, dtype: int64\n",
      "False    7043\n",
      "Name: TotalCharges, dtype: int64\n",
      ")\n",
      "False    7043\n",
      "Name: tenure, dtype: int64\n",
      "False    7043\n",
      "Name: MonthlyCharges, dtype: int64\n",
      "False    7043\n",
      "Name: TotalCharges, dtype: int64\n",
      "_\n",
      "False    7043\n",
      "Name: tenure, dtype: int64\n",
      "False    7043\n",
      "Name: MonthlyCharges, dtype: int64\n",
      "False    7043\n",
      "Name: TotalCharges, dtype: int64\n",
      "+\n",
      "False    7043\n",
      "Name: tenure, dtype: int64\n",
      "False    7043\n",
      "Name: MonthlyCharges, dtype: int64\n",
      "False    7043\n",
      "Name: TotalCharges, dtype: int64\n",
      "{\n",
      "False    7043\n",
      "Name: tenure, dtype: int64\n",
      "False    7043\n",
      "Name: MonthlyCharges, dtype: int64\n",
      "False    7043\n",
      "Name: TotalCharges, dtype: int64\n",
      "}\n",
      "False    7043\n",
      "Name: tenure, dtype: int64\n",
      "False    7043\n",
      "Name: MonthlyCharges, dtype: int64\n",
      "False    7043\n",
      "Name: TotalCharges, dtype: int64\n",
      "\\\n",
      "False    7043\n",
      "Name: tenure, dtype: int64\n",
      "False    7043\n",
      "Name: MonthlyCharges, dtype: int64\n",
      "False    7043\n",
      "Name: TotalCharges, dtype: int64\n",
      "[\n",
      "False    7043\n",
      "Name: tenure, dtype: int64\n",
      "False    7043\n",
      "Name: MonthlyCharges, dtype: int64\n",
      "False    7043\n",
      "Name: TotalCharges, dtype: int64\n",
      "\\\n",
      "False    7043\n",
      "Name: tenure, dtype: int64\n",
      "False    7043\n",
      "Name: MonthlyCharges, dtype: int64\n",
      "False    7043\n",
      "Name: TotalCharges, dtype: int64\n",
      "]\n",
      "False    7043\n",
      "Name: tenure, dtype: int64\n",
      "False    7043\n",
      "Name: MonthlyCharges, dtype: int64\n",
      "False    7043\n",
      "Name: TotalCharges, dtype: int64\n",
      ":\n",
      "False    7043\n",
      "Name: tenure, dtype: int64\n",
      "False    7043\n",
      "Name: MonthlyCharges, dtype: int64\n",
      "False    7043\n",
      "Name: TotalCharges, dtype: int64\n",
      ";\n",
      "False    7043\n",
      "Name: tenure, dtype: int64\n",
      "False    7043\n",
      "Name: MonthlyCharges, dtype: int64\n",
      "False    7043\n",
      "Name: TotalCharges, dtype: int64\n",
      "<\n",
      "False    7043\n",
      "Name: tenure, dtype: int64\n",
      "False    7043\n",
      "Name: MonthlyCharges, dtype: int64\n",
      "False    7043\n",
      "Name: TotalCharges, dtype: int64\n",
      ">\n",
      "False    7043\n",
      "Name: tenure, dtype: int64\n",
      "False    7043\n",
      "Name: MonthlyCharges, dtype: int64\n",
      "False    7043\n",
      "Name: TotalCharges, dtype: int64\n",
      ",\n",
      "False    7043\n",
      "Name: tenure, dtype: int64\n",
      "False    7043\n",
      "Name: MonthlyCharges, dtype: int64\n",
      "False    7043\n",
      "Name: TotalCharges, dtype: int64\n",
      ".\n",
      "False    7043\n",
      "Name: tenure, dtype: int64\n",
      "False    7043\n",
      "Name: MonthlyCharges, dtype: int64\n",
      "False    7043\n",
      "Name: TotalCharges, dtype: int64\n",
      "?\n",
      "False    7043\n",
      "Name: tenure, dtype: int64\n",
      "False    7043\n",
      "Name: MonthlyCharges, dtype: int64\n",
      "False    7043\n",
      "Name: TotalCharges, dtype: int64\n",
      "~\n",
      "False    7043\n",
      "Name: tenure, dtype: int64\n",
      "False    7043\n",
      "Name: MonthlyCharges, dtype: int64\n",
      "False    7043\n",
      "Name: TotalCharges, dtype: int64\n",
      "\"\n",
      "False    7043\n",
      "Name: tenure, dtype: int64\n",
      "False    7043\n",
      "Name: MonthlyCharges, dtype: int64\n",
      "False    7043\n",
      "Name: TotalCharges, dtype: int64\n",
      "\\\n",
      "False    7043\n",
      "Name: tenure, dtype: int64\n",
      "False    7043\n",
      "Name: MonthlyCharges, dtype: int64\n",
      "False    7043\n",
      "Name: TotalCharges, dtype: int64\n",
      "/\n",
      "False    7043\n",
      "Name: tenure, dtype: int64\n",
      "False    7043\n",
      "Name: MonthlyCharges, dtype: int64\n",
      "False    7043\n",
      "Name: TotalCharges, dtype: int64\n",
      "\\\n",
      "False    7043\n",
      "Name: tenure, dtype: int64\n",
      "False    7043\n",
      "Name: MonthlyCharges, dtype: int64\n",
      "False    7043\n",
      "Name: TotalCharges, dtype: int64\n",
      "\n",
      "False    7043\n",
      "Name: tenure, dtype: int64\n",
      "False    7043\n",
      "Name: MonthlyCharges, dtype: int64\n",
      "False    7043\n",
      "Name: TotalCharges, dtype: int64\n"
     ]
    }
   ],
   "source": [
    "for j in re:\n",
    "    print( j )\n",
    "    for i in df1_list:\n",
    "        print((df[i]==j).value_counts())\n",
    "    "
   ]
  },
  {
   "cell_type": "code",
   "execution_count": 12,
   "id": "a91562c8",
   "metadata": {},
   "outputs": [
    {
     "name": "stdout",
     "output_type": "stream",
     "text": [
      "False    7043\n",
      "Name: tenure, dtype: int64\n",
      "False    7043\n",
      "Name: MonthlyCharges, dtype: int64\n",
      "False    7032\n",
      "True       11\n",
      "Name: TotalCharges, dtype: int64\n"
     ]
    }
   ],
   "source": [
    "for i in df1_list:\n",
    "    print((df[i]==\" \").value_counts())"
   ]
  },
  {
   "cell_type": "code",
   "execution_count": 13,
   "id": "39cd979b",
   "metadata": {},
   "outputs": [],
   "source": [
    "#TotalCharges is object type and have 11 null values/spaces"
   ]
  },
  {
   "cell_type": "code",
   "execution_count": 14,
   "id": "8b9508b0",
   "metadata": {},
   "outputs": [],
   "source": [
    "df[\"TotalCharges\"]=pd.to_numeric(df[\"TotalCharges\"],errors='coerce')"
   ]
  },
  {
   "cell_type": "code",
   "execution_count": 15,
   "id": "28ea9c13",
   "metadata": {},
   "outputs": [
    {
     "data": {
      "text/plain": [
       "dtype('float64')"
      ]
     },
     "execution_count": 15,
     "metadata": {},
     "output_type": "execute_result"
    }
   ],
   "source": [
    "df[\"TotalCharges\"].dtypes"
   ]
  },
  {
   "cell_type": "code",
   "execution_count": 16,
   "id": "3eebfd8c",
   "metadata": {},
   "outputs": [
    {
     "data": {
      "text/plain": [
       "11"
      ]
     },
     "execution_count": 16,
     "metadata": {},
     "output_type": "execute_result"
    }
   ],
   "source": [
    "df[\"TotalCharges\"].isnull().sum() "
   ]
  },
  {
   "cell_type": "code",
   "execution_count": 17,
   "id": "149811fc",
   "metadata": {},
   "outputs": [
    {
     "data": {
      "text/plain": [
       "gender               0\n",
       "SeniorCitizen        0\n",
       "Partner              0\n",
       "Dependents           0\n",
       "tenure               0\n",
       "PhoneService         0\n",
       "MultipleLines        0\n",
       "InternetService      0\n",
       "OnlineSecurity       0\n",
       "OnlineBackup         0\n",
       "DeviceProtection     0\n",
       "TechSupport          0\n",
       "StreamingTV          0\n",
       "StreamingMovies      0\n",
       "Contract             0\n",
       "PaperlessBilling     0\n",
       "PaymentMethod        0\n",
       "MonthlyCharges       0\n",
       "TotalCharges        11\n",
       "Churn                0\n",
       "dtype: int64"
      ]
     },
     "execution_count": 17,
     "metadata": {},
     "output_type": "execute_result"
    }
   ],
   "source": [
    "df.isnull().sum()"
   ]
  },
  {
   "cell_type": "code",
   "execution_count": 18,
   "id": "06f19724",
   "metadata": {},
   "outputs": [],
   "source": [
    "#as we can see only TotalCharges is having null values which significantly small in numbers we can drop it./\n",
    "df.dropna(inplace=True)"
   ]
  },
  {
   "cell_type": "code",
   "execution_count": 19,
   "id": "57997a4e",
   "metadata": {},
   "outputs": [
    {
     "data": {
      "text/plain": [
       "gender              0\n",
       "SeniorCitizen       0\n",
       "Partner             0\n",
       "Dependents          0\n",
       "tenure              0\n",
       "PhoneService        0\n",
       "MultipleLines       0\n",
       "InternetService     0\n",
       "OnlineSecurity      0\n",
       "OnlineBackup        0\n",
       "DeviceProtection    0\n",
       "TechSupport         0\n",
       "StreamingTV         0\n",
       "StreamingMovies     0\n",
       "Contract            0\n",
       "PaperlessBilling    0\n",
       "PaymentMethod       0\n",
       "MonthlyCharges      0\n",
       "TotalCharges        0\n",
       "Churn               0\n",
       "dtype: int64"
      ]
     },
     "execution_count": 19,
     "metadata": {},
     "output_type": "execute_result"
    }
   ],
   "source": [
    "df.isnull().sum()"
   ]
  },
  {
   "cell_type": "code",
   "execution_count": 21,
   "id": "119768b2",
   "metadata": {},
   "outputs": [],
   "source": [
    "# import re\n",
    "# # Define a regular expression pattern to match special characters\n",
    "# special_char_pattern = re.compile(r'[!@#$%^&*()_+{}\\[\\]:;<>,.?~\"\\\\/\\']')\n",
    "\n",
    "# # Count special characters in the entire DataFrame\n",
    "# total_special_char_count = df.stack().str.count(special_char_pattern).sum()\n",
    "\n",
    "# print(\"Total count of special characters in the DataFrame:\", total_special_char_count)\n",
    "# for i in df1_list:\n",
    "#     print((df[i]==special_char_pattern).value_counts())"
   ]
  },
  {
   "cell_type": "code",
   "execution_count": 22,
   "id": "6a3bbc1d",
   "metadata": {},
   "outputs": [],
   "source": [
    "df.replace('No internet service','No',inplace=True)\n",
    "df.replace('No phone service','No',inplace=True)"
   ]
  },
  {
   "cell_type": "code",
   "execution_count": 23,
   "id": "9353ef62",
   "metadata": {},
   "outputs": [
    {
     "name": "stdout",
     "output_type": "stream",
     "text": [
      "gender ['Female' 'Male']\n",
      "---------------------\n",
      "SeniorCitizen [0 1]\n",
      "---------------------\n",
      "Partner ['Yes' 'No']\n",
      "---------------------\n",
      "Dependents ['No' 'Yes']\n",
      "---------------------\n",
      "PhoneService ['No' 'Yes']\n",
      "---------------------\n",
      "MultipleLines ['No' 'Yes']\n",
      "---------------------\n",
      "InternetService ['DSL' 'Fiber optic' 'No']\n",
      "---------------------\n",
      "OnlineSecurity ['No' 'Yes']\n",
      "---------------------\n",
      "OnlineBackup ['Yes' 'No']\n",
      "---------------------\n",
      "DeviceProtection ['No' 'Yes']\n",
      "---------------------\n",
      "TechSupport ['No' 'Yes']\n",
      "---------------------\n",
      "StreamingTV ['No' 'Yes']\n",
      "---------------------\n",
      "StreamingMovies ['No' 'Yes']\n",
      "---------------------\n",
      "Contract ['Month-to-month' 'One year' 'Two year']\n",
      "---------------------\n",
      "PaperlessBilling ['Yes' 'No']\n",
      "---------------------\n",
      "PaymentMethod ['Electronic check' 'Mailed check' 'Bank transfer (automatic)'\n",
      " 'Credit card (automatic)']\n",
      "---------------------\n",
      "Churn ['No' 'Yes']\n",
      "---------------------\n"
     ]
    }
   ],
   "source": [
    "for i in df_list:\n",
    "    print(i, df[i].unique())\n",
    "    print(\"---------------------\")"
   ]
  },
  {
   "cell_type": "code",
   "execution_count": 24,
   "id": "bcd95dc0",
   "metadata": {},
   "outputs": [],
   "source": [
    "#Checking for outliers"
   ]
  },
  {
   "cell_type": "code",
   "execution_count": 25,
   "id": "ded2ac8d",
   "metadata": {},
   "outputs": [
    {
     "data": {
      "image/png": "[encoded data removed]",
      "text/plain": [
       "<Figure size 1368x1080 with 3 Axes>"
      ]
     },
     "metadata": {
      "needs_background": "light"
     },
     "output_type": "display_data"
    }
   ],
   "source": [
    "plt.figure(figsize = (19,15))\n",
    "for i in range(len(df1_list)):\n",
    "    plt.subplot(3, 6, i + 1)\n",
    "    sns.boxplot(y = df[df1_list[i]], data = df)\n",
    "    plt.title('Boxplot of {}'.format(df1_list[i]))\n",
    "    plt.tight_layout()"
   ]
  },
  {
   "cell_type": "code",
   "execution_count": 26,
   "id": "6668eae5",
   "metadata": {},
   "outputs": [],
   "source": [
    "#no outliers are there"
   ]
  },
  {
   "cell_type": "code",
   "execution_count": 27,
   "id": "435958bc",
   "metadata": {},
   "outputs": [
    {
     "data": {
      "text/plain": [
       "['gender',\n",
       " 'SeniorCitizen',\n",
       " 'Partner',\n",
       " 'Dependents',\n",
       " 'PhoneService',\n",
       " 'MultipleLines',\n",
       " 'InternetService',\n",
       " 'OnlineSecurity',\n",
       " 'OnlineBackup',\n",
       " 'DeviceProtection',\n",
       " 'TechSupport',\n",
       " 'StreamingTV',\n",
       " 'StreamingMovies',\n",
       " 'Contract',\n",
       " 'PaperlessBilling',\n",
       " 'PaymentMethod',\n",
       " 'Churn']"
      ]
     },
     "execution_count": 27,
     "metadata": {},
     "output_type": "execute_result"
    }
   ],
   "source": [
    "df_list"
   ]
  },
  {
   "cell_type": "code",
   "execution_count": 28,
   "id": "a4002b34",
   "metadata": {},
   "outputs": [
    {
     "data": {
      "image/png": "[encoded data removed]",
      "text/plain": [
       "<Figure size 432x288 with 1 Axes>"
      ]
     },
     "metadata": {
      "needs_background": "light"
     },
     "output_type": "display_data"
    },
    {
     "data": {
      "image/png": "[encoded data removed]",
      "text/plain": [
       "<Figure size 432x288 with 1 Axes>"
      ]
     },
     "metadata": {
      "needs_background": "light"
     },
     "output_type": "display_data"
    },
    {
     "data": {
      "image/png": "[encoded data removed]",
      "text/plain": [
       "<Figure size 432x288 with 1 Axes>"
      ]
     },
     "metadata": {
      "needs_background": "light"
     },
     "output_type": "display_data"
    },
    {
     "data": {
      "image/png": "[encoded data removed]",
      "text/plain": [
       "<Figure size 432x288 with 1 Axes>"
      ]
     },
     "metadata": {
      "needs_background": "light"
     },
     "output_type": "display_data"
    },
    {
     "data": {
      "image/png": "[encoded data removed]",
      "text/plain": [
       "<Figure size 432x288 with 1 Axes>"
      ]
     },
     "metadata": {
      "needs_background": "light"
     },
     "output_type": "display_data"
    },
    {
     "data": {
      "image/png": "[encoded data removed]",
      "text/plain": [
       "<Figure size 432x288 with 1 Axes>"
      ]
     },
     "metadata": {
      "needs_background": "light"
     },
     "output_type": "display_data"
    },
    {
     "data": {
      "image/png": "[encoded data removed]",
      "text/plain": [
       "<Figure size 432x288 with 1 Axes>"
      ]
     },
     "metadata": {
      "needs_background": "light"
     },
     "output_type": "display_data"
    },
    {
     "data": {
      "image/png": "[encoded data removed]",
      "text/plain": [
       "<Figure size 432x288 with 1 Axes>"
      ]
     },
     "metadata": {
      "needs_background": "light"
     },
     "output_type": "display_data"
    },
    {
     "data": {
      "image/png": "[encoded data removed]",
      "text/plain": [
       "<Figure size 432x288 with 1 Axes>"
      ]
     },
     "metadata": {
      "needs_background": "light"
     },
     "output_type": "display_data"
    },
    {
     "data": {
      "image/png": "[encoded data removed]",
      "text/plain": [
       "<Figure size 432x288 with 1 Axes>"
      ]
     },
     "metadata": {
      "needs_background": "light"
     },
     "output_type": "display_data"
    },
    {
     "data": {
      "image/png": "[encoded data removed]",
      "text/plain": [
       "<Figure size 432x288 with 1 Axes>"
      ]
     },
     "metadata": {
      "needs_background": "light"
     },
     "output_type": "display_data"
    },
    {
     "data": {
      "image/png": "[encoded data removed]",
      "text/plain": [
       "<Figure size 432x288 with 1 Axes>"
      ]
     },
     "metadata": {
      "needs_background": "light"
     },
     "output_type": "display_data"
    },
    {
     "data": {
      "image/png": "[encoded data removed]",
      "text/plain": [
       "<Figure size 432x288 with 1 Axes>"
      ]
     },
     "metadata": {
      "needs_background": "light"
     },
     "output_type": "display_data"
    },
    {
     "data": {
      "image/png": "[encoded data removed]",
      "text/plain": [
       "<Figure size 432x288 with 1 Axes>"
      ]
     },
     "metadata": {
      "needs_background": "light"
     },
     "output_type": "display_data"
    },
    {
     "data": {
      "image/png": "[encoded data removed]",
      "text/plain": [
       "<Figure size 432x288 with 1 Axes>"
      ]
     },
     "metadata": {
      "needs_background": "light"
     },
     "output_type": "display_data"
    },
    {
     "data": {
      "image/png": "[encoded data removed]",
      "text/plain": [
       "<Figure size 432x288 with 1 Axes>"
      ]
     },
     "metadata": {
      "needs_background": "light"
     },
     "output_type": "display_data"
    },
    {
     "data": {
      "image/png": "[encoded data removed]",
      "text/plain": [
       "<Figure size 432x288 with 1 Axes>"
      ]
     },
     "metadata": {
      "needs_background": "light"
     },
     "output_type": "display_data"
    }
   ],
   "source": [
    "for i in range(len(df_list)):\n",
    "    sns.countplot(data = df, x = df[df_list[i]])\n",
    "    plt.show() "
   ]
  },
  {
   "cell_type": "code",
   "execution_count": 29,
   "id": "a82a262c",
   "metadata": {},
   "outputs": [],
   "source": [
    "df1=df[['tenure', 'MonthlyCharges', 'TotalCharges']]"
   ]
  },
  {
   "cell_type": "code",
   "execution_count": 30,
   "id": "57dd93c7",
   "metadata": {},
   "outputs": [
    {
     "data": {
      "text/plain": [
       "<AxesSubplot:>"
      ]
     },
     "execution_count": 30,
     "metadata": {},
     "output_type": "execute_result"
    },
    {
     "data": {
      "image/png": "[encoded data removed]",
      "text/plain": [
       "<Figure size 432x288 with 2 Axes>"
      ]
     },
     "metadata": {
      "needs_background": "light"
     },
     "output_type": "display_data"
    }
   ],
   "source": [
    "sns.heatmap(df1.corr(), annot=True)"
   ]
  },
  {
   "cell_type": "code",
   "execution_count": 31,
   "id": "e2a560f2",
   "metadata": {},
   "outputs": [
    {
     "data": {
      "text/plain": [
       "<matplotlib.legend.Legend at 0x225741eafd0>"
      ]
     },
     "execution_count": 31,
     "metadata": {},
     "output_type": "execute_result"
    },
    {
     "data": {
      "image/png": "[encoded data removed]",
      "text/plain": [
       "<Figure size 432x288 with 1 Axes>"
      ]
     },
     "metadata": {
      "needs_background": "light"
     },
     "output_type": "display_data"
    }
   ],
   "source": [
    "tenure_churn_no = df[df.Churn=='No'].tenure\n",
    "tenure_churn_yes = df[df.Churn=='Yes'].tenure\n",
    "\n",
    "plt.xlabel(\"tenure\")\n",
    "plt.ylabel(\"Number Of Customers\")\n",
    "plt.title(\"Customer Churn Prediction Visualiztion\")\n",
    "\n",
    "plt.hist([tenure_churn_yes, tenure_churn_no], rwidth=0.95, color=['green','red'],label=['Churn=Yes','Churn=No'])\n",
    "plt.legend()"
   ]
  },
  {
   "cell_type": "code",
   "execution_count": 32,
   "id": "72568ed9",
   "metadata": {},
   "outputs": [
    {
     "data": {
      "text/plain": [
       "<matplotlib.legend.Legend at 0x225741d4640>"
      ]
     },
     "execution_count": 32,
     "metadata": {},
     "output_type": "execute_result"
    },
    {
     "data": {
      "image/png": "[encoded data removed]",
      "text/plain": [
       "<Figure size 432x288 with 1 Axes>"
      ]
     },
     "metadata": {
      "needs_background": "light"
     },
     "output_type": "display_data"
    }
   ],
   "source": [
    "mc_churn_no = df[df.Churn=='No'].MonthlyCharges      \n",
    "mc_churn_yes = df[df.Churn=='Yes'].MonthlyCharges      \n",
    "\n",
    "plt.xlabel(\"Monthly Charges\")\n",
    "plt.ylabel(\"Number Of Customers\")\n",
    "plt.title(\"Customer Churn Prediction Visualiztion\")\n",
    "\n",
    "plt.hist([mc_churn_yes, mc_churn_no], rwidth=0.95, color=['green','red'],label=['Churn=Yes','Churn=No'])\n",
    "plt.legend()"
   ]
  },
  {
   "cell_type": "code",
   "execution_count": 33,
   "id": "245c4e07",
   "metadata": {},
   "outputs": [],
   "source": [
    "#Converting Yes No Columns to 1 and 0 "
   ]
  },
  {
   "cell_type": "code",
   "execution_count": 34,
   "id": "ed7b8027",
   "metadata": {},
   "outputs": [],
   "source": [
    "yes_no_columns = ['Partner','Dependents','PhoneService','MultipleLines','OnlineSecurity','OnlineBackup',\n",
    "                  'DeviceProtection','TechSupport','StreamingTV','StreamingMovies','PaperlessBilling','Churn']\n",
    "for col in yes_no_columns:\n",
    "    df[col].replace({'Yes': 1,'No': 0},inplace=True)"
   ]
  },
  {
   "cell_type": "code",
   "execution_count": 35,
   "id": "c11c4f42",
   "metadata": {},
   "outputs": [
    {
     "name": "stdout",
     "output_type": "stream",
     "text": [
      "gender ['Female' 'Male']\n",
      "---------------------\n",
      "SeniorCitizen [0 1]\n",
      "---------------------\n",
      "Partner [1 0]\n",
      "---------------------\n",
      "Dependents [0 1]\n",
      "---------------------\n",
      "PhoneService [0 1]\n",
      "---------------------\n",
      "MultipleLines [0 1]\n",
      "---------------------\n",
      "InternetService ['DSL' 'Fiber optic' 'No']\n",
      "---------------------\n",
      "OnlineSecurity [0 1]\n",
      "---------------------\n",
      "OnlineBackup [1 0]\n",
      "---------------------\n",
      "DeviceProtection [0 1]\n",
      "---------------------\n",
      "TechSupport [0 1]\n",
      "---------------------\n",
      "StreamingTV [0 1]\n",
      "---------------------\n",
      "StreamingMovies [0 1]\n",
      "---------------------\n",
      "Contract ['Month-to-month' 'One year' 'Two year']\n",
      "---------------------\n",
      "PaperlessBilling [1 0]\n",
      "---------------------\n",
      "PaymentMethod ['Electronic check' 'Mailed check' 'Bank transfer (automatic)'\n",
      " 'Credit card (automatic)']\n",
      "---------------------\n",
      "Churn [0 1]\n",
      "---------------------\n"
     ]
    }
   ],
   "source": [
    "for i in df_list:\n",
    "    print(i, df[i].unique())\n",
    "    print(\"---------------------\")"
   ]
  },
  {
   "cell_type": "code",
   "execution_count": 36,
   "id": "61fdd231",
   "metadata": {},
   "outputs": [],
   "source": [
    "df[\"gender\"].replace({\"Female\":1,\"Male\":0},inplace=True)"
   ]
  },
  {
   "cell_type": "code",
   "execution_count": 37,
   "id": "c703910b",
   "metadata": {},
   "outputs": [
    {
     "data": {
      "text/plain": [
       "array([1, 0], dtype=int64)"
      ]
     },
     "execution_count": 37,
     "metadata": {},
     "output_type": "execute_result"
    }
   ],
   "source": [
    "df[\"gender\"].unique()"
   ]
  },
  {
   "cell_type": "code",
   "execution_count": 38,
   "id": "d3dacd69",
   "metadata": {},
   "outputs": [
    {
     "data": {
      "text/plain": [
       "Index(['gender', 'SeniorCitizen', 'Partner', 'Dependents', 'tenure',\n",
       "       'PhoneService', 'MultipleLines', 'OnlineSecurity', 'OnlineBackup',\n",
       "       'DeviceProtection', 'TechSupport', 'StreamingTV', 'StreamingMovies',\n",
       "       'PaperlessBilling', 'MonthlyCharges', 'TotalCharges', 'Churn',\n",
       "       'InternetService_DSL', 'InternetService_Fiber optic',\n",
       "       'InternetService_No', 'Contract_Month-to-month', 'Contract_One year',\n",
       "       'Contract_Two year', 'PaymentMethod_Bank transfer (automatic)',\n",
       "       'PaymentMethod_Credit card (automatic)',\n",
       "       'PaymentMethod_Electronic check', 'PaymentMethod_Mailed check'],\n",
       "      dtype='object')"
      ]
     },
     "execution_count": 38,
     "metadata": {},
     "output_type": "execute_result"
    }
   ],
   "source": [
    "df1 = pd.get_dummies(data=df, columns=['InternetService','Contract','PaymentMethod'])\n",
    "df1.columns"
   ]
  },
  {
   "cell_type": "code",
   "execution_count": 39,
   "id": "81ef6225",
   "metadata": {},
   "outputs": [
    {
     "data": {
      "text/html": [
       "<div>\n",
       "<style scoped>\n",
       "    .dataframe tbody tr th:only-of-type {\n",
       "        vertical-align: middle;\n",
       "    }\n",
       "\n",
       "    .dataframe tbody tr th {\n",
       "        vertical-align: top;\n",
       "    }\n",
       "\n",
       "    .dataframe thead th {\n",
       "        text-align: right;\n",
       "    }\n",
       "</style>\n",
       "<table border=\"1\" class=\"dataframe\">\n",
       "  <thead>\n",
       "    <tr style=\"text-align: right;\">\n",
       "      <th></th>\n",
       "      <th>gender</th>\n",
       "      <th>SeniorCitizen</th>\n",
       "      <th>Partner</th>\n",
       "      <th>Dependents</th>\n",
       "      <th>tenure</th>\n",
       "      <th>PhoneService</th>\n",
       "      <th>MultipleLines</th>\n",
       "      <th>OnlineSecurity</th>\n",
       "      <th>OnlineBackup</th>\n",
       "      <th>DeviceProtection</th>\n",
       "      <th>...</th>\n",
       "      <th>InternetService_DSL</th>\n",
       "      <th>InternetService_Fiber optic</th>\n",
       "      <th>InternetService_No</th>\n",
       "      <th>Contract_Month-to-month</th>\n",
       "      <th>Contract_One year</th>\n",
       "      <th>Contract_Two year</th>\n",
       "      <th>PaymentMethod_Bank transfer (automatic)</th>\n",
       "      <th>PaymentMethod_Credit card (automatic)</th>\n",
       "      <th>PaymentMethod_Electronic check</th>\n",
       "      <th>PaymentMethod_Mailed check</th>\n",
       "    </tr>\n",
       "  </thead>\n",
       "  <tbody>\n",
       "    <tr>\n",
       "      <th>0</th>\n",
       "      <td>1</td>\n",
       "      <td>0</td>\n",
       "      <td>1</td>\n",
       "      <td>0</td>\n",
       "      <td>1</td>\n",
       "      <td>0</td>\n",
       "      <td>0</td>\n",
       "      <td>0</td>\n",
       "      <td>1</td>\n",
       "      <td>0</td>\n",
       "      <td>...</td>\n",
       "      <td>1</td>\n",
       "      <td>0</td>\n",
       "      <td>0</td>\n",
       "      <td>1</td>\n",
       "      <td>0</td>\n",
       "      <td>0</td>\n",
       "      <td>0</td>\n",
       "      <td>0</td>\n",
       "      <td>1</td>\n",
       "      <td>0</td>\n",
       "    </tr>\n",
       "    <tr>\n",
       "      <th>1</th>\n",
       "      <td>0</td>\n",
       "      <td>0</td>\n",
       "      <td>0</td>\n",
       "      <td>0</td>\n",
       "      <td>34</td>\n",
       "      <td>1</td>\n",
       "      <td>0</td>\n",
       "      <td>1</td>\n",
       "      <td>0</td>\n",
       "      <td>1</td>\n",
       "      <td>...</td>\n",
       "      <td>1</td>\n",
       "      <td>0</td>\n",
       "      <td>0</td>\n",
       "      <td>0</td>\n",
       "      <td>1</td>\n",
       "      <td>0</td>\n",
       "      <td>0</td>\n",
       "      <td>0</td>\n",
       "      <td>0</td>\n",
       "      <td>1</td>\n",
       "    </tr>\n",
       "    <tr>\n",
       "      <th>2</th>\n",
       "      <td>0</td>\n",
       "      <td>0</td>\n",
       "      <td>0</td>\n",
       "      <td>0</td>\n",
       "      <td>2</td>\n",
       "      <td>1</td>\n",
       "      <td>0</td>\n",
       "      <td>1</td>\n",
       "      <td>1</td>\n",
       "      <td>0</td>\n",
       "      <td>...</td>\n",
       "      <td>1</td>\n",
       "      <td>0</td>\n",
       "      <td>0</td>\n",
       "      <td>1</td>\n",
       "      <td>0</td>\n",
       "      <td>0</td>\n",
       "      <td>0</td>\n",
       "      <td>0</td>\n",
       "      <td>0</td>\n",
       "      <td>1</td>\n",
       "    </tr>\n",
       "    <tr>\n",
       "      <th>3</th>\n",
       "      <td>0</td>\n",
       "      <td>0</td>\n",
       "      <td>0</td>\n",
       "      <td>0</td>\n",
       "      <td>45</td>\n",
       "      <td>0</td>\n",
       "      <td>0</td>\n",
       "      <td>1</td>\n",
       "      <td>0</td>\n",
       "      <td>1</td>\n",
       "      <td>...</td>\n",
       "      <td>1</td>\n",
       "      <td>0</td>\n",
       "      <td>0</td>\n",
       "      <td>0</td>\n",
       "      <td>1</td>\n",
       "      <td>0</td>\n",
       "      <td>1</td>\n",
       "      <td>0</td>\n",
       "      <td>0</td>\n",
       "      <td>0</td>\n",
       "    </tr>\n",
       "    <tr>\n",
       "      <th>4</th>\n",
       "      <td>1</td>\n",
       "      <td>0</td>\n",
       "      <td>0</td>\n",
       "      <td>0</td>\n",
       "      <td>2</td>\n",
       "      <td>1</td>\n",
       "      <td>0</td>\n",
       "      <td>0</td>\n",
       "      <td>0</td>\n",
       "      <td>0</td>\n",
       "      <td>...</td>\n",
       "      <td>0</td>\n",
       "      <td>1</td>\n",
       "      <td>0</td>\n",
       "      <td>1</td>\n",
       "      <td>0</td>\n",
       "      <td>0</td>\n",
       "      <td>0</td>\n",
       "      <td>0</td>\n",
       "      <td>1</td>\n",
       "      <td>0</td>\n",
       "    </tr>\n",
       "  </tbody>\n",
       "</table>\n",
       "<p>5 rows × 27 columns</p>\n",
       "</div>"
      ],
      "text/plain": [
       "   gender  SeniorCitizen  Partner  Dependents  tenure  PhoneService  \\\n",
       "0       1              0        1           0       1             0   \n",
       "1       0              0        0           0      34             1   \n",
       "2       0              0        0           0       2             1   \n",
       "3       0              0        0           0      45             0   \n",
       "4       1              0        0           0       2             1   \n",
       "\n",
       "   MultipleLines  OnlineSecurity  OnlineBackup  DeviceProtection  ...  \\\n",
       "0              0               0             1                 0  ...   \n",
       "1              0               1             0                 1  ...   \n",
       "2              0               1             1                 0  ...   \n",
       "3              0               1             0                 1  ...   \n",
       "4              0               0             0                 0  ...   \n",
       "\n",
       "   InternetService_DSL  InternetService_Fiber optic  InternetService_No  \\\n",
       "0                    1                            0                   0   \n",
       "1                    1                            0                   0   \n",
       "2                    1                            0                   0   \n",
       "3                    1                            0                   0   \n",
       "4                    0                            1                   0   \n",
       "\n",
       "   Contract_Month-to-month  Contract_One year  Contract_Two year  \\\n",
       "0                        1                  0                  0   \n",
       "1                        0                  1                  0   \n",
       "2                        1                  0                  0   \n",
       "3                        0                  1                  0   \n",
       "4                        1                  0                  0   \n",
       "\n",
       "   PaymentMethod_Bank transfer (automatic)  \\\n",
       "0                                        0   \n",
       "1                                        0   \n",
       "2                                        0   \n",
       "3                                        1   \n",
       "4                                        0   \n",
       "\n",
       "   PaymentMethod_Credit card (automatic)  PaymentMethod_Electronic check  \\\n",
       "0                                      0                               1   \n",
       "1                                      0                               0   \n",
       "2                                      0                               0   \n",
       "3                                      0                               0   \n",
       "4                                      0                               1   \n",
       "\n",
       "   PaymentMethod_Mailed check  \n",
       "0                           0  \n",
       "1                           1  \n",
       "2                           1  \n",
       "3                           0  \n",
       "4                           0  \n",
       "\n",
       "[5 rows x 27 columns]"
      ]
     },
     "execution_count": 39,
     "metadata": {},
     "output_type": "execute_result"
    }
   ],
   "source": [
    "df1.head()"
   ]
  },
  {
   "cell_type": "code",
   "execution_count": 40,
   "id": "cc7cae70",
   "metadata": {},
   "outputs": [],
   "source": [
    "#as we can see all the columns have values 0 or 1 except tenure, monthlycharges, totalcharges columns \n",
    "#so we need to do scaling on the data for the required columns"
   ]
  },
  {
   "cell_type": "code",
   "execution_count": 41,
   "id": "5cac6d89",
   "metadata": {},
   "outputs": [],
   "source": [
    "cols_to_scale = ['tenure','MonthlyCharges','TotalCharges']\n",
    "\n",
    "from sklearn.preprocessing import MinMaxScaler\n",
    "scaler = MinMaxScaler()\n",
    "df1[cols_to_scale] = scaler.fit_transform(df1[cols_to_scale])"
   ]
  },
  {
   "cell_type": "code",
   "execution_count": 42,
   "id": "269e1bcc",
   "metadata": {},
   "outputs": [
    {
     "data": {
      "text/plain": [
       "Index(['gender', 'SeniorCitizen', 'Partner', 'Dependents', 'tenure',\n",
       "       'PhoneService', 'MultipleLines', 'OnlineSecurity', 'OnlineBackup',\n",
       "       'DeviceProtection', 'TechSupport', 'StreamingTV', 'StreamingMovies',\n",
       "       'PaperlessBilling', 'MonthlyCharges', 'TotalCharges', 'Churn',\n",
       "       'InternetService_DSL', 'InternetService_Fiber optic',\n",
       "       'InternetService_No', 'Contract_Month-to-month', 'Contract_One year',\n",
       "       'Contract_Two year', 'PaymentMethod_Bank transfer (automatic)',\n",
       "       'PaymentMethod_Credit card (automatic)',\n",
       "       'PaymentMethod_Electronic check', 'PaymentMethod_Mailed check'],\n",
       "      dtype='object')"
      ]
     },
     "execution_count": 42,
     "metadata": {},
     "output_type": "execute_result"
    }
   ],
   "source": [
    "df1.columns"
   ]
  },
  {
   "cell_type": "code",
   "execution_count": 43,
   "id": "355d66aa",
   "metadata": {},
   "outputs": [
    {
     "name": "stdout",
     "output_type": "stream",
     "text": [
      "gender [1 0]\n",
      "---------------------\n",
      "SeniorCitizen [0 1]\n",
      "---------------------\n",
      "Partner [1 0]\n",
      "---------------------\n",
      "Dependents [0 1]\n",
      "---------------------\n",
      "tenure [0.         0.46478873 0.01408451 0.61971831 0.09859155 0.29577465\n",
      " 0.12676056 0.38028169 0.85915493 0.16901408 0.21126761 0.8028169\n",
      " 0.67605634 0.33802817 0.95774648 0.71830986 0.98591549 0.28169014\n",
      " 0.15492958 0.4084507  0.64788732 1.         0.22535211 0.36619718\n",
      " 0.05633803 0.63380282 0.14084507 0.97183099 0.87323944 0.5915493\n",
      " 0.1971831  0.83098592 0.23943662 0.91549296 0.11267606 0.02816901\n",
      " 0.42253521 0.69014085 0.88732394 0.77464789 0.08450704 0.57746479\n",
      " 0.47887324 0.66197183 0.3943662  0.90140845 0.52112676 0.94366197\n",
      " 0.43661972 0.76056338 0.50704225 0.49295775 0.56338028 0.07042254\n",
      " 0.04225352 0.45070423 0.92957746 0.30985915 0.78873239 0.84507042\n",
      " 0.18309859 0.26760563 0.73239437 0.54929577 0.81690141 0.32394366\n",
      " 0.6056338  0.25352113 0.74647887 0.70422535 0.35211268 0.53521127]\n",
      "---------------------\n",
      "PhoneService [0 1]\n",
      "---------------------\n",
      "MultipleLines [0 1]\n",
      "---------------------\n",
      "OnlineSecurity [0 1]\n",
      "---------------------\n",
      "OnlineBackup [1 0]\n",
      "---------------------\n",
      "DeviceProtection [0 1]\n",
      "---------------------\n",
      "TechSupport [0 1]\n",
      "---------------------\n",
      "StreamingTV [0 1]\n",
      "---------------------\n",
      "StreamingMovies [0 1]\n",
      "---------------------\n",
      "PaperlessBilling [1 0]\n",
      "---------------------\n",
      "MonthlyCharges [0.11542289 0.38507463 0.35422886 ... 0.44626866 0.25820896 0.60149254]\n",
      "---------------------\n",
      "TotalCharges [0.0012751  0.21586661 0.01031041 ... 0.03780868 0.03321025 0.78764136]\n",
      "---------------------\n",
      "Churn [0 1]\n",
      "---------------------\n",
      "InternetService_DSL [1 0]\n",
      "---------------------\n",
      "InternetService_Fiber optic [0 1]\n",
      "---------------------\n",
      "InternetService_No [0 1]\n",
      "---------------------\n",
      "Contract_Month-to-month [1 0]\n",
      "---------------------\n",
      "Contract_One year [0 1]\n",
      "---------------------\n",
      "Contract_Two year [0 1]\n",
      "---------------------\n",
      "PaymentMethod_Bank transfer (automatic) [0 1]\n",
      "---------------------\n",
      "PaymentMethod_Credit card (automatic) [0 1]\n",
      "---------------------\n",
      "PaymentMethod_Electronic check [1 0]\n",
      "---------------------\n",
      "PaymentMethod_Mailed check [0 1]\n",
      "---------------------\n"
     ]
    }
   ],
   "source": [
    "df_scaled_list=['gender', 'SeniorCitizen', 'Partner', 'Dependents', 'tenure',\n",
    "       'PhoneService', 'MultipleLines', 'OnlineSecurity', 'OnlineBackup',\n",
    "       'DeviceProtection', 'TechSupport', 'StreamingTV', 'StreamingMovies',\n",
    "       'PaperlessBilling', 'MonthlyCharges', 'TotalCharges', 'Churn',\n",
    "       'InternetService_DSL', 'InternetService_Fiber optic',\n",
    "       'InternetService_No', 'Contract_Month-to-month', 'Contract_One year',\n",
    "       'Contract_Two year', 'PaymentMethod_Bank transfer (automatic)',\n",
    "       'PaymentMethod_Credit card (automatic)',\n",
    "       'PaymentMethod_Electronic check', 'PaymentMethod_Mailed check']\n",
    "for i in df_scaled_list:\n",
    "    print(i, df1[i].unique())\n",
    "    print(\"---------------------\")"
   ]
  },
  {
   "cell_type": "code",
   "execution_count": 44,
   "id": "2eb9ff6f",
   "metadata": {},
   "outputs": [],
   "source": [
    "#train and test split"
   ]
  },
  {
   "cell_type": "code",
   "execution_count": 124,
   "id": "695c92cb",
   "metadata": {},
   "outputs": [],
   "source": [
    "#using logistic regression"
   ]
  },
  {
   "cell_type": "code",
   "execution_count": 45,
   "id": "42373e59",
   "metadata": {},
   "outputs": [],
   "source": [
    "X = df1.drop('Churn',axis='columns')\n",
    "y = df1['Churn']\n",
    "\n",
    "from sklearn.model_selection import train_test_split\n",
    "X_train, X_test, y_train, y_test = train_test_split(X, y, test_size=0.2, random_state=42, stratify=y)"
   ]
  },
  {
   "cell_type": "code",
   "execution_count": 46,
   "id": "97dd8361",
   "metadata": {},
   "outputs": [
    {
     "data": {
      "text/plain": [
       "0    4130\n",
       "1    1495\n",
       "Name: Churn, dtype: int64"
      ]
     },
     "execution_count": 46,
     "metadata": {},
     "output_type": "execute_result"
    }
   ],
   "source": [
    "y_train.value_counts()"
   ]
  },
  {
   "cell_type": "code",
   "execution_count": 47,
   "id": "202882bb",
   "metadata": {},
   "outputs": [
    {
     "data": {
      "text/plain": [
       "0    1033\n",
       "1     374\n",
       "Name: Churn, dtype: int64"
      ]
     },
     "execution_count": 47,
     "metadata": {},
     "output_type": "execute_result"
    }
   ],
   "source": [
    "y_test.value_counts()"
   ]
  },
  {
   "cell_type": "code",
   "execution_count": 125,
   "id": "01bd38f0",
   "metadata": {},
   "outputs": [
    {
     "data": {
      "text/html": [
       "<style>#sk-container-id-1 {color: black;background-color: white;}#sk-container-id-1 pre{padding: 0;}#sk-container-id-1 div.sk-toggleable {background-color: white;}#sk-container-id-1 label.sk-toggleable__label {cursor: pointer;display: block;width: 100%;margin-bottom: 0;padding: 0.3em;box-sizing: border-box;text-align: center;}#sk-container-id-1 label.sk-toggleable__label-arrow:before {content: \"▸\";float: left;margin-right: 0.25em;color: #696969;}#sk-container-id-1 label.sk-toggleable__label-arrow:hover:before {color: black;}#sk-container-id-1 div.sk-estimator:hover label.sk-toggleable__label-arrow:before {color: black;}#sk-container-id-1 div.sk-toggleable__content {max-height: 0;max-width: 0;overflow: hidden;text-align: left;background-color: #f0f8ff;}#sk-container-id-1 div.sk-toggleable__content pre {margin: 0.2em;color: black;border-radius: 0.25em;background-color: #f0f8ff;}#sk-container-id-1 input.sk-toggleable__control:checked~div.sk-toggleable__content {max-height: 200px;max-width: 100%;overflow: auto;}#sk-container-id-1 input.sk-toggleable__control:checked~label.sk-toggleable__label-arrow:before {content: \"▾\";}#sk-container-id-1 div.sk-estimator input.sk-toggleable__control:checked~label.sk-toggleable__label {background-color: #d4ebff;}#sk-container-id-1 div.sk-label input.sk-toggleable__control:checked~label.sk-toggleable__label {background-color: #d4ebff;}#sk-container-id-1 input.sk-hidden--visually {border: 0;clip: rect(1px 1px 1px 1px);clip: rect(1px, 1px, 1px, 1px);height: 1px;margin: -1px;overflow: hidden;padding: 0;position: absolute;width: 1px;}#sk-container-id-1 div.sk-estimator {font-family: monospace;background-color: #f0f8ff;border: 1px dotted black;border-radius: 0.25em;box-sizing: border-box;margin-bottom: 0.5em;}#sk-container-id-1 div.sk-estimator:hover {background-color: #d4ebff;}#sk-container-id-1 div.sk-parallel-item::after {content: \"\";width: 100%;border-bottom: 1px solid gray;flex-grow: 1;}#sk-container-id-1 div.sk-label:hover label.sk-toggleable__label {background-color: #d4ebff;}#sk-container-id-1 div.sk-serial::before {content: \"\";position: absolute;border-left: 1px solid gray;box-sizing: border-box;top: 0;bottom: 0;left: 50%;z-index: 0;}#sk-container-id-1 div.sk-serial {display: flex;flex-direction: column;align-items: center;background-color: white;padding-right: 0.2em;padding-left: 0.2em;position: relative;}#sk-container-id-1 div.sk-item {position: relative;z-index: 1;}#sk-container-id-1 div.sk-parallel {display: flex;align-items: stretch;justify-content: center;background-color: white;position: relative;}#sk-container-id-1 div.sk-item::before, #sk-container-id-1 div.sk-parallel-item::before {content: \"\";position: absolute;border-left: 1px solid gray;box-sizing: border-box;top: 0;bottom: 0;left: 50%;z-index: -1;}#sk-container-id-1 div.sk-parallel-item {display: flex;flex-direction: column;z-index: 1;position: relative;background-color: white;}#sk-container-id-1 div.sk-parallel-item:first-child::after {align-self: flex-end;width: 50%;}#sk-container-id-1 div.sk-parallel-item:last-child::after {align-self: flex-start;width: 50%;}#sk-container-id-1 div.sk-parallel-item:only-child::after {width: 0;}#sk-container-id-1 div.sk-dashed-wrapped {border: 1px dashed gray;margin: 0 0.4em 0.5em 0.4em;box-sizing: border-box;padding-bottom: 0.4em;background-color: white;}#sk-container-id-1 div.sk-label label {font-family: monospace;font-weight: bold;display: inline-block;line-height: 1.2em;}#sk-container-id-1 div.sk-label-container {text-align: center;}#sk-container-id-1 div.sk-container {/* jupyter's `normalize.less` sets `[hidden] { display: none; }` but bootstrap.min.css set `[hidden] { display: none !important; }` so we also need the `!important` here to be able to override the default hidden behavior on the sphinx rendered scikit-learn.org. See: https://github.com/scikit-learn/scikit-learn/issues/21755 */display: inline-block !important;position: relative;}#sk-container-id-1 div.sk-text-repr-fallback {display: none;}</style><div id=\"sk-container-id-1\" class=\"sk-top-container\"><div class=\"sk-text-repr-fallback\"><pre>LogisticRegression()</pre><b>In a Jupyter environment, please rerun this cell to show the HTML representation or trust the notebook. <br />On GitHub, the HTML representation is unable to render, please try loading this page with nbviewer.org.</b></div><div class=\"sk-container\" hidden><div class=\"sk-item\"><div class=\"sk-estimator sk-toggleable\"><input class=\"sk-toggleable__control sk-hidden--visually\" id=\"sk-estimator-id-1\" type=\"checkbox\" checked><label for=\"sk-estimator-id-1\" class=\"sk-toggleable__label sk-toggleable__label-arrow\">LogisticRegression</label><div class=\"sk-toggleable__content\"><pre>LogisticRegression()</pre></div></div></div></div></div>"
      ],
      "text/plain": [
       "LogisticRegression()"
      ]
     },
     "execution_count": 125,
     "metadata": {},
     "output_type": "execute_result"
    }
   ],
   "source": [
    "from sklearn.linear_model import LogisticRegression\n",
    "logmodel=LogisticRegression()\n",
    "logmodel.fit(X_train, y_train)"
   ]
  },
  {
   "cell_type": "code",
   "execution_count": 126,
   "id": "63defb37",
   "metadata": {},
   "outputs": [],
   "source": [
    "predictions=logmodel.predict(X_test)"
   ]
  },
  {
   "cell_type": "code",
   "execution_count": 127,
   "id": "d0e41862",
   "metadata": {},
   "outputs": [
    {
     "name": "stdout",
     "output_type": "stream",
     "text": [
      "              precision    recall  f1-score   support\n",
      "\n",
      "           0       0.91      0.72      0.80      1033\n",
      "           1       0.50      0.79      0.62       374\n",
      "\n",
      "    accuracy                           0.74      1407\n",
      "   macro avg       0.71      0.76      0.71      1407\n",
      "weighted avg       0.80      0.74      0.75      1407\n",
      "\n"
     ]
    }
   ],
   "source": [
    "from sklearn.metrics import classification_report\n",
    "print(classification_report(y_test, predictions))"
   ]
  },
  {
   "cell_type": "code",
   "execution_count": 128,
   "id": "12c93edb",
   "metadata": {},
   "outputs": [
    {
     "name": "stdout",
     "output_type": "stream",
     "text": [
      "44/44 [==============================] - 0s 1ms/step - loss: 0.3766 - accuracy: 0.8372\n"
     ]
    },
    {
     "data": {
      "text/plain": [
       "[0.37657859921455383, 0.8372423648834229]"
      ]
     },
     "execution_count": 128,
     "metadata": {},
     "output_type": "execute_result"
    }
   ],
   "source": [
    "model.evaluate(X_test, y_test)"
   ]
  },
  {
   "cell_type": "code",
   "execution_count": 48,
   "id": "5e442a82",
   "metadata": {},
   "outputs": [],
   "source": [
    "#Build a model (ANN) in tensorflow/keras"
   ]
  },
  {
   "cell_type": "code",
   "execution_count": 49,
   "id": "30f35c21",
   "metadata": {},
   "outputs": [
    {
     "name": "stdout",
     "output_type": "stream",
     "text": [
      "Epoch 1/100\n",
      "176/176 [==============================] - 1s 2ms/step - loss: 0.4979 - accuracy: 0.7547\n",
      "Epoch 2/100\n",
      "176/176 [==============================] - 0s 2ms/step - loss: 0.4265 - accuracy: 0.7932\n",
      "Epoch 3/100\n",
      "176/176 [==============================] - 0s 1ms/step - loss: 0.4213 - accuracy: 0.7952\n",
      "Epoch 4/100\n",
      "176/176 [==============================] - 0s 2ms/step - loss: 0.4176 - accuracy: 0.7996\n",
      "Epoch 5/100\n",
      "176/176 [==============================] - 0s 2ms/step - loss: 0.4151 - accuracy: 0.8030\n",
      "Epoch 6/100\n",
      "176/176 [==============================] - 0s 1ms/step - loss: 0.4138 - accuracy: 0.7979\n",
      "Epoch 7/100\n",
      "176/176 [==============================] - 0s 2ms/step - loss: 0.4112 - accuracy: 0.8027\n",
      "Epoch 8/100\n",
      "176/176 [==============================] - 0s 1ms/step - loss: 0.4098 - accuracy: 0.8046\n",
      "Epoch 9/100\n",
      "176/176 [==============================] - 0s 2ms/step - loss: 0.4100 - accuracy: 0.8071\n",
      "Epoch 10/100\n",
      "176/176 [==============================] - 0s 1ms/step - loss: 0.4071 - accuracy: 0.8075\n",
      "Epoch 11/100\n",
      "176/176 [==============================] - 0s 1ms/step - loss: 0.4056 - accuracy: 0.8043\n",
      "Epoch 12/100\n",
      "176/176 [==============================] - 0s 1ms/step - loss: 0.4044 - accuracy: 0.8116\n",
      "Epoch 13/100\n",
      "176/176 [==============================] - 0s 1ms/step - loss: 0.4035 - accuracy: 0.8098\n",
      "Epoch 14/100\n",
      "176/176 [==============================] - 0s 1ms/step - loss: 0.4012 - accuracy: 0.8105\n",
      "Epoch 15/100\n",
      "176/176 [==============================] - 0s 1ms/step - loss: 0.4008 - accuracy: 0.8105\n",
      "Epoch 16/100\n",
      "176/176 [==============================] - 0s 1ms/step - loss: 0.3992 - accuracy: 0.8112\n",
      "Epoch 17/100\n",
      "176/176 [==============================] - 0s 2ms/step - loss: 0.3978 - accuracy: 0.8153\n",
      "Epoch 18/100\n",
      "176/176 [==============================] - 0s 2ms/step - loss: 0.3957 - accuracy: 0.8121\n",
      "Epoch 19/100\n",
      "176/176 [==============================] - 0s 1ms/step - loss: 0.3959 - accuracy: 0.8135\n",
      "Epoch 20/100\n",
      "176/176 [==============================] - 0s 1ms/step - loss: 0.3934 - accuracy: 0.8144\n",
      "Epoch 21/100\n",
      "176/176 [==============================] - 0s 1ms/step - loss: 0.3931 - accuracy: 0.8180\n",
      "Epoch 22/100\n",
      "176/176 [==============================] - 0s 2ms/step - loss: 0.3909 - accuracy: 0.8169\n",
      "Epoch 23/100\n",
      "176/176 [==============================] - 0s 1ms/step - loss: 0.3900 - accuracy: 0.8181\n",
      "Epoch 24/100\n",
      "176/176 [==============================] - 0s 2ms/step - loss: 0.3896 - accuracy: 0.8176\n",
      "Epoch 25/100\n",
      "176/176 [==============================] - 0s 1ms/step - loss: 0.3877 - accuracy: 0.8180\n",
      "Epoch 26/100\n",
      "176/176 [==============================] - 0s 1ms/step - loss: 0.3862 - accuracy: 0.8194\n",
      "Epoch 27/100\n",
      "176/176 [==============================] - 0s 1ms/step - loss: 0.3858 - accuracy: 0.8180\n",
      "Epoch 28/100\n",
      "176/176 [==============================] - 0s 2ms/step - loss: 0.3845 - accuracy: 0.8233\n",
      "Epoch 29/100\n",
      "176/176 [==============================] - 0s 1ms/step - loss: 0.3849 - accuracy: 0.8190\n",
      "Epoch 30/100\n",
      "176/176 [==============================] - 0s 1ms/step - loss: 0.3843 - accuracy: 0.8208\n",
      "Epoch 31/100\n",
      "176/176 [==============================] - 0s 1ms/step - loss: 0.3811 - accuracy: 0.8245\n",
      "Epoch 32/100\n",
      "176/176 [==============================] - 0s 1ms/step - loss: 0.3806 - accuracy: 0.8233\n",
      "Epoch 33/100\n",
      "176/176 [==============================] - 0s 2ms/step - loss: 0.3813 - accuracy: 0.8229\n",
      "Epoch 34/100\n",
      "176/176 [==============================] - 0s 1ms/step - loss: 0.3786 - accuracy: 0.8222\n",
      "Epoch 35/100\n",
      "176/176 [==============================] - 0s 1ms/step - loss: 0.3793 - accuracy: 0.8236\n",
      "Epoch 36/100\n",
      "176/176 [==============================] - 0s 1ms/step - loss: 0.3769 - accuracy: 0.8231\n",
      "Epoch 37/100\n",
      "176/176 [==============================] - 0s 1ms/step - loss: 0.3775 - accuracy: 0.8212\n",
      "Epoch 38/100\n",
      "176/176 [==============================] - 0s 2ms/step - loss: 0.3757 - accuracy: 0.8228\n",
      "Epoch 39/100\n",
      "176/176 [==============================] - 0s 2ms/step - loss: 0.3753 - accuracy: 0.8220\n",
      "Epoch 40/100\n",
      "176/176 [==============================] - 0s 2ms/step - loss: 0.3744 - accuracy: 0.8226\n",
      "Epoch 41/100\n",
      "176/176 [==============================] - 0s 1ms/step - loss: 0.3730 - accuracy: 0.8254\n",
      "Epoch 42/100\n",
      "176/176 [==============================] - 0s 1ms/step - loss: 0.3733 - accuracy: 0.8260\n",
      "Epoch 43/100\n",
      "176/176 [==============================] - 0s 2ms/step - loss: 0.3732 - accuracy: 0.8265\n",
      "Epoch 44/100\n",
      "176/176 [==============================] - 0s 1ms/step - loss: 0.3722 - accuracy: 0.8279\n",
      "Epoch 45/100\n",
      "176/176 [==============================] - 0s 2ms/step - loss: 0.3715 - accuracy: 0.8236\n",
      "Epoch 46/100\n",
      "176/176 [==============================] - 0s 2ms/step - loss: 0.3702 - accuracy: 0.8265\n",
      "Epoch 47/100\n",
      "176/176 [==============================] - 0s 2ms/step - loss: 0.3691 - accuracy: 0.8270\n",
      "Epoch 48/100\n",
      "176/176 [==============================] - 0s 1ms/step - loss: 0.3685 - accuracy: 0.8274\n",
      "Epoch 49/100\n",
      "176/176 [==============================] - 0s 2ms/step - loss: 0.3676 - accuracy: 0.8297\n",
      "Epoch 50/100\n",
      "176/176 [==============================] - 0s 2ms/step - loss: 0.3668 - accuracy: 0.8308\n",
      "Epoch 51/100\n",
      "176/176 [==============================] - 0s 1ms/step - loss: 0.3658 - accuracy: 0.8325\n",
      "Epoch 52/100\n",
      "176/176 [==============================] - 0s 1ms/step - loss: 0.3657 - accuracy: 0.8320\n",
      "Epoch 53/100\n",
      "176/176 [==============================] - 0s 1ms/step - loss: 0.3644 - accuracy: 0.8299\n",
      "Epoch 54/100\n",
      "176/176 [==============================] - 0s 2ms/step - loss: 0.3643 - accuracy: 0.8318\n",
      "Epoch 55/100\n",
      "176/176 [==============================] - 0s 1ms/step - loss: 0.3638 - accuracy: 0.8297\n",
      "Epoch 56/100\n",
      "176/176 [==============================] - 0s 1ms/step - loss: 0.3633 - accuracy: 0.8308\n",
      "Epoch 57/100\n",
      "176/176 [==============================] - 0s 2ms/step - loss: 0.3628 - accuracy: 0.8290\n",
      "Epoch 58/100\n",
      "176/176 [==============================] - 0s 1ms/step - loss: 0.3630 - accuracy: 0.8329\n",
      "Epoch 59/100\n",
      "176/176 [==============================] - 0s 1ms/step - loss: 0.3614 - accuracy: 0.8325\n",
      "Epoch 60/100\n",
      "176/176 [==============================] - 0s 1ms/step - loss: 0.3600 - accuracy: 0.8316\n",
      "Epoch 61/100\n",
      "176/176 [==============================] - 0s 1ms/step - loss: 0.3585 - accuracy: 0.8320\n",
      "Epoch 62/100\n",
      "176/176 [==============================] - 0s 2ms/step - loss: 0.3595 - accuracy: 0.8304\n",
      "Epoch 63/100\n",
      "176/176 [==============================] - 0s 1ms/step - loss: 0.3593 - accuracy: 0.8322\n",
      "Epoch 64/100\n",
      "176/176 [==============================] - 0s 1ms/step - loss: 0.3571 - accuracy: 0.8331\n",
      "Epoch 65/100\n",
      "176/176 [==============================] - 0s 1ms/step - loss: 0.3552 - accuracy: 0.8341\n",
      "Epoch 66/100\n",
      "176/176 [==============================] - 0s 1ms/step - loss: 0.3567 - accuracy: 0.8329\n",
      "Epoch 67/100\n",
      "176/176 [==============================] - 0s 1ms/step - loss: 0.3558 - accuracy: 0.8363\n",
      "Epoch 68/100\n",
      "176/176 [==============================] - 0s 1ms/step - loss: 0.3540 - accuracy: 0.8343\n",
      "Epoch 69/100\n",
      "176/176 [==============================] - 0s 1ms/step - loss: 0.3530 - accuracy: 0.8357\n",
      "Epoch 70/100\n",
      "176/176 [==============================] - 0s 1ms/step - loss: 0.3546 - accuracy: 0.8363\n",
      "Epoch 71/100\n",
      "176/176 [==============================] - 0s 1ms/step - loss: 0.3517 - accuracy: 0.8382\n",
      "Epoch 72/100\n",
      "176/176 [==============================] - 0s 2ms/step - loss: 0.3526 - accuracy: 0.8393\n",
      "Epoch 73/100\n",
      "176/176 [==============================] - 0s 1ms/step - loss: 0.3511 - accuracy: 0.8338\n",
      "Epoch 74/100\n",
      "176/176 [==============================] - 0s 1ms/step - loss: 0.3515 - accuracy: 0.8345\n",
      "Epoch 75/100\n",
      "176/176 [==============================] - 0s 1ms/step - loss: 0.3505 - accuracy: 0.8377\n",
      "Epoch 76/100\n",
      "176/176 [==============================] - 0s 2ms/step - loss: 0.3512 - accuracy: 0.8373\n",
      "Epoch 77/100\n",
      "176/176 [==============================] - 0s 2ms/step - loss: 0.3503 - accuracy: 0.8372\n",
      "Epoch 78/100\n",
      "176/176 [==============================] - 0s 2ms/step - loss: 0.3513 - accuracy: 0.8336\n",
      "Epoch 79/100\n",
      "176/176 [==============================] - 0s 2ms/step - loss: 0.3480 - accuracy: 0.8391\n",
      "Epoch 80/100\n",
      "176/176 [==============================] - 0s 2ms/step - loss: 0.3481 - accuracy: 0.8400\n",
      "Epoch 81/100\n",
      "176/176 [==============================] - 0s 1ms/step - loss: 0.3469 - accuracy: 0.8380\n",
      "Epoch 82/100\n",
      "176/176 [==============================] - 0s 2ms/step - loss: 0.3488 - accuracy: 0.8396\n",
      "Epoch 83/100\n",
      "176/176 [==============================] - 0s 1ms/step - loss: 0.3464 - accuracy: 0.8363\n",
      "Epoch 84/100\n",
      "176/176 [==============================] - 0s 2ms/step - loss: 0.3457 - accuracy: 0.8421\n",
      "Epoch 85/100\n",
      "176/176 [==============================] - 0s 1ms/step - loss: 0.3450 - accuracy: 0.8398\n",
      "Epoch 86/100\n",
      "176/176 [==============================] - 0s 1ms/step - loss: 0.3447 - accuracy: 0.8443\n",
      "Epoch 87/100\n",
      "176/176 [==============================] - 0s 2ms/step - loss: 0.3439 - accuracy: 0.8444\n",
      "Epoch 88/100\n",
      "176/176 [==============================] - 0s 2ms/step - loss: 0.3447 - accuracy: 0.8380\n",
      "Epoch 89/100\n",
      "176/176 [==============================] - 0s 2ms/step - loss: 0.3447 - accuracy: 0.8416\n",
      "Epoch 90/100\n",
      "176/176 [==============================] - 0s 2ms/step - loss: 0.3427 - accuracy: 0.8416\n",
      "Epoch 91/100\n",
      "176/176 [==============================] - 0s 1ms/step - loss: 0.3425 - accuracy: 0.8464\n",
      "Epoch 92/100\n",
      "176/176 [==============================] - 0s 1ms/step - loss: 0.3433 - accuracy: 0.8423\n",
      "Epoch 93/100\n",
      "176/176 [==============================] - 0s 2ms/step - loss: 0.3404 - accuracy: 0.8460\n",
      "Epoch 94/100\n",
      "176/176 [==============================] - 0s 2ms/step - loss: 0.3413 - accuracy: 0.8400\n",
      "Epoch 95/100\n",
      "176/176 [==============================] - 0s 2ms/step - loss: 0.3389 - accuracy: 0.8439\n",
      "Epoch 96/100\n",
      "176/176 [==============================] - 0s 1ms/step - loss: 0.3406 - accuracy: 0.8443\n",
      "Epoch 97/100\n",
      "176/176 [==============================] - 0s 2ms/step - loss: 0.3395 - accuracy: 0.8450\n",
      "Epoch 98/100\n",
      "176/176 [==============================] - 0s 2ms/step - loss: 0.3393 - accuracy: 0.8473\n",
      "Epoch 99/100\n",
      "176/176 [==============================] - 0s 1ms/step - loss: 0.3380 - accuracy: 0.8468\n",
      "Epoch 100/100\n",
      "176/176 [==============================] - 0s 1ms/step - loss: 0.3364 - accuracy: 0.8432\n"
     ]
    },
    {
     "data": {
      "text/plain": [
       "<keras.src.callbacks.History at 0x2257d87f880>"
      ]
     },
     "execution_count": 49,
     "metadata": {},
     "output_type": "execute_result"
    }
   ],
   "source": [
    "import tensorflow as tf\n",
    "from tensorflow import keras\n",
    "\n",
    "\n",
    "model = keras.Sequential([\n",
    "    keras.layers.Dense(26, input_shape=(26,), activation='relu'),\n",
    "    keras.layers.Dense(30, activation='relu'),\n",
    "    keras.layers.Dense(1, activation='sigmoid')\n",
    "])\n",
    "\n",
    "# opt = keras.optimizers.Adam(learning_rate=0.01)\n",
    "\n",
    "model.compile(optimizer='adam',\n",
    "              loss='binary_crossentropy',\n",
    "              metrics=['accuracy'])\n",
    "\n",
    "model.fit(X_train, y_train, epochs=100)"
   ]
  },
  {
   "cell_type": "code",
   "execution_count": 50,
   "id": "887705f9",
   "metadata": {},
   "outputs": [
    {
     "name": "stdout",
     "output_type": "stream",
     "text": [
      "44/44 [==============================] - 0s 818us/step\n"
     ]
    }
   ],
   "source": [
    "yp = model.predict(X_test)"
   ]
  },
  {
   "cell_type": "code",
   "execution_count": 51,
   "id": "13a5e49b",
   "metadata": {},
   "outputs": [
    {
     "name": "stdout",
     "output_type": "stream",
     "text": [
      "44/44 [==============================] - 0s 975us/step - loss: 0.4814 - accuracy: 0.7754\n"
     ]
    },
    {
     "data": {
      "text/plain": [
       "[0.4813825488090515, 0.7754086852073669]"
      ]
     },
     "execution_count": 51,
     "metadata": {},
     "output_type": "execute_result"
    }
   ],
   "source": [
    "model.evaluate(X_test, y_test)"
   ]
  },
  {
   "cell_type": "code",
   "execution_count": 52,
   "id": "4b4e88b4",
   "metadata": {},
   "outputs": [
    {
     "data": {
      "text/plain": [
       "array([[0.02117427],\n",
       "       [0.8760873 ],\n",
       "       [0.00419118],\n",
       "       [0.21659952],\n",
       "       [0.1650381 ],\n",
       "       [0.6558617 ],\n",
       "       [0.04557585],\n",
       "       [0.11122579],\n",
       "       [0.7743849 ],\n",
       "       [0.00769632]], dtype=float32)"
      ]
     },
     "execution_count": 52,
     "metadata": {},
     "output_type": "execute_result"
    }
   ],
   "source": [
    "yp[:10]"
   ]
  },
  {
   "cell_type": "code",
   "execution_count": 53,
   "id": "0a877124",
   "metadata": {},
   "outputs": [],
   "source": [
    "#as y_test is either 0 or 1 and predicted value is coming as 2 dimentional array with float numbers \n",
    "#so we will make the predicted value eith 0 or 1 as sigmoid function"
   ]
  },
  {
   "cell_type": "code",
   "execution_count": 54,
   "id": "7ac232d8",
   "metadata": {},
   "outputs": [],
   "source": [
    "y_pred = []\n",
    "for element in yp:\n",
    "    if element > 0.5:\n",
    "        y_pred.append(1)\n",
    "    else:\n",
    "        y_pred.append(0) "
   ]
  },
  {
   "cell_type": "code",
   "execution_count": 55,
   "id": "25817598",
   "metadata": {},
   "outputs": [
    {
     "data": {
      "text/plain": [
       "[0, 1, 0, 0, 0, 1, 0, 0, 1, 0]"
      ]
     },
     "execution_count": 55,
     "metadata": {},
     "output_type": "execute_result"
    }
   ],
   "source": [
    "y_pred[:10]"
   ]
  },
  {
   "cell_type": "code",
   "execution_count": 56,
   "id": "6d7e1277",
   "metadata": {},
   "outputs": [
    {
     "data": {
      "text/plain": [
       "974     0\n",
       "619     0\n",
       "4289    0\n",
       "3721    1\n",
       "4533    0\n",
       "445     1\n",
       "5898    0\n",
       "3387    0\n",
       "1346    1\n",
       "5690    0\n",
       "Name: Churn, dtype: int64"
      ]
     },
     "execution_count": 56,
     "metadata": {},
     "output_type": "execute_result"
    }
   ],
   "source": [
    "y_test[:10]"
   ]
  },
  {
   "cell_type": "code",
   "execution_count": 57,
   "id": "42cd89c0",
   "metadata": {},
   "outputs": [
    {
     "name": "stdout",
     "output_type": "stream",
     "text": [
      "              precision    recall  f1-score   support\n",
      "\n",
      "           0       0.84      0.86      0.85      1033\n",
      "           1       0.59      0.53      0.56       374\n",
      "\n",
      "    accuracy                           0.78      1407\n",
      "   macro avg       0.71      0.70      0.70      1407\n",
      "weighted avg       0.77      0.78      0.77      1407\n",
      "\n"
     ]
    }
   ],
   "source": [
    "from sklearn.metrics import confusion_matrix , classification_report\n",
    "\n",
    "print(classification_report(y_test, y_pred))"
   ]
  },
  {
   "cell_type": "code",
   "execution_count": 58,
   "id": "03a0e29d",
   "metadata": {},
   "outputs": [
    {
     "data": {
      "text/plain": [
       "Text(69.0, 0.5, 'Truth')"
      ]
     },
     "execution_count": 58,
     "metadata": {},
     "output_type": "execute_result"
    },
    {
     "data": {
      "image/png": "[encoded data removed]",
      "text/plain": [
       "<Figure size 720x504 with 2 Axes>"
      ]
     },
     "metadata": {
      "needs_background": "light"
     },
     "output_type": "display_data"
    }
   ],
   "source": [
    "cm = tf.math.confusion_matrix(labels=y_test,predictions=y_pred)\n",
    "\n",
    "plt.figure(figsize = (10,7))\n",
    "sns.heatmap(cm, annot=True, fmt='d')\n",
    "plt.xlabel('Predicted')\n",
    "plt.ylabel('Truth')"
   ]
  },
  {
   "cell_type": "code",
   "execution_count": 59,
   "id": "cdd18423",
   "metadata": {},
   "outputs": [],
   "source": [
    "#model with drop out layer with batch gradient descent to avoid the over fitting and underfitting"
   ]
  },
  {
   "cell_type": "code",
   "execution_count": 60,
   "id": "04a4b67d",
   "metadata": {},
   "outputs": [
    {
     "name": "stdout",
     "output_type": "stream",
     "text": [
      "Epoch 1/100\n",
      "704/704 [==============================] - 2s 1ms/step - loss: 0.5369 - accuracy: 0.7189\n",
      "Epoch 2/100\n",
      "704/704 [==============================] - 1s 1ms/step - loss: 0.4698 - accuracy: 0.7678\n",
      "Epoch 3/100\n",
      "704/704 [==============================] - 1s 1ms/step - loss: 0.4612 - accuracy: 0.7797\n",
      "Epoch 4/100\n",
      "704/704 [==============================] - 1s 1ms/step - loss: 0.4499 - accuracy: 0.7804\n",
      "Epoch 5/100\n",
      "704/704 [==============================] - 1s 1ms/step - loss: 0.4457 - accuracy: 0.7876\n",
      "Epoch 6/100\n",
      "704/704 [==============================] - 1s 1ms/step - loss: 0.4443 - accuracy: 0.7824\n",
      "Epoch 7/100\n",
      "704/704 [==============================] - 1s 1ms/step - loss: 0.4403 - accuracy: 0.7881\n",
      "Epoch 8/100\n",
      "704/704 [==============================] - 1s 1ms/step - loss: 0.4397 - accuracy: 0.7854\n",
      "Epoch 9/100\n",
      "704/704 [==============================] - 1s 1ms/step - loss: 0.4328 - accuracy: 0.7966\n",
      "Epoch 10/100\n",
      "704/704 [==============================] - 1s 1ms/step - loss: 0.4322 - accuracy: 0.7945\n",
      "Epoch 11/100\n",
      "704/704 [==============================] - 1s 1ms/step - loss: 0.4318 - accuracy: 0.7956\n",
      "Epoch 12/100\n",
      "704/704 [==============================] - 1s 1ms/step - loss: 0.4339 - accuracy: 0.8014\n",
      "Epoch 13/100\n",
      "704/704 [==============================] - 1s 1ms/step - loss: 0.4282 - accuracy: 0.7998\n",
      "Epoch 14/100\n",
      "704/704 [==============================] - 1s 1ms/step - loss: 0.4243 - accuracy: 0.7961\n",
      "Epoch 15/100\n",
      "704/704 [==============================] - 1s 2ms/step - loss: 0.4245 - accuracy: 0.7982\n",
      "Epoch 16/100\n",
      "704/704 [==============================] - 1s 1ms/step - loss: 0.4288 - accuracy: 0.7975\n",
      "Epoch 17/100\n",
      "704/704 [==============================] - 1s 2ms/step - loss: 0.4274 - accuracy: 0.7945\n",
      "Epoch 18/100\n",
      "704/704 [==============================] - 1s 1ms/step - loss: 0.4293 - accuracy: 0.7957\n",
      "Epoch 19/100\n",
      "704/704 [==============================] - 1s 1ms/step - loss: 0.4199 - accuracy: 0.8012\n",
      "Epoch 20/100\n",
      "704/704 [==============================] - 1s 1ms/step - loss: 0.4242 - accuracy: 0.8021\n",
      "Epoch 21/100\n",
      "704/704 [==============================] - 1s 1ms/step - loss: 0.4233 - accuracy: 0.7989\n",
      "Epoch 22/100\n",
      "704/704 [==============================] - 1s 1ms/step - loss: 0.4258 - accuracy: 0.7993\n",
      "Epoch 23/100\n",
      "704/704 [==============================] - 1s 1ms/step - loss: 0.4217 - accuracy: 0.7995\n",
      "Epoch 24/100\n",
      "704/704 [==============================] - 1s 1ms/step - loss: 0.4259 - accuracy: 0.8009\n",
      "Epoch 25/100\n",
      "704/704 [==============================] - 1s 1ms/step - loss: 0.4228 - accuracy: 0.8023\n",
      "Epoch 26/100\n",
      "704/704 [==============================] - 1s 1ms/step - loss: 0.4193 - accuracy: 0.8004\n",
      "Epoch 27/100\n",
      "704/704 [==============================] - 1s 1ms/step - loss: 0.4204 - accuracy: 0.8075\n",
      "Epoch 28/100\n",
      "704/704 [==============================] - 1s 1ms/step - loss: 0.4200 - accuracy: 0.8025\n",
      "Epoch 29/100\n",
      "704/704 [==============================] - 1s 1ms/step - loss: 0.4214 - accuracy: 0.8025\n",
      "Epoch 30/100\n",
      "704/704 [==============================] - 1s 1ms/step - loss: 0.4205 - accuracy: 0.8032\n",
      "Epoch 31/100\n",
      "704/704 [==============================] - 1s 1ms/step - loss: 0.4200 - accuracy: 0.8023\n",
      "Epoch 32/100\n",
      "704/704 [==============================] - 1s 1ms/step - loss: 0.4176 - accuracy: 0.8036\n",
      "Epoch 33/100\n",
      "704/704 [==============================] - 1s 1ms/step - loss: 0.4223 - accuracy: 0.8055\n",
      "Epoch 34/100\n",
      "704/704 [==============================] - 1s 1ms/step - loss: 0.4201 - accuracy: 0.8037\n",
      "Epoch 35/100\n",
      "704/704 [==============================] - 1s 1ms/step - loss: 0.4227 - accuracy: 0.8009\n",
      "Epoch 36/100\n",
      "704/704 [==============================] - 1s 1ms/step - loss: 0.4140 - accuracy: 0.8041\n",
      "Epoch 37/100\n",
      "704/704 [==============================] - 1s 1ms/step - loss: 0.4182 - accuracy: 0.7984\n",
      "Epoch 38/100\n",
      "704/704 [==============================] - 1s 1ms/step - loss: 0.4153 - accuracy: 0.8025\n",
      "Epoch 39/100\n",
      "704/704 [==============================] - 1s 1ms/step - loss: 0.4152 - accuracy: 0.8046\n",
      "Epoch 40/100\n",
      "704/704 [==============================] - 1s 1ms/step - loss: 0.4214 - accuracy: 0.8037\n",
      "Epoch 41/100\n",
      "704/704 [==============================] - 1s 1ms/step - loss: 0.4146 - accuracy: 0.8028\n",
      "Epoch 42/100\n",
      "704/704 [==============================] - 1s 1ms/step - loss: 0.4153 - accuracy: 0.8007\n",
      "Epoch 43/100\n",
      "704/704 [==============================] - 1s 1ms/step - loss: 0.4131 - accuracy: 0.8025\n",
      "Epoch 44/100\n",
      "704/704 [==============================] - 1s 2ms/step - loss: 0.4106 - accuracy: 0.8050\n",
      "Epoch 45/100\n",
      "704/704 [==============================] - 1s 2ms/step - loss: 0.4214 - accuracy: 0.8036\n",
      "Epoch 46/100\n",
      "704/704 [==============================] - 1s 1ms/step - loss: 0.4151 - accuracy: 0.7998\n",
      "Epoch 47/100\n",
      "704/704 [==============================] - 1s 1ms/step - loss: 0.4190 - accuracy: 0.7975\n",
      "Epoch 48/100\n",
      "704/704 [==============================] - 1s 1ms/step - loss: 0.4168 - accuracy: 0.8037\n",
      "Epoch 49/100\n",
      "704/704 [==============================] - 1s 1ms/step - loss: 0.4173 - accuracy: 0.8027\n",
      "Epoch 50/100\n",
      "704/704 [==============================] - 1s 2ms/step - loss: 0.4168 - accuracy: 0.8041\n",
      "Epoch 51/100\n",
      "704/704 [==============================] - 1s 1ms/step - loss: 0.4117 - accuracy: 0.8084\n",
      "Epoch 52/100\n",
      "704/704 [==============================] - 1s 1ms/step - loss: 0.4142 - accuracy: 0.8084\n",
      "Epoch 53/100\n",
      "704/704 [==============================] - 1s 2ms/step - loss: 0.4125 - accuracy: 0.8002\n",
      "Epoch 54/100\n",
      "704/704 [==============================] - 1s 1ms/step - loss: 0.4149 - accuracy: 0.8094\n",
      "Epoch 55/100\n",
      "704/704 [==============================] - 1s 2ms/step - loss: 0.4113 - accuracy: 0.8057\n",
      "Epoch 56/100\n",
      "704/704 [==============================] - 1s 2ms/step - loss: 0.4144 - accuracy: 0.8043\n",
      "Epoch 57/100\n",
      "704/704 [==============================] - 1s 2ms/step - loss: 0.4090 - accuracy: 0.8060\n",
      "Epoch 58/100\n",
      "704/704 [==============================] - 1s 2ms/step - loss: 0.4130 - accuracy: 0.8030\n",
      "Epoch 59/100\n",
      "704/704 [==============================] - 1s 1ms/step - loss: 0.4161 - accuracy: 0.8053\n",
      "Epoch 60/100\n",
      "704/704 [==============================] - 1s 1ms/step - loss: 0.4179 - accuracy: 0.8055\n",
      "Epoch 61/100\n",
      "704/704 [==============================] - 1s 2ms/step - loss: 0.4138 - accuracy: 0.8060\n",
      "Epoch 62/100\n",
      "704/704 [==============================] - 1s 1ms/step - loss: 0.4136 - accuracy: 0.8036\n",
      "Epoch 63/100\n",
      "704/704 [==============================] - 1s 1ms/step - loss: 0.4163 - accuracy: 0.8064\n",
      "Epoch 64/100\n",
      "704/704 [==============================] - 1s 1ms/step - loss: 0.4070 - accuracy: 0.8121\n",
      "Epoch 65/100\n",
      "704/704 [==============================] - 1s 1ms/step - loss: 0.4135 - accuracy: 0.8080\n",
      "Epoch 66/100\n",
      "704/704 [==============================] - 1s 1ms/step - loss: 0.4146 - accuracy: 0.8028\n",
      "Epoch 67/100\n",
      "704/704 [==============================] - 1s 1ms/step - loss: 0.4134 - accuracy: 0.8037\n",
      "Epoch 68/100\n",
      "704/704 [==============================] - 1s 1ms/step - loss: 0.4137 - accuracy: 0.8053\n",
      "Epoch 69/100\n",
      "704/704 [==============================] - 1s 1ms/step - loss: 0.4126 - accuracy: 0.8068\n",
      "Epoch 70/100\n",
      "704/704 [==============================] - 1s 1ms/step - loss: 0.4100 - accuracy: 0.8126\n",
      "Epoch 71/100\n",
      "704/704 [==============================] - 1s 1ms/step - loss: 0.4084 - accuracy: 0.8082\n",
      "Epoch 72/100\n",
      "704/704 [==============================] - 1s 1ms/step - loss: 0.4113 - accuracy: 0.8068\n",
      "Epoch 73/100\n",
      "704/704 [==============================] - 1s 1ms/step - loss: 0.4090 - accuracy: 0.8059\n",
      "Epoch 74/100\n",
      "704/704 [==============================] - 1s 1ms/step - loss: 0.4129 - accuracy: 0.8068\n",
      "Epoch 75/100\n",
      "704/704 [==============================] - 1s 1ms/step - loss: 0.4107 - accuracy: 0.8055\n",
      "Epoch 76/100\n",
      "704/704 [==============================] - 1s 1ms/step - loss: 0.4122 - accuracy: 0.8053\n",
      "Epoch 77/100\n",
      "704/704 [==============================] - 1s 1ms/step - loss: 0.4099 - accuracy: 0.8052\n",
      "Epoch 78/100\n",
      "704/704 [==============================] - 1s 1ms/step - loss: 0.4061 - accuracy: 0.8068\n",
      "Epoch 79/100\n",
      "704/704 [==============================] - 1s 1ms/step - loss: 0.4115 - accuracy: 0.8087\n",
      "Epoch 80/100\n",
      "704/704 [==============================] - 1s 1ms/step - loss: 0.4131 - accuracy: 0.8080\n",
      "Epoch 81/100\n",
      "704/704 [==============================] - 1s 1ms/step - loss: 0.4121 - accuracy: 0.8059\n",
      "Epoch 82/100\n",
      "704/704 [==============================] - 1s 1ms/step - loss: 0.4071 - accuracy: 0.8092\n",
      "Epoch 83/100\n",
      "704/704 [==============================] - 1s 1ms/step - loss: 0.4099 - accuracy: 0.8110\n",
      "Epoch 84/100\n",
      "704/704 [==============================] - 1s 1ms/step - loss: 0.4081 - accuracy: 0.8091\n",
      "Epoch 85/100\n",
      "704/704 [==============================] - 1s 1ms/step - loss: 0.4129 - accuracy: 0.8075\n",
      "Epoch 86/100\n",
      "704/704 [==============================] - 1s 1ms/step - loss: 0.4143 - accuracy: 0.8057\n",
      "Epoch 87/100\n",
      "704/704 [==============================] - 1s 1ms/step - loss: 0.4122 - accuracy: 0.8064\n",
      "Epoch 88/100\n",
      "704/704 [==============================] - 1s 1ms/step - loss: 0.4115 - accuracy: 0.8060\n",
      "Epoch 89/100\n",
      "704/704 [==============================] - 1s 2ms/step - loss: 0.4086 - accuracy: 0.8069\n",
      "Epoch 90/100\n",
      "704/704 [==============================] - 1s 2ms/step - loss: 0.4097 - accuracy: 0.8112\n",
      "Epoch 91/100\n",
      "704/704 [==============================] - 1s 2ms/step - loss: 0.4036 - accuracy: 0.8112\n",
      "Epoch 92/100\n",
      "704/704 [==============================] - 1s 2ms/step - loss: 0.3995 - accuracy: 0.8096\n",
      "Epoch 93/100\n",
      "704/704 [==============================] - 1s 2ms/step - loss: 0.4131 - accuracy: 0.8103\n",
      "Epoch 94/100\n",
      "704/704 [==============================] - 1s 1ms/step - loss: 0.4090 - accuracy: 0.8055\n",
      "Epoch 95/100\n",
      "704/704 [==============================] - 1s 2ms/step - loss: 0.4109 - accuracy: 0.8021\n",
      "Epoch 96/100\n",
      "704/704 [==============================] - 1s 1ms/step - loss: 0.4068 - accuracy: 0.8078\n",
      "Epoch 97/100\n",
      "704/704 [==============================] - 1s 1ms/step - loss: 0.4094 - accuracy: 0.8073\n",
      "Epoch 98/100\n",
      "704/704 [==============================] - 1s 1ms/step - loss: 0.4057 - accuracy: 0.8071\n",
      "Epoch 99/100\n",
      "704/704 [==============================] - 1s 1ms/step - loss: 0.4057 - accuracy: 0.8098\n",
      "Epoch 100/100\n",
      "704/704 [==============================] - 1s 1ms/step - loss: 0.4076 - accuracy: 0.8046\n"
     ]
    },
    {
     "data": {
      "text/plain": [
       "<keras.src.callbacks.History at 0x2257f3b3700>"
      ]
     },
     "execution_count": 60,
     "metadata": {},
     "output_type": "execute_result"
    }
   ],
   "source": [
    "modeld = keras.Sequential([\n",
    "    keras.layers.Dense(26, input_shape=(26,), activation='relu'),\n",
    "    keras.layers.Dropout(0.5),\n",
    "    keras.layers.Dense(30, activation='relu'),\n",
    "    keras.layers.Dropout(0.5),\n",
    "    keras.layers.Dense(1, activation='sigmoid')\n",
    "])\n",
    "\n",
    "modeld.compile(loss='binary_crossentropy', optimizer='adam', metrics=['accuracy'])\n",
    "\n",
    "modeld.fit(X_train, y_train, epochs=100, batch_size=8)"
   ]
  },
  {
   "cell_type": "code",
   "execution_count": 61,
   "id": "daecd160",
   "metadata": {},
   "outputs": [
    {
     "name": "stdout",
     "output_type": "stream",
     "text": [
      "44/44 [==============================] - 0s 2ms/step - loss: 0.4333 - accuracy: 0.7918\n"
     ]
    },
    {
     "data": {
      "text/plain": [
       "[0.4333451986312866, 0.7917554974555969]"
      ]
     },
     "execution_count": 61,
     "metadata": {},
     "output_type": "execute_result"
    }
   ],
   "source": [
    "modeld.evaluate(X_test, y_test)"
   ]
  },
  {
   "cell_type": "code",
   "execution_count": 62,
   "id": "0fbdef70",
   "metadata": {},
   "outputs": [
    {
     "name": "stdout",
     "output_type": "stream",
     "text": [
      "44/44 [==============================] - 0s 1ms/step\n"
     ]
    },
    {
     "data": {
      "text/plain": [
       "array([[0.01333124],\n",
       "       [0.6458988 ],\n",
       "       [0.00193767],\n",
       "       [0.3089938 ],\n",
       "       [0.0659445 ],\n",
       "       [0.44390124],\n",
       "       [0.02792912],\n",
       "       [0.19338922],\n",
       "       [0.60764027],\n",
       "       [0.01254668]], dtype=float32)"
      ]
     },
     "execution_count": 62,
     "metadata": {},
     "output_type": "execute_result"
    }
   ],
   "source": [
    "yp1=modeld.predict(X_test)\n",
    "yp1[:10]"
   ]
  },
  {
   "cell_type": "code",
   "execution_count": 63,
   "id": "c125f61d",
   "metadata": {},
   "outputs": [],
   "source": [
    "y_pred1 = []\n",
    "for element in yp1:\n",
    "    if element > 0.5:\n",
    "        y_pred1.append(1)\n",
    "    else:\n",
    "        y_pred1.append(0) "
   ]
  },
  {
   "cell_type": "code",
   "execution_count": 64,
   "id": "eb4110ce",
   "metadata": {},
   "outputs": [
    {
     "data": {
      "text/plain": [
       "[0, 1, 0, 0, 0, 0, 0, 0, 1, 0]"
      ]
     },
     "execution_count": 64,
     "metadata": {},
     "output_type": "execute_result"
    }
   ],
   "source": [
    "y_pred1[:10]"
   ]
  },
  {
   "cell_type": "code",
   "execution_count": 65,
   "id": "a42cf499",
   "metadata": {},
   "outputs": [
    {
     "data": {
      "text/plain": [
       "974     0\n",
       "619     0\n",
       "4289    0\n",
       "3721    1\n",
       "4533    0\n",
       "445     1\n",
       "5898    0\n",
       "3387    0\n",
       "1346    1\n",
       "5690    0\n",
       "Name: Churn, dtype: int64"
      ]
     },
     "execution_count": 65,
     "metadata": {},
     "output_type": "execute_result"
    }
   ],
   "source": [
    "y_test[:10]"
   ]
  },
  {
   "cell_type": "code",
   "execution_count": 66,
   "id": "d5544a04",
   "metadata": {},
   "outputs": [
    {
     "name": "stdout",
     "output_type": "stream",
     "text": [
      "              precision    recall  f1-score   support\n",
      "\n",
      "           0       0.83      0.90      0.86      1033\n",
      "           1       0.64      0.50      0.56       374\n",
      "\n",
      "    accuracy                           0.79      1407\n",
      "   macro avg       0.74      0.70      0.71      1407\n",
      "weighted avg       0.78      0.79      0.78      1407\n",
      "\n"
     ]
    }
   ],
   "source": [
    "print(classification_report(y_test, y_pred1))"
   ]
  },
  {
   "cell_type": "code",
   "execution_count": 67,
   "id": "2d14153a",
   "metadata": {},
   "outputs": [
    {
     "data": {
      "text/plain": [
       "Text(69.0, 0.5, 'Truth')"
      ]
     },
     "execution_count": 67,
     "metadata": {},
     "output_type": "execute_result"
    },
    {
     "data": {
      "image/png": "[encoded data removed]",
      "text/plain": [
       "<Figure size 720x504 with 2 Axes>"
      ]
     },
     "metadata": {
      "needs_background": "light"
     },
     "output_type": "display_data"
    }
   ],
   "source": [
    "cm = tf.math.confusion_matrix(labels=y_test,predictions=y_pred)\n",
    "\n",
    "plt.figure(figsize = (10,7))\n",
    "sns.heatmap(cm, annot=True, fmt='d')\n",
    "plt.xlabel('Predicted')\n",
    "plt.ylabel('Truth')"
   ]
  },
  {
   "cell_type": "code",
   "execution_count": 68,
   "id": "d054e2bc",
   "metadata": {},
   "outputs": [],
   "source": [
    "#Mitigating Skewdness of Data or handling imbalanced data\n",
    "#Method 1: Undersampling:Reduce the number of instances in the majority class to balance the class distribution. \n",
    "#However, this might lead to loss of information."
   ]
  },
  {
   "cell_type": "code",
   "execution_count": 69,
   "id": "d3040644",
   "metadata": {},
   "outputs": [
    {
     "data": {
      "text/plain": [
       "0    5163\n",
       "1    1869\n",
       "Name: Churn, dtype: int64"
      ]
     },
     "execution_count": 69,
     "metadata": {},
     "output_type": "execute_result"
    }
   ],
   "source": [
    "df.Churn.value_counts()"
   ]
  },
  {
   "cell_type": "code",
   "execution_count": 70,
   "id": "3d7e1993",
   "metadata": {},
   "outputs": [
    {
     "data": {
      "text/plain": [
       "(5163, 1869)"
      ]
     },
     "execution_count": 70,
     "metadata": {},
     "output_type": "execute_result"
    }
   ],
   "source": [
    "# Class count\n",
    "count_class_0, count_class_1 = df.Churn.value_counts()\n",
    "count_class_0, count_class_1"
   ]
  },
  {
   "cell_type": "code",
   "execution_count": 71,
   "id": "e55a3067",
   "metadata": {},
   "outputs": [],
   "source": [
    "# Divide by class\n",
    "df_class_0 = df1[df1['Churn'] == 0]\n",
    "df_class_1 = df1[df1['Churn'] == 1]"
   ]
  },
  {
   "cell_type": "code",
   "execution_count": 72,
   "id": "a34d7a39",
   "metadata": {},
   "outputs": [
    {
     "data": {
      "text/plain": [
       "(5163, 27)"
      ]
     },
     "execution_count": 72,
     "metadata": {},
     "output_type": "execute_result"
    }
   ],
   "source": [
    "df_class_0.shape"
   ]
  },
  {
   "cell_type": "code",
   "execution_count": 73,
   "id": "82088619",
   "metadata": {},
   "outputs": [
    {
     "data": {
      "text/plain": [
       "(1869, 27)"
      ]
     },
     "execution_count": 73,
     "metadata": {},
     "output_type": "execute_result"
    }
   ],
   "source": [
    "df_class_1.shape"
   ]
  },
  {
   "cell_type": "code",
   "execution_count": 74,
   "id": "2956574a",
   "metadata": {},
   "outputs": [
    {
     "name": "stdout",
     "output_type": "stream",
     "text": [
      "Random under-sampling:\n",
      "0    1869\n",
      "1    1869\n",
      "Name: Churn, dtype: int64\n"
     ]
    }
   ],
   "source": [
    "# Undersample 0-class and concat the DataFrames of both class\n",
    "df_class_0_under = df_class_0.sample(count_class_1)\n",
    "df_test_under = pd.concat([df_class_0_under, df_class_1], axis=0)\n",
    "\n",
    "print('Random under-sampling:')\n",
    "print(df_test_under.Churn.value_counts())"
   ]
  },
  {
   "cell_type": "code",
   "execution_count": 75,
   "id": "e68b1709",
   "metadata": {},
   "outputs": [],
   "source": [
    "X = df_test_under.drop('Churn',axis='columns')\n",
    "y = df_test_under['Churn']\n",
    "\n",
    "from sklearn.model_selection import train_test_split\n",
    "X_train, X_test, y_train, y_test = train_test_split(X, y, test_size=0.2, random_state=15, stratify=y)"
   ]
  },
  {
   "cell_type": "code",
   "execution_count": 76,
   "id": "a80741e1",
   "metadata": {},
   "outputs": [
    {
     "data": {
      "text/plain": [
       "0    1495\n",
       "1    1495\n",
       "Name: Churn, dtype: int64"
      ]
     },
     "execution_count": 76,
     "metadata": {},
     "output_type": "execute_result"
    }
   ],
   "source": [
    "# Number of classes in training Data\n",
    "y_train.value_counts()"
   ]
  },
  {
   "cell_type": "code",
   "execution_count": 77,
   "id": "854594f4",
   "metadata": {},
   "outputs": [],
   "source": [
    "#as we need to run the model multiple time so we are making a function ANN for it"
   ]
  },
  {
   "cell_type": "code",
   "execution_count": 78,
   "id": "ecf342a0",
   "metadata": {},
   "outputs": [],
   "source": [
    "def ANN (X_train, y_train, X_test, y_test, loss):\n",
    "    model = keras.Sequential([\n",
    "        keras.layers.Dense(26, input_shape=(26,), activation='relu'),\n",
    "        keras.layers.Dense(30, activation='relu'),\n",
    "        keras.layers.Dense(1, activation='sigmoid')\n",
    "    ])\n",
    "\n",
    "    # opt = keras.optimizers.Adam(learning_rate=0.01)\n",
    "\n",
    "    model.compile(optimizer='adam', loss='binary_crossentropy', metrics=['accuracy'])\n",
    "\n",
    "    model.fit(X_train, y_train, epochs=100)\n",
    "    print(model.evaluate(X_test, y_test))\n",
    "    \n",
    "    y_preds = model.predict(X_test)\n",
    "    y_preds = np.round(y_preds)\n",
    "    \n",
    "    print(\"Classification Report: \\n\", classification_report(y_test, y_preds))\n",
    "    \n",
    "    return y_preds"
   ]
  },
  {
   "cell_type": "code",
   "execution_count": 79,
   "id": "8d60caab",
   "metadata": {},
   "outputs": [
    {
     "name": "stdout",
     "output_type": "stream",
     "text": [
      "Epoch 1/100\n",
      "94/94 [==============================] - 1s 2ms/step - loss: 0.6018 - accuracy: 0.6863\n",
      "Epoch 2/100\n",
      "94/94 [==============================] - 0s 1ms/step - loss: 0.5033 - accuracy: 0.7589\n",
      "Epoch 3/100\n",
      "94/94 [==============================] - 0s 1ms/step - loss: 0.4911 - accuracy: 0.7669\n",
      "Epoch 4/100\n",
      "94/94 [==============================] - 0s 1ms/step - loss: 0.4875 - accuracy: 0.7659\n",
      "Epoch 5/100\n",
      "94/94 [==============================] - 0s 1ms/step - loss: 0.4831 - accuracy: 0.7702\n",
      "Epoch 6/100\n",
      "94/94 [==============================] - 0s 1ms/step - loss: 0.4806 - accuracy: 0.7696\n",
      "Epoch 7/100\n",
      "94/94 [==============================] - 0s 1ms/step - loss: 0.4776 - accuracy: 0.7736\n",
      "Epoch 8/100\n",
      "94/94 [==============================] - 0s 1ms/step - loss: 0.4760 - accuracy: 0.7746\n",
      "Epoch 9/100\n",
      "94/94 [==============================] - 0s 1ms/step - loss: 0.4756 - accuracy: 0.7739\n",
      "Epoch 10/100\n",
      "94/94 [==============================] - 0s 1ms/step - loss: 0.4759 - accuracy: 0.7702\n",
      "Epoch 11/100\n",
      "94/94 [==============================] - 0s 1ms/step - loss: 0.4719 - accuracy: 0.7742\n",
      "Epoch 12/100\n",
      "94/94 [==============================] - 0s 1ms/step - loss: 0.4708 - accuracy: 0.7753\n",
      "Epoch 13/100\n",
      "94/94 [==============================] - 0s 1ms/step - loss: 0.4694 - accuracy: 0.7759\n",
      "Epoch 14/100\n",
      "94/94 [==============================] - 0s 1ms/step - loss: 0.4677 - accuracy: 0.7793\n",
      "Epoch 15/100\n",
      "94/94 [==============================] - 0s 1ms/step - loss: 0.4671 - accuracy: 0.7763\n",
      "Epoch 16/100\n",
      "94/94 [==============================] - 0s 1ms/step - loss: 0.4642 - accuracy: 0.7809\n",
      "Epoch 17/100\n",
      "94/94 [==============================] - 0s 1ms/step - loss: 0.4655 - accuracy: 0.7799\n",
      "Epoch 18/100\n",
      "94/94 [==============================] - 0s 1ms/step - loss: 0.4634 - accuracy: 0.7746\n",
      "Epoch 19/100\n",
      "94/94 [==============================] - 0s 1ms/step - loss: 0.4622 - accuracy: 0.7809\n",
      "Epoch 20/100\n",
      "94/94 [==============================] - 0s 1ms/step - loss: 0.4605 - accuracy: 0.7836\n",
      "Epoch 21/100\n",
      "94/94 [==============================] - 0s 1ms/step - loss: 0.4573 - accuracy: 0.7829\n",
      "Epoch 22/100\n",
      "94/94 [==============================] - 0s 2ms/step - loss: 0.4637 - accuracy: 0.7796\n",
      "Epoch 23/100\n",
      "94/94 [==============================] - 0s 1ms/step - loss: 0.4594 - accuracy: 0.7742\n",
      "Epoch 24/100\n",
      "94/94 [==============================] - 0s 1ms/step - loss: 0.4584 - accuracy: 0.7833\n",
      "Epoch 25/100\n",
      "94/94 [==============================] - 0s 1ms/step - loss: 0.4565 - accuracy: 0.7863\n",
      "Epoch 26/100\n",
      "94/94 [==============================] - 0s 1ms/step - loss: 0.4553 - accuracy: 0.7846\n",
      "Epoch 27/100\n",
      "94/94 [==============================] - 0s 1ms/step - loss: 0.4538 - accuracy: 0.7836\n",
      "Epoch 28/100\n",
      "94/94 [==============================] - 0s 1ms/step - loss: 0.4530 - accuracy: 0.7829\n",
      "Epoch 29/100\n",
      "94/94 [==============================] - 0s 1ms/step - loss: 0.4530 - accuracy: 0.7799\n",
      "Epoch 30/100\n",
      "94/94 [==============================] - 0s 1ms/step - loss: 0.4515 - accuracy: 0.7856\n",
      "Epoch 31/100\n",
      "94/94 [==============================] - 0s 1ms/step - loss: 0.4500 - accuracy: 0.7806\n",
      "Epoch 32/100\n",
      "94/94 [==============================] - 0s 1ms/step - loss: 0.4481 - accuracy: 0.7883\n",
      "Epoch 33/100\n",
      "94/94 [==============================] - 0s 1ms/step - loss: 0.4502 - accuracy: 0.7873\n",
      "Epoch 34/100\n",
      "94/94 [==============================] - 0s 1ms/step - loss: 0.4498 - accuracy: 0.7853\n",
      "Epoch 35/100\n",
      "94/94 [==============================] - 0s 1ms/step - loss: 0.4455 - accuracy: 0.7910\n",
      "Epoch 36/100\n",
      "94/94 [==============================] - 0s 1ms/step - loss: 0.4465 - accuracy: 0.7913\n",
      "Epoch 37/100\n",
      "94/94 [==============================] - 0s 1ms/step - loss: 0.4460 - accuracy: 0.7866\n",
      "Epoch 38/100\n",
      "94/94 [==============================] - 0s 1ms/step - loss: 0.4438 - accuracy: 0.7900\n",
      "Epoch 39/100\n",
      "94/94 [==============================] - 0s 1ms/step - loss: 0.4429 - accuracy: 0.7923\n",
      "Epoch 40/100\n",
      "94/94 [==============================] - 0s 1ms/step - loss: 0.4424 - accuracy: 0.7883\n",
      "Epoch 41/100\n",
      "94/94 [==============================] - 0s 1ms/step - loss: 0.4410 - accuracy: 0.7890\n",
      "Epoch 42/100\n",
      "94/94 [==============================] - 0s 1ms/step - loss: 0.4386 - accuracy: 0.7883\n",
      "Epoch 43/100\n",
      "94/94 [==============================] - 0s 1ms/step - loss: 0.4387 - accuracy: 0.7933\n",
      "Epoch 44/100\n",
      "94/94 [==============================] - 0s 1ms/step - loss: 0.4378 - accuracy: 0.7916\n",
      "Epoch 45/100\n",
      "94/94 [==============================] - 0s 1ms/step - loss: 0.4363 - accuracy: 0.7936\n",
      "Epoch 46/100\n",
      "94/94 [==============================] - 0s 1ms/step - loss: 0.4368 - accuracy: 0.7896\n",
      "Epoch 47/100\n",
      "94/94 [==============================] - 0s 1ms/step - loss: 0.4362 - accuracy: 0.7876\n",
      "Epoch 48/100\n",
      "94/94 [==============================] - 0s 1ms/step - loss: 0.4340 - accuracy: 0.7910\n",
      "Epoch 49/100\n",
      "94/94 [==============================] - 0s 1ms/step - loss: 0.4326 - accuracy: 0.7943\n",
      "Epoch 50/100\n",
      "94/94 [==============================] - 0s 1ms/step - loss: 0.4322 - accuracy: 0.7940\n",
      "Epoch 51/100\n",
      "94/94 [==============================] - 0s 1ms/step - loss: 0.4325 - accuracy: 0.7950\n",
      "Epoch 52/100\n",
      "94/94 [==============================] - 0s 1ms/step - loss: 0.4325 - accuracy: 0.7967\n",
      "Epoch 53/100\n",
      "94/94 [==============================] - 0s 1ms/step - loss: 0.4313 - accuracy: 0.7926\n",
      "Epoch 54/100\n",
      "94/94 [==============================] - 0s 1ms/step - loss: 0.4289 - accuracy: 0.7973\n",
      "Epoch 55/100\n",
      "94/94 [==============================] - 0s 1ms/step - loss: 0.4286 - accuracy: 0.7960\n",
      "Epoch 56/100\n",
      "94/94 [==============================] - 0s 1ms/step - loss: 0.4303 - accuracy: 0.7960\n",
      "Epoch 57/100\n",
      "94/94 [==============================] - 0s 1ms/step - loss: 0.4270 - accuracy: 0.7970\n",
      "Epoch 58/100\n",
      "94/94 [==============================] - 0s 1ms/step - loss: 0.4256 - accuracy: 0.7960\n",
      "Epoch 59/100\n",
      "94/94 [==============================] - 0s 1ms/step - loss: 0.4239 - accuracy: 0.7990\n",
      "Epoch 60/100\n",
      "94/94 [==============================] - 0s 1ms/step - loss: 0.4232 - accuracy: 0.7977\n",
      "Epoch 61/100\n",
      "94/94 [==============================] - 0s 1ms/step - loss: 0.4216 - accuracy: 0.8000\n",
      "Epoch 62/100\n",
      "94/94 [==============================] - 0s 1ms/step - loss: 0.4234 - accuracy: 0.7993\n",
      "Epoch 63/100\n",
      "94/94 [==============================] - 0s 1ms/step - loss: 0.4205 - accuracy: 0.7983\n",
      "Epoch 64/100\n",
      "94/94 [==============================] - 0s 1ms/step - loss: 0.4198 - accuracy: 0.8033\n",
      "Epoch 65/100\n",
      "94/94 [==============================] - 0s 1ms/step - loss: 0.4175 - accuracy: 0.8030\n",
      "Epoch 66/100\n",
      "94/94 [==============================] - 0s 1ms/step - loss: 0.4184 - accuracy: 0.8064\n",
      "Epoch 67/100\n",
      "94/94 [==============================] - 0s 1ms/step - loss: 0.4167 - accuracy: 0.8040\n",
      "Epoch 68/100\n",
      "94/94 [==============================] - 0s 1ms/step - loss: 0.4165 - accuracy: 0.8057\n",
      "Epoch 69/100\n",
      "94/94 [==============================] - 0s 1ms/step - loss: 0.4146 - accuracy: 0.8040\n",
      "Epoch 70/100\n",
      "94/94 [==============================] - 0s 1ms/step - loss: 0.4154 - accuracy: 0.8013\n",
      "Epoch 71/100\n",
      "94/94 [==============================] - 0s 1ms/step - loss: 0.4119 - accuracy: 0.8084\n",
      "Epoch 72/100\n",
      "94/94 [==============================] - 0s 1ms/step - loss: 0.4126 - accuracy: 0.8047\n",
      "Epoch 73/100\n",
      "94/94 [==============================] - 0s 1ms/step - loss: 0.4137 - accuracy: 0.8074\n",
      "Epoch 74/100\n",
      "94/94 [==============================] - 0s 2ms/step - loss: 0.4095 - accuracy: 0.8040\n",
      "Epoch 75/100\n",
      "94/94 [==============================] - 0s 1ms/step - loss: 0.4073 - accuracy: 0.8124\n",
      "Epoch 76/100\n",
      "94/94 [==============================] - 0s 1ms/step - loss: 0.4097 - accuracy: 0.8104\n",
      "Epoch 77/100\n",
      "94/94 [==============================] - 0s 1ms/step - loss: 0.4086 - accuracy: 0.8114\n",
      "Epoch 78/100\n",
      "94/94 [==============================] - 0s 1ms/step - loss: 0.4081 - accuracy: 0.8060\n",
      "Epoch 79/100\n",
      "94/94 [==============================] - 0s 1ms/step - loss: 0.4062 - accuracy: 0.8080\n",
      "Epoch 80/100\n",
      "94/94 [==============================] - 0s 1ms/step - loss: 0.4047 - accuracy: 0.8144\n",
      "Epoch 81/100\n",
      "94/94 [==============================] - 0s 1ms/step - loss: 0.4049 - accuracy: 0.8117\n",
      "Epoch 82/100\n",
      "94/94 [==============================] - 0s 1ms/step - loss: 0.4034 - accuracy: 0.8124\n",
      "Epoch 83/100\n",
      "94/94 [==============================] - 0s 1ms/step - loss: 0.4018 - accuracy: 0.8107\n",
      "Epoch 84/100\n",
      "94/94 [==============================] - 0s 1ms/step - loss: 0.4031 - accuracy: 0.8067\n",
      "Epoch 85/100\n",
      "94/94 [==============================] - 0s 1ms/step - loss: 0.3993 - accuracy: 0.8107\n",
      "Epoch 86/100\n",
      "94/94 [==============================] - 0s 1ms/step - loss: 0.3999 - accuracy: 0.8171\n",
      "Epoch 87/100\n",
      "94/94 [==============================] - 0s 1ms/step - loss: 0.3980 - accuracy: 0.8161\n",
      "Epoch 88/100\n",
      "94/94 [==============================] - 0s 1ms/step - loss: 0.3967 - accuracy: 0.8177\n",
      "Epoch 89/100\n",
      "94/94 [==============================] - 0s 1ms/step - loss: 0.3967 - accuracy: 0.8161\n",
      "Epoch 90/100\n",
      "94/94 [==============================] - 0s 1ms/step - loss: 0.3961 - accuracy: 0.8157\n",
      "Epoch 91/100\n",
      "94/94 [==============================] - 0s 1ms/step - loss: 0.3951 - accuracy: 0.8181\n",
      "Epoch 92/100\n",
      "94/94 [==============================] - 0s 1ms/step - loss: 0.3953 - accuracy: 0.8144\n",
      "Epoch 93/100\n",
      "94/94 [==============================] - 0s 1ms/step - loss: 0.3946 - accuracy: 0.8174\n",
      "Epoch 94/100\n",
      "94/94 [==============================] - 0s 1ms/step - loss: 0.3944 - accuracy: 0.8157\n",
      "Epoch 95/100\n",
      "94/94 [==============================] - 0s 1ms/step - loss: 0.3915 - accuracy: 0.8161\n",
      "Epoch 96/100\n",
      "94/94 [==============================] - 0s 1ms/step - loss: 0.3889 - accuracy: 0.8164\n",
      "Epoch 97/100\n",
      "94/94 [==============================] - 0s 1ms/step - loss: 0.3902 - accuracy: 0.8197\n",
      "Epoch 98/100\n",
      "94/94 [==============================] - 0s 1ms/step - loss: 0.3875 - accuracy: 0.8221\n",
      "Epoch 99/100\n",
      "94/94 [==============================] - 0s 1ms/step - loss: 0.3886 - accuracy: 0.8194\n",
      "Epoch 100/100\n",
      "94/94 [==============================] - 0s 1ms/step - loss: 0.3847 - accuracy: 0.8237\n",
      "24/24 [==============================] - 0s 1ms/step - loss: 0.5866 - accuracy: 0.7473\n",
      "[0.5866093039512634, 0.7473261952400208]\n",
      "24/24 [==============================] - 0s 883us/step\n",
      "Classification Report: \n",
      "               precision    recall  f1-score   support\n",
      "\n",
      "           0       0.77      0.71      0.74       374\n",
      "           1       0.73      0.78      0.76       374\n",
      "\n",
      "    accuracy                           0.75       748\n",
      "   macro avg       0.75      0.75      0.75       748\n",
      "weighted avg       0.75      0.75      0.75       748\n",
      "\n"
     ]
    }
   ],
   "source": [
    "y_preds = ANN(X_train, y_train, X_test, y_test, 'binary_crossentropy')"
   ]
  },
  {
   "cell_type": "code",
   "execution_count": 80,
   "id": "58bf0555",
   "metadata": {},
   "outputs": [],
   "source": [
    "#precision, recall and f1-score for class 1 has increased and decreased for class 0"
   ]
  },
  {
   "cell_type": "code",
   "execution_count": 81,
   "id": "54ca07ee",
   "metadata": {},
   "outputs": [],
   "source": [
    "#Method2: Oversampling"
   ]
  },
  {
   "cell_type": "code",
   "execution_count": 82,
   "id": "cb29190b",
   "metadata": {},
   "outputs": [
    {
     "data": {
      "text/plain": [
       "(5163, 1869)"
      ]
     },
     "execution_count": 82,
     "metadata": {},
     "output_type": "execute_result"
    }
   ],
   "source": [
    "count_class_0, count_class_1"
   ]
  },
  {
   "cell_type": "code",
   "execution_count": 83,
   "id": "9499534d",
   "metadata": {},
   "outputs": [],
   "source": [
    "# Oversample 1-class and concat the DataFrames of both classes"
   ]
  },
  {
   "cell_type": "code",
   "execution_count": 84,
   "id": "5f23528b",
   "metadata": {},
   "outputs": [
    {
     "data": {
      "text/plain": [
       "(5163, 27)"
      ]
     },
     "execution_count": 84,
     "metadata": {},
     "output_type": "execute_result"
    }
   ],
   "source": [
    "df_class_1_over = df_class_1.sample(count_class_0, replace=True)\n",
    "df_class_1_over.shape"
   ]
  },
  {
   "cell_type": "code",
   "execution_count": 85,
   "id": "64fc7e6e",
   "metadata": {},
   "outputs": [
    {
     "name": "stdout",
     "output_type": "stream",
     "text": [
      "Random over-sampling:\n",
      "0    5163\n",
      "1    5163\n",
      "Name: Churn, dtype: int64\n"
     ]
    }
   ],
   "source": [
    "df_test_over = pd.concat([df_class_0, df_class_1_over], axis=0)\n",
    "\n",
    "print('Random over-sampling:')\n",
    "print(df_test_over[\"Churn\"].value_counts())"
   ]
  },
  {
   "cell_type": "code",
   "execution_count": 86,
   "id": "bc17addd",
   "metadata": {},
   "outputs": [],
   "source": [
    "X = df_test_over.drop('Churn',axis='columns')\n",
    "y = df_test_over['Churn']\n",
    "\n",
    "from sklearn.model_selection import train_test_split\n",
    "X_train, X_test, y_train, y_test = train_test_split(X, y, test_size=0.2, random_state=15, stratify=y)"
   ]
  },
  {
   "cell_type": "code",
   "execution_count": 87,
   "id": "fc26a4eb",
   "metadata": {},
   "outputs": [
    {
     "data": {
      "text/plain": [
       "1    4130\n",
       "0    4130\n",
       "Name: Churn, dtype: int64"
      ]
     },
     "execution_count": 87,
     "metadata": {},
     "output_type": "execute_result"
    }
   ],
   "source": [
    "# Number of classes in training Data\n",
    "y_train.value_counts()"
   ]
  },
  {
   "cell_type": "code",
   "execution_count": 88,
   "id": "364c70e0",
   "metadata": {},
   "outputs": [
    {
     "data": {
      "text/plain": [
       "1    1033\n",
       "0    1033\n",
       "Name: Churn, dtype: int64"
      ]
     },
     "execution_count": 88,
     "metadata": {},
     "output_type": "execute_result"
    }
   ],
   "source": [
    "y_test.value_counts()"
   ]
  },
  {
   "cell_type": "code",
   "execution_count": 89,
   "id": "100110f3",
   "metadata": {},
   "outputs": [
    {
     "name": "stdout",
     "output_type": "stream",
     "text": [
      "Epoch 1/100\n",
      "259/259 [==============================] - 1s 1ms/step - loss: 0.5320 - accuracy: 0.7407\n",
      "Epoch 2/100\n",
      "259/259 [==============================] - 0s 1ms/step - loss: 0.4864 - accuracy: 0.7660\n",
      "Epoch 3/100\n",
      "259/259 [==============================] - 0s 1ms/step - loss: 0.4778 - accuracy: 0.7680\n",
      "Epoch 4/100\n",
      "259/259 [==============================] - 0s 1ms/step - loss: 0.4742 - accuracy: 0.7712\n",
      "Epoch 5/100\n",
      "259/259 [==============================] - 0s 1ms/step - loss: 0.4688 - accuracy: 0.7760\n",
      "Epoch 6/100\n",
      "259/259 [==============================] - 0s 1ms/step - loss: 0.4658 - accuracy: 0.7728\n",
      "Epoch 7/100\n",
      "259/259 [==============================] - 0s 1ms/step - loss: 0.4624 - accuracy: 0.7786\n",
      "Epoch 8/100\n",
      "259/259 [==============================] - 0s 1ms/step - loss: 0.4571 - accuracy: 0.7841\n",
      "Epoch 9/100\n",
      "259/259 [==============================] - 0s 1ms/step - loss: 0.4544 - accuracy: 0.7831\n",
      "Epoch 10/100\n",
      "259/259 [==============================] - 0s 1ms/step - loss: 0.4506 - accuracy: 0.7845\n",
      "Epoch 11/100\n",
      "259/259 [==============================] - 0s 1ms/step - loss: 0.4490 - accuracy: 0.7874\n",
      "Epoch 12/100\n",
      "259/259 [==============================] - 0s 1ms/step - loss: 0.4461 - accuracy: 0.7870\n",
      "Epoch 13/100\n",
      "259/259 [==============================] - 0s 1ms/step - loss: 0.4420 - accuracy: 0.7891\n",
      "Epoch 14/100\n",
      "259/259 [==============================] - 0s 1ms/step - loss: 0.4394 - accuracy: 0.7906\n",
      "Epoch 15/100\n",
      "259/259 [==============================] - 0s 1ms/step - loss: 0.4372 - accuracy: 0.7919\n",
      "Epoch 16/100\n",
      "259/259 [==============================] - 0s 1ms/step - loss: 0.4341 - accuracy: 0.7977\n",
      "Epoch 17/100\n",
      "259/259 [==============================] - 0s 1ms/step - loss: 0.4339 - accuracy: 0.7981\n",
      "Epoch 18/100\n",
      "259/259 [==============================] - 0s 1ms/step - loss: 0.4296 - accuracy: 0.7964\n",
      "Epoch 19/100\n",
      "259/259 [==============================] - 0s 1ms/step - loss: 0.4285 - accuracy: 0.7983\n",
      "Epoch 20/100\n",
      "259/259 [==============================] - 0s 1ms/step - loss: 0.4249 - accuracy: 0.8007\n",
      "Epoch 21/100\n",
      "259/259 [==============================] - 0s 1ms/step - loss: 0.4237 - accuracy: 0.8010\n",
      "Epoch 22/100\n",
      "259/259 [==============================] - 0s 1ms/step - loss: 0.4215 - accuracy: 0.8030\n",
      "Epoch 23/100\n",
      "259/259 [==============================] - 0s 1ms/step - loss: 0.4202 - accuracy: 0.8024\n",
      "Epoch 24/100\n",
      "259/259 [==============================] - 0s 1ms/step - loss: 0.4195 - accuracy: 0.8034\n",
      "Epoch 25/100\n",
      "259/259 [==============================] - 0s 1ms/step - loss: 0.4168 - accuracy: 0.8051\n",
      "Epoch 26/100\n",
      "259/259 [==============================] - 0s 1ms/step - loss: 0.4140 - accuracy: 0.8059\n",
      "Epoch 27/100\n",
      "259/259 [==============================] - 0s 1ms/step - loss: 0.4129 - accuracy: 0.8036\n",
      "Epoch 28/100\n",
      "259/259 [==============================] - 0s 1ms/step - loss: 0.4111 - accuracy: 0.8087\n",
      "Epoch 29/100\n",
      "259/259 [==============================] - 0s 1ms/step - loss: 0.4099 - accuracy: 0.8062\n",
      "Epoch 30/100\n",
      "259/259 [==============================] - 0s 1ms/step - loss: 0.4093 - accuracy: 0.8102\n",
      "Epoch 31/100\n",
      "259/259 [==============================] - 0s 1ms/step - loss: 0.4064 - accuracy: 0.8087\n",
      "Epoch 32/100\n",
      "259/259 [==============================] - 0s 1ms/step - loss: 0.4055 - accuracy: 0.8082\n",
      "Epoch 33/100\n",
      "259/259 [==============================] - 0s 1ms/step - loss: 0.4037 - accuracy: 0.8123\n",
      "Epoch 34/100\n",
      "259/259 [==============================] - 0s 1ms/step - loss: 0.4022 - accuracy: 0.8104\n",
      "Epoch 35/100\n",
      "259/259 [==============================] - 0s 1ms/step - loss: 0.4006 - accuracy: 0.8151\n",
      "Epoch 36/100\n",
      "259/259 [==============================] - 0s 1ms/step - loss: 0.4009 - accuracy: 0.8148\n",
      "Epoch 37/100\n",
      "259/259 [==============================] - 0s 1ms/step - loss: 0.3960 - accuracy: 0.8201\n",
      "Epoch 38/100\n",
      "259/259 [==============================] - 0s 1ms/step - loss: 0.3963 - accuracy: 0.8172\n",
      "Epoch 39/100\n",
      "259/259 [==============================] - 0s 1ms/step - loss: 0.3947 - accuracy: 0.8178\n",
      "Epoch 40/100\n",
      "259/259 [==============================] - 0s 1ms/step - loss: 0.3936 - accuracy: 0.8192\n",
      "Epoch 41/100\n",
      "259/259 [==============================] - 0s 1ms/step - loss: 0.3920 - accuracy: 0.8222\n",
      "Epoch 42/100\n",
      "259/259 [==============================] - 0s 1ms/step - loss: 0.3901 - accuracy: 0.8211\n",
      "Epoch 43/100\n",
      "259/259 [==============================] - 0s 1ms/step - loss: 0.3880 - accuracy: 0.8238\n",
      "Epoch 44/100\n",
      "259/259 [==============================] - 0s 1ms/step - loss: 0.3879 - accuracy: 0.8218\n",
      "Epoch 45/100\n",
      "259/259 [==============================] - 0s 1ms/step - loss: 0.3855 - accuracy: 0.8243\n",
      "Epoch 46/100\n",
      "259/259 [==============================] - 0s 1ms/step - loss: 0.3875 - accuracy: 0.8235\n",
      "Epoch 47/100\n",
      "259/259 [==============================] - 0s 1ms/step - loss: 0.3848 - accuracy: 0.8263\n",
      "Epoch 48/100\n",
      "259/259 [==============================] - 0s 1ms/step - loss: 0.3830 - accuracy: 0.8259\n",
      "Epoch 49/100\n",
      "259/259 [==============================] - 0s 1ms/step - loss: 0.3820 - accuracy: 0.8274\n",
      "Epoch 50/100\n",
      "259/259 [==============================] - 0s 1ms/step - loss: 0.3815 - accuracy: 0.8301\n",
      "Epoch 51/100\n",
      "259/259 [==============================] - 0s 1ms/step - loss: 0.3793 - accuracy: 0.8328\n",
      "Epoch 52/100\n",
      "259/259 [==============================] - 0s 1ms/step - loss: 0.3792 - accuracy: 0.8291\n",
      "Epoch 53/100\n",
      "259/259 [==============================] - 0s 1ms/step - loss: 0.3761 - accuracy: 0.8338\n",
      "Epoch 54/100\n",
      "259/259 [==============================] - 0s 1ms/step - loss: 0.3764 - accuracy: 0.8318\n",
      "Epoch 55/100\n",
      "259/259 [==============================] - 0s 1ms/step - loss: 0.3752 - accuracy: 0.8322\n",
      "Epoch 56/100\n",
      "259/259 [==============================] - 0s 1ms/step - loss: 0.3745 - accuracy: 0.8300\n",
      "Epoch 57/100\n",
      "259/259 [==============================] - 0s 1ms/step - loss: 0.3720 - accuracy: 0.8329\n",
      "Epoch 58/100\n",
      "259/259 [==============================] - 0s 1ms/step - loss: 0.3730 - accuracy: 0.8322\n",
      "Epoch 59/100\n",
      "259/259 [==============================] - 0s 1ms/step - loss: 0.3707 - accuracy: 0.8335\n",
      "Epoch 60/100\n",
      "259/259 [==============================] - 0s 1ms/step - loss: 0.3728 - accuracy: 0.8333\n",
      "Epoch 61/100\n",
      "259/259 [==============================] - 0s 1ms/step - loss: 0.3672 - accuracy: 0.8345\n",
      "Epoch 62/100\n",
      "259/259 [==============================] - 0s 1ms/step - loss: 0.3683 - accuracy: 0.8343\n",
      "Epoch 63/100\n",
      "259/259 [==============================] - 0s 1ms/step - loss: 0.3669 - accuracy: 0.8384\n",
      "Epoch 64/100\n",
      "259/259 [==============================] - 0s 1ms/step - loss: 0.3659 - accuracy: 0.8361\n",
      "Epoch 65/100\n",
      "259/259 [==============================] - 0s 1ms/step - loss: 0.3639 - accuracy: 0.8391\n",
      "Epoch 66/100\n",
      "259/259 [==============================] - 0s 1ms/step - loss: 0.3657 - accuracy: 0.8392\n",
      "Epoch 67/100\n",
      "259/259 [==============================] - 0s 1ms/step - loss: 0.3639 - accuracy: 0.8367\n",
      "Epoch 68/100\n",
      "259/259 [==============================] - 0s 1ms/step - loss: 0.3609 - accuracy: 0.8393\n",
      "Epoch 69/100\n",
      "259/259 [==============================] - 0s 1ms/step - loss: 0.3621 - accuracy: 0.8384\n",
      "Epoch 70/100\n",
      "259/259 [==============================] - 0s 1ms/step - loss: 0.3601 - accuracy: 0.8384\n",
      "Epoch 71/100\n",
      "259/259 [==============================] - 0s 1ms/step - loss: 0.3608 - accuracy: 0.8395\n",
      "Epoch 72/100\n",
      "259/259 [==============================] - 0s 1ms/step - loss: 0.3572 - accuracy: 0.8415\n",
      "Epoch 73/100\n",
      "259/259 [==============================] - 0s 1ms/step - loss: 0.3557 - accuracy: 0.8429\n",
      "Epoch 74/100\n",
      "259/259 [==============================] - 0s 1ms/step - loss: 0.3563 - accuracy: 0.8435\n",
      "Epoch 75/100\n",
      "259/259 [==============================] - 0s 1ms/step - loss: 0.3566 - accuracy: 0.8421\n",
      "Epoch 76/100\n",
      "259/259 [==============================] - 0s 1ms/step - loss: 0.3533 - accuracy: 0.8423\n",
      "Epoch 77/100\n",
      "259/259 [==============================] - 0s 1ms/step - loss: 0.3533 - accuracy: 0.8432\n",
      "Epoch 78/100\n",
      "259/259 [==============================] - 0s 1ms/step - loss: 0.3514 - accuracy: 0.8430\n",
      "Epoch 79/100\n",
      "259/259 [==============================] - 0s 1ms/step - loss: 0.3531 - accuracy: 0.8442\n",
      "Epoch 80/100\n",
      "259/259 [==============================] - 0s 1ms/step - loss: 0.3506 - accuracy: 0.8449\n",
      "Epoch 81/100\n",
      "259/259 [==============================] - 0s 1ms/step - loss: 0.3502 - accuracy: 0.8449\n",
      "Epoch 82/100\n",
      "259/259 [==============================] - 0s 1ms/step - loss: 0.3521 - accuracy: 0.8453\n",
      "Epoch 83/100\n",
      "259/259 [==============================] - 0s 1ms/step - loss: 0.3476 - accuracy: 0.8487\n",
      "Epoch 84/100\n",
      "259/259 [==============================] - 0s 1ms/step - loss: 0.3476 - accuracy: 0.8482\n",
      "Epoch 85/100\n",
      "259/259 [==============================] - 0s 1ms/step - loss: 0.3464 - accuracy: 0.8467\n",
      "Epoch 86/100\n",
      "259/259 [==============================] - 0s 1ms/step - loss: 0.3477 - accuracy: 0.8473\n",
      "Epoch 87/100\n",
      "259/259 [==============================] - 0s 1ms/step - loss: 0.3460 - accuracy: 0.8482\n",
      "Epoch 88/100\n",
      "259/259 [==============================] - 0s 1ms/step - loss: 0.3440 - accuracy: 0.8501\n",
      "Epoch 89/100\n",
      "259/259 [==============================] - 0s 1ms/step - loss: 0.3451 - accuracy: 0.8469\n",
      "Epoch 90/100\n",
      "259/259 [==============================] - 0s 1ms/step - loss: 0.3417 - accuracy: 0.8510\n",
      "Epoch 91/100\n",
      "259/259 [==============================] - 0s 1ms/step - loss: 0.3423 - accuracy: 0.8472\n",
      "Epoch 92/100\n",
      "259/259 [==============================] - 0s 1ms/step - loss: 0.3420 - accuracy: 0.8504\n",
      "Epoch 93/100\n",
      "259/259 [==============================] - 0s 1ms/step - loss: 0.3388 - accuracy: 0.8500\n",
      "Epoch 94/100\n",
      "259/259 [==============================] - 0s 1ms/step - loss: 0.3387 - accuracy: 0.8511\n",
      "Epoch 95/100\n",
      "259/259 [==============================] - 0s 1ms/step - loss: 0.3402 - accuracy: 0.8508\n",
      "Epoch 96/100\n",
      "259/259 [==============================] - 0s 1ms/step - loss: 0.3362 - accuracy: 0.8506\n",
      "Epoch 97/100\n",
      "259/259 [==============================] - 0s 1ms/step - loss: 0.3383 - accuracy: 0.8523\n",
      "Epoch 98/100\n",
      "259/259 [==============================] - 0s 1ms/step - loss: 0.3359 - accuracy: 0.8541\n",
      "Epoch 99/100\n",
      "259/259 [==============================] - 0s 1ms/step - loss: 0.3347 - accuracy: 0.8545\n",
      "Epoch 100/100\n",
      "259/259 [==============================] - 0s 1ms/step - loss: 0.3331 - accuracy: 0.8538\n",
      "65/65 [==============================] - 0s 951us/step - loss: 0.4627 - accuracy: 0.8020\n",
      "[0.4626656770706177, 0.8020328879356384]\n",
      "65/65 [==============================] - 0s 840us/step\n",
      "Classification Report: \n",
      "               precision    recall  f1-score   support\n",
      "\n",
      "           0       0.81      0.79      0.80      1033\n",
      "           1       0.80      0.81      0.80      1033\n",
      "\n",
      "    accuracy                           0.80      2066\n",
      "   macro avg       0.80      0.80      0.80      2066\n",
      "weighted avg       0.80      0.80      0.80      2066\n",
      "\n"
     ]
    }
   ],
   "source": [
    "y_preds = ANN(X_train, y_train, X_test, y_test, 'binary_crossentropy')"
   ]
  },
  {
   "cell_type": "markdown",
   "id": "2e5713e5",
   "metadata": {},
   "source": [
    "### Method3: SMOTE"
   ]
  },
  {
   "cell_type": "code",
   "execution_count": 90,
   "id": "32d4b1f9",
   "metadata": {},
   "outputs": [],
   "source": [
    "#SMOTE create synthetic samples/examples of the minority class using Knearest neighbour algo"
   ]
  },
  {
   "cell_type": "code",
   "execution_count": 91,
   "id": "39c2db62",
   "metadata": {},
   "outputs": [
    {
     "name": "stdout",
     "output_type": "stream",
     "text": [
      "Requirement already satisfied: imbalanced-learn in c:\\users\\gulshan\\anaconda3\\lib\\site-packages (0.11.0)\n",
      "Requirement already satisfied: numpy>=1.17.3 in c:\\users\\gulshan\\anaconda3\\lib\\site-packages (from imbalanced-learn) (1.22.4)\n",
      "Requirement already satisfied: threadpoolctl>=2.0.0 in c:\\users\\gulshan\\anaconda3\\lib\\site-packages (from imbalanced-learn) (3.1.0)\n",
      "Requirement already satisfied: joblib>=1.1.1 in c:\\users\\gulshan\\anaconda3\\lib\\site-packages (from imbalanced-learn) (1.2.0)\n",
      "Requirement already satisfied: scikit-learn>=1.0.2 in c:\\users\\gulshan\\anaconda3\\lib\\site-packages (from imbalanced-learn) (1.2.1)\n",
      "Requirement already satisfied: scipy>=1.5.0 in c:\\users\\gulshan\\anaconda3\\lib\\site-packages (from imbalanced-learn) (1.7.1)\n"
     ]
    },
    {
     "name": "stderr",
     "output_type": "stream",
     "text": [
      "WARNING: You are using pip version 21.2.4; however, version 23.2.1 is available.\n",
      "You should consider upgrading via the 'C:\\Users\\Gulshan\\anaconda3\\python.exe -m pip install --upgrade pip' command.\n"
     ]
    }
   ],
   "source": [
    "!pip install imbalanced-learn "
   ]
  },
  {
   "cell_type": "code",
   "execution_count": 92,
   "id": "610ab106",
   "metadata": {},
   "outputs": [],
   "source": [
    "X = df1.drop('Churn',axis=1)\n",
    "y = df1['Churn']"
   ]
  },
  {
   "cell_type": "code",
   "execution_count": 93,
   "id": "34eb18c9",
   "metadata": {},
   "outputs": [
    {
     "data": {
      "text/plain": [
       "gender                                     0\n",
       "SeniorCitizen                              0\n",
       "Partner                                    0\n",
       "Dependents                                 0\n",
       "tenure                                     0\n",
       "PhoneService                               0\n",
       "MultipleLines                              0\n",
       "OnlineSecurity                             0\n",
       "OnlineBackup                               0\n",
       "DeviceProtection                           0\n",
       "TechSupport                                0\n",
       "StreamingTV                                0\n",
       "StreamingMovies                            0\n",
       "PaperlessBilling                           0\n",
       "MonthlyCharges                             0\n",
       "TotalCharges                               0\n",
       "Churn                                      0\n",
       "InternetService_DSL                        0\n",
       "InternetService_Fiber optic                0\n",
       "InternetService_No                         0\n",
       "Contract_Month-to-month                    0\n",
       "Contract_One year                          0\n",
       "Contract_Two year                          0\n",
       "PaymentMethod_Bank transfer (automatic)    0\n",
       "PaymentMethod_Credit card (automatic)      0\n",
       "PaymentMethod_Electronic check             0\n",
       "PaymentMethod_Mailed check                 0\n",
       "dtype: int64"
      ]
     },
     "execution_count": 93,
     "metadata": {},
     "output_type": "execute_result"
    }
   ],
   "source": [
    "df1.isnull().sum()"
   ]
  },
  {
   "cell_type": "code",
   "execution_count": 94,
   "id": "1bc2990b",
   "metadata": {},
   "outputs": [
    {
     "data": {
      "text/plain": [
       "0    5163\n",
       "1    1869\n",
       "Name: Churn, dtype: int64"
      ]
     },
     "execution_count": 94,
     "metadata": {},
     "output_type": "execute_result"
    }
   ],
   "source": [
    "y.value_counts()"
   ]
  },
  {
   "cell_type": "code",
   "execution_count": 95,
   "id": "30aba604",
   "metadata": {},
   "outputs": [
    {
     "data": {
      "text/plain": [
       "(7032, 26)"
      ]
     },
     "execution_count": 95,
     "metadata": {},
     "output_type": "execute_result"
    }
   ],
   "source": [
    "X.shape"
   ]
  },
  {
   "cell_type": "code",
   "execution_count": 96,
   "id": "08e984da",
   "metadata": {},
   "outputs": [
    {
     "data": {
      "text/plain": [
       "(7032,)"
      ]
     },
     "execution_count": 96,
     "metadata": {},
     "output_type": "execute_result"
    }
   ],
   "source": [
    "y.shape"
   ]
  },
  {
   "cell_type": "code",
   "execution_count": 97,
   "id": "7b1309f0",
   "metadata": {},
   "outputs": [],
   "source": [
    "from imblearn.over_sampling import SMOTE\n",
    "\n",
    "smote = SMOTE(sampling_strategy='minority')\n",
    "X_sm, y_sm= smote.fit_resample(X, y)"
   ]
  },
  {
   "cell_type": "code",
   "execution_count": 98,
   "id": "5a732840",
   "metadata": {},
   "outputs": [],
   "source": [
    "# The fit_sample method generates synthetic samples for the minority class and returns two new arrays:\n",
    "\n",
    "# X_sm: This is the new feature matrix with the synthetic samples added to the minority class. It will have a balanced class distribution.\n",
    "# y_sm: This is the new label vector with the corresponding labels for the synthetic samples"
   ]
  },
  {
   "cell_type": "code",
   "execution_count": 102,
   "id": "4fe30dc9",
   "metadata": {},
   "outputs": [],
   "source": [
    "from sklearn.model_selection import train_test_split\n",
    "X_train, X_test, y_train, y_test = train_test_split(X_sm, y_sm, test_size=0.2, random_state=15, stratify=y_sm)"
   ]
  },
  {
   "cell_type": "code",
   "execution_count": 103,
   "id": "cdd3f6ca",
   "metadata": {},
   "outputs": [
    {
     "data": {
      "text/plain": [
       "1    4130\n",
       "0    4130\n",
       "Name: Churn, dtype: int64"
      ]
     },
     "execution_count": 103,
     "metadata": {},
     "output_type": "execute_result"
    }
   ],
   "source": [
    "# Number of classes in training Data\n",
    "y_train.value_counts()"
   ]
  },
  {
   "cell_type": "code",
   "execution_count": 104,
   "id": "3d1eaecb",
   "metadata": {},
   "outputs": [
    {
     "name": "stdout",
     "output_type": "stream",
     "text": [
      "Epoch 1/100\n",
      "259/259 [==============================] - 1s 1ms/step - loss: 0.5172 - accuracy: 0.7538\n",
      "Epoch 2/100\n",
      "259/259 [==============================] - 0s 1ms/step - loss: 0.4653 - accuracy: 0.7801\n",
      "Epoch 3/100\n",
      "259/259 [==============================] - 0s 2ms/step - loss: 0.4590 - accuracy: 0.7860\n",
      "Epoch 4/100\n",
      "259/259 [==============================] - 0s 1ms/step - loss: 0.4519 - accuracy: 0.7887\n",
      "Epoch 5/100\n",
      "259/259 [==============================] - 0s 2ms/step - loss: 0.4476 - accuracy: 0.7892\n",
      "Epoch 6/100\n",
      "259/259 [==============================] - 0s 1ms/step - loss: 0.4412 - accuracy: 0.7929\n",
      "Epoch 7/100\n",
      "259/259 [==============================] - 0s 2ms/step - loss: 0.4369 - accuracy: 0.7967\n",
      "Epoch 8/100\n",
      "259/259 [==============================] - 0s 2ms/step - loss: 0.4318 - accuracy: 0.7962\n",
      "Epoch 9/100\n",
      "259/259 [==============================] - 0s 2ms/step - loss: 0.4255 - accuracy: 0.8002\n",
      "Epoch 10/100\n",
      "259/259 [==============================] - 0s 2ms/step - loss: 0.4222 - accuracy: 0.7999\n",
      "Epoch 11/100\n",
      "259/259 [==============================] - 0s 1ms/step - loss: 0.4192 - accuracy: 0.8036\n",
      "Epoch 12/100\n",
      "259/259 [==============================] - 0s 1ms/step - loss: 0.4134 - accuracy: 0.8068\n",
      "Epoch 13/100\n",
      "259/259 [==============================] - 1s 2ms/step - loss: 0.4083 - accuracy: 0.8097\n",
      "Epoch 14/100\n",
      "259/259 [==============================] - 0s 2ms/step - loss: 0.4056 - accuracy: 0.8134\n",
      "Epoch 15/100\n",
      "259/259 [==============================] - 0s 1ms/step - loss: 0.4035 - accuracy: 0.8133\n",
      "Epoch 16/100\n",
      "259/259 [==============================] - 0s 1ms/step - loss: 0.4010 - accuracy: 0.8169\n",
      "Epoch 17/100\n",
      "259/259 [==============================] - 0s 1ms/step - loss: 0.3982 - accuracy: 0.8200\n",
      "Epoch 18/100\n",
      "259/259 [==============================] - 0s 1ms/step - loss: 0.3959 - accuracy: 0.8190\n",
      "Epoch 19/100\n",
      "259/259 [==============================] - 0s 1ms/step - loss: 0.3939 - accuracy: 0.8220\n",
      "Epoch 20/100\n",
      "259/259 [==============================] - 0s 1ms/step - loss: 0.3899 - accuracy: 0.8251\n",
      "Epoch 21/100\n",
      "259/259 [==============================] - 0s 1ms/step - loss: 0.3883 - accuracy: 0.8255\n",
      "Epoch 22/100\n",
      "259/259 [==============================] - 0s 1ms/step - loss: 0.3856 - accuracy: 0.8270\n",
      "Epoch 23/100\n",
      "259/259 [==============================] - 0s 1ms/step - loss: 0.3847 - accuracy: 0.8266\n",
      "Epoch 24/100\n",
      "259/259 [==============================] - 0s 1ms/step - loss: 0.3835 - accuracy: 0.8291\n",
      "Epoch 25/100\n",
      "259/259 [==============================] - 0s 1ms/step - loss: 0.3811 - accuracy: 0.8276\n",
      "Epoch 26/100\n",
      "259/259 [==============================] - 0s 1ms/step - loss: 0.3798 - accuracy: 0.8283\n",
      "Epoch 27/100\n",
      "259/259 [==============================] - 0s 1ms/step - loss: 0.3791 - accuracy: 0.8289\n",
      "Epoch 28/100\n",
      "259/259 [==============================] - 0s 2ms/step - loss: 0.3763 - accuracy: 0.8337\n",
      "Epoch 29/100\n",
      "259/259 [==============================] - 0s 2ms/step - loss: 0.3762 - accuracy: 0.8344\n",
      "Epoch 30/100\n",
      "259/259 [==============================] - 0s 2ms/step - loss: 0.3737 - accuracy: 0.8343\n",
      "Epoch 31/100\n",
      "259/259 [==============================] - 0s 1ms/step - loss: 0.3716 - accuracy: 0.8338\n",
      "Epoch 32/100\n",
      "259/259 [==============================] - 0s 1ms/step - loss: 0.3707 - accuracy: 0.8357\n",
      "Epoch 33/100\n",
      "259/259 [==============================] - 0s 1ms/step - loss: 0.3680 - accuracy: 0.8344\n",
      "Epoch 34/100\n",
      "259/259 [==============================] - 0s 1ms/step - loss: 0.3666 - accuracy: 0.8377\n",
      "Epoch 35/100\n",
      "259/259 [==============================] - 0s 1ms/step - loss: 0.3645 - accuracy: 0.8380\n",
      "Epoch 36/100\n",
      "259/259 [==============================] - 0s 2ms/step - loss: 0.3644 - accuracy: 0.8393\n",
      "Epoch 37/100\n",
      "259/259 [==============================] - 0s 2ms/step - loss: 0.3643 - accuracy: 0.8383\n",
      "Epoch 38/100\n",
      "259/259 [==============================] - 0s 2ms/step - loss: 0.3617 - accuracy: 0.8378\n",
      "Epoch 39/100\n",
      "259/259 [==============================] - 0s 2ms/step - loss: 0.3606 - accuracy: 0.8398\n",
      "Epoch 40/100\n",
      "259/259 [==============================] - 0s 1ms/step - loss: 0.3611 - accuracy: 0.8391\n",
      "Epoch 41/100\n",
      "259/259 [==============================] - 0s 1ms/step - loss: 0.3602 - accuracy: 0.8402\n",
      "Epoch 42/100\n",
      "259/259 [==============================] - 0s 1ms/step - loss: 0.3562 - accuracy: 0.8430\n",
      "Epoch 43/100\n",
      "259/259 [==============================] - 0s 1ms/step - loss: 0.3572 - accuracy: 0.8427\n",
      "Epoch 44/100\n",
      "259/259 [==============================] - 0s 1ms/step - loss: 0.3533 - accuracy: 0.8456\n",
      "Epoch 45/100\n",
      "259/259 [==============================] - 0s 1ms/step - loss: 0.3545 - accuracy: 0.8442\n",
      "Epoch 46/100\n",
      "259/259 [==============================] - 0s 1ms/step - loss: 0.3533 - accuracy: 0.8464\n",
      "Epoch 47/100\n",
      "259/259 [==============================] - 0s 1ms/step - loss: 0.3523 - accuracy: 0.8454\n",
      "Epoch 48/100\n",
      "259/259 [==============================] - 0s 1ms/step - loss: 0.3517 - accuracy: 0.8467\n",
      "Epoch 49/100\n",
      "259/259 [==============================] - 0s 1ms/step - loss: 0.3492 - accuracy: 0.8469\n",
      "Epoch 50/100\n",
      "259/259 [==============================] - 0s 1ms/step - loss: 0.3499 - accuracy: 0.8453\n",
      "Epoch 51/100\n",
      "259/259 [==============================] - 0s 2ms/step - loss: 0.3494 - accuracy: 0.8465\n",
      "Epoch 52/100\n",
      "259/259 [==============================] - 0s 1ms/step - loss: 0.3490 - accuracy: 0.8478\n",
      "Epoch 53/100\n",
      "259/259 [==============================] - 0s 1ms/step - loss: 0.3466 - accuracy: 0.8485\n",
      "Epoch 54/100\n",
      "259/259 [==============================] - 0s 1ms/step - loss: 0.3442 - accuracy: 0.8487\n",
      "Epoch 55/100\n",
      "259/259 [==============================] - 0s 1ms/step - loss: 0.3458 - accuracy: 0.8492\n",
      "Epoch 56/100\n",
      "259/259 [==============================] - 0s 1ms/step - loss: 0.3457 - accuracy: 0.8475\n",
      "Epoch 57/100\n",
      "259/259 [==============================] - 0s 2ms/step - loss: 0.3453 - accuracy: 0.8517\n",
      "Epoch 58/100\n",
      "259/259 [==============================] - 0s 1ms/step - loss: 0.3430 - accuracy: 0.8510\n",
      "Epoch 59/100\n",
      "259/259 [==============================] - 1s 2ms/step - loss: 0.3445 - accuracy: 0.8476\n",
      "Epoch 60/100\n",
      "259/259 [==============================] - 0s 2ms/step - loss: 0.3423 - accuracy: 0.8506\n",
      "Epoch 61/100\n",
      "259/259 [==============================] - 0s 1ms/step - loss: 0.3414 - accuracy: 0.8476\n",
      "Epoch 62/100\n",
      "259/259 [==============================] - 0s 1ms/step - loss: 0.3404 - accuracy: 0.8502\n",
      "Epoch 63/100\n",
      "259/259 [==============================] - 0s 1ms/step - loss: 0.3413 - accuracy: 0.8504\n",
      "Epoch 64/100\n",
      "259/259 [==============================] - 0s 1ms/step - loss: 0.3397 - accuracy: 0.8515\n",
      "Epoch 65/100\n",
      "259/259 [==============================] - 0s 1ms/step - loss: 0.3382 - accuracy: 0.8556\n",
      "Epoch 66/100\n",
      "259/259 [==============================] - 0s 1ms/step - loss: 0.3372 - accuracy: 0.8512\n",
      "Epoch 67/100\n",
      "259/259 [==============================] - 0s 1ms/step - loss: 0.3376 - accuracy: 0.8529\n",
      "Epoch 68/100\n",
      "259/259 [==============================] - 0s 1ms/step - loss: 0.3392 - accuracy: 0.8522\n",
      "Epoch 69/100\n",
      "259/259 [==============================] - 0s 1ms/step - loss: 0.3353 - accuracy: 0.8558\n",
      "Epoch 70/100\n",
      "259/259 [==============================] - 0s 1ms/step - loss: 0.3366 - accuracy: 0.8535\n",
      "Epoch 71/100\n",
      "259/259 [==============================] - 0s 1ms/step - loss: 0.3345 - accuracy: 0.8550\n",
      "Epoch 72/100\n",
      "259/259 [==============================] - 0s 1ms/step - loss: 0.3332 - accuracy: 0.8540\n",
      "Epoch 73/100\n",
      "259/259 [==============================] - 0s 2ms/step - loss: 0.3344 - accuracy: 0.8554\n",
      "Epoch 74/100\n",
      "259/259 [==============================] - 0s 1ms/step - loss: 0.3364 - accuracy: 0.8530\n",
      "Epoch 75/100\n",
      "259/259 [==============================] - 0s 1ms/step - loss: 0.3317 - accuracy: 0.8546\n",
      "Epoch 76/100\n",
      "259/259 [==============================] - 0s 1ms/step - loss: 0.3333 - accuracy: 0.8544\n",
      "Epoch 77/100\n",
      "259/259 [==============================] - 0s 1ms/step - loss: 0.3315 - accuracy: 0.8565\n",
      "Epoch 78/100\n",
      "259/259 [==============================] - 0s 1ms/step - loss: 0.3327 - accuracy: 0.8562\n",
      "Epoch 79/100\n",
      "259/259 [==============================] - 0s 1ms/step - loss: 0.3322 - accuracy: 0.8556\n",
      "Epoch 80/100\n",
      "259/259 [==============================] - 0s 1ms/step - loss: 0.3291 - accuracy: 0.8570\n",
      "Epoch 81/100\n",
      "259/259 [==============================] - 0s 1ms/step - loss: 0.3314 - accuracy: 0.8542\n",
      "Epoch 82/100\n",
      "259/259 [==============================] - 0s 1ms/step - loss: 0.3298 - accuracy: 0.8564\n",
      "Epoch 83/100\n",
      "259/259 [==============================] - 0s 1ms/step - loss: 0.3279 - accuracy: 0.8561\n",
      "Epoch 84/100\n",
      "259/259 [==============================] - 0s 1ms/step - loss: 0.3279 - accuracy: 0.8552\n",
      "Epoch 85/100\n",
      "259/259 [==============================] - 0s 1ms/step - loss: 0.3281 - accuracy: 0.8591\n",
      "Epoch 86/100\n",
      "259/259 [==============================] - 0s 1ms/step - loss: 0.3282 - accuracy: 0.8571\n",
      "Epoch 87/100\n",
      "259/259 [==============================] - 0s 1ms/step - loss: 0.3286 - accuracy: 0.8576\n",
      "Epoch 88/100\n",
      "259/259 [==============================] - 0s 1ms/step - loss: 0.3270 - accuracy: 0.8579\n",
      "Epoch 89/100\n",
      "259/259 [==============================] - 0s 1ms/step - loss: 0.3249 - accuracy: 0.8575\n",
      "Epoch 90/100\n",
      "259/259 [==============================] - 0s 1ms/step - loss: 0.3253 - accuracy: 0.8577\n",
      "Epoch 91/100\n",
      "259/259 [==============================] - 0s 1ms/step - loss: 0.3261 - accuracy: 0.8598\n",
      "Epoch 92/100\n",
      "259/259 [==============================] - 0s 1ms/step - loss: 0.3242 - accuracy: 0.8577\n",
      "Epoch 93/100\n",
      "259/259 [==============================] - 0s 1ms/step - loss: 0.3228 - accuracy: 0.8582\n",
      "Epoch 94/100\n",
      "259/259 [==============================] - 0s 1ms/step - loss: 0.3255 - accuracy: 0.8597\n",
      "Epoch 95/100\n",
      "259/259 [==============================] - 0s 1ms/step - loss: 0.3239 - accuracy: 0.8597\n",
      "Epoch 96/100\n",
      "259/259 [==============================] - 0s 1ms/step - loss: 0.3225 - accuracy: 0.8582\n",
      "Epoch 97/100\n",
      "259/259 [==============================] - 0s 1ms/step - loss: 0.3229 - accuracy: 0.8582\n",
      "Epoch 98/100\n",
      "259/259 [==============================] - 0s 1ms/step - loss: 0.3235 - accuracy: 0.8585\n",
      "Epoch 99/100\n",
      "259/259 [==============================] - 0s 2ms/step - loss: 0.3243 - accuracy: 0.8585\n",
      "Epoch 100/100\n",
      "259/259 [==============================] - 0s 2ms/step - loss: 0.3205 - accuracy: 0.8621\n",
      "65/65 [==============================] - 0s 946us/step - loss: 0.4462 - accuracy: 0.7982\n",
      "[0.4462265372276306, 0.7981606721878052]\n",
      "65/65 [==============================] - 0s 854us/step\n",
      "Classification Report: \n",
      "               precision    recall  f1-score   support\n",
      "\n",
      "           0       0.84      0.74      0.79      1033\n",
      "           1       0.77      0.86      0.81      1033\n",
      "\n",
      "    accuracy                           0.80      2066\n",
      "   macro avg       0.80      0.80      0.80      2066\n",
      "weighted avg       0.80      0.80      0.80      2066\n",
      "\n"
     ]
    }
   ],
   "source": [
    "y_preds = ANN(X_train, y_train, X_test, y_test, 'binary_crossentropy')"
   ]
  },
  {
   "cell_type": "markdown",
   "id": "c01f8aa0",
   "metadata": {},
   "source": [
    "### Method4: Use of Ensemble with undersampling"
   ]
  },
  {
   "cell_type": "code",
   "execution_count": 105,
   "id": "2e1eaf21",
   "metadata": {},
   "outputs": [
    {
     "data": {
      "text/plain": [
       "0    5163\n",
       "1    1869\n",
       "Name: Churn, dtype: int64"
      ]
     },
     "execution_count": 105,
     "metadata": {},
     "output_type": "execute_result"
    }
   ],
   "source": [
    "df1.Churn.value_counts()"
   ]
  },
  {
   "cell_type": "code",
   "execution_count": 106,
   "id": "7e104b75",
   "metadata": {},
   "outputs": [],
   "source": [
    "# Regain Original features and labels\n",
    "X = df1.drop('Churn',axis='columns')\n",
    "y = df1['Churn']"
   ]
  },
  {
   "cell_type": "code",
   "execution_count": 107,
   "id": "22dbf239",
   "metadata": {},
   "outputs": [],
   "source": [
    "from sklearn.model_selection import train_test_split\n",
    "X_train, X_test, y_train, y_test = train_test_split(X, y, test_size=0.2, random_state=15, stratify=y)"
   ]
  },
  {
   "cell_type": "code",
   "execution_count": 108,
   "id": "11d3d2d7",
   "metadata": {},
   "outputs": [
    {
     "data": {
      "text/plain": [
       "0    4130\n",
       "1    1495\n",
       "Name: Churn, dtype: int64"
      ]
     },
     "execution_count": 108,
     "metadata": {},
     "output_type": "execute_result"
    }
   ],
   "source": [
    "y_train.value_counts()"
   ]
  },
  {
   "cell_type": "code",
   "execution_count": 109,
   "id": "9ca0bbbe",
   "metadata": {},
   "outputs": [],
   "source": [
    "df2 = X_train.copy()\n",
    "df2['Churn'] = y_train"
   ]
  },
  {
   "cell_type": "code",
   "execution_count": 110,
   "id": "f113fa57",
   "metadata": {},
   "outputs": [
    {
     "data": {
      "text/html": [
       "<div>\n",
       "<style scoped>\n",
       "    .dataframe tbody tr th:only-of-type {\n",
       "        vertical-align: middle;\n",
       "    }\n",
       "\n",
       "    .dataframe tbody tr th {\n",
       "        vertical-align: top;\n",
       "    }\n",
       "\n",
       "    .dataframe thead th {\n",
       "        text-align: right;\n",
       "    }\n",
       "</style>\n",
       "<table border=\"1\" class=\"dataframe\">\n",
       "  <thead>\n",
       "    <tr style=\"text-align: right;\">\n",
       "      <th></th>\n",
       "      <th>gender</th>\n",
       "      <th>SeniorCitizen</th>\n",
       "      <th>Partner</th>\n",
       "      <th>Dependents</th>\n",
       "      <th>tenure</th>\n",
       "      <th>PhoneService</th>\n",
       "      <th>MultipleLines</th>\n",
       "      <th>OnlineSecurity</th>\n",
       "      <th>OnlineBackup</th>\n",
       "      <th>DeviceProtection</th>\n",
       "      <th>...</th>\n",
       "      <th>InternetService_Fiber optic</th>\n",
       "      <th>InternetService_No</th>\n",
       "      <th>Contract_Month-to-month</th>\n",
       "      <th>Contract_One year</th>\n",
       "      <th>Contract_Two year</th>\n",
       "      <th>PaymentMethod_Bank transfer (automatic)</th>\n",
       "      <th>PaymentMethod_Credit card (automatic)</th>\n",
       "      <th>PaymentMethod_Electronic check</th>\n",
       "      <th>PaymentMethod_Mailed check</th>\n",
       "      <th>Churn</th>\n",
       "    </tr>\n",
       "  </thead>\n",
       "  <tbody>\n",
       "    <tr>\n",
       "      <th>684</th>\n",
       "      <td>1</td>\n",
       "      <td>0</td>\n",
       "      <td>0</td>\n",
       "      <td>0</td>\n",
       "      <td>0.000000</td>\n",
       "      <td>1</td>\n",
       "      <td>0</td>\n",
       "      <td>0</td>\n",
       "      <td>0</td>\n",
       "      <td>0</td>\n",
       "      <td>...</td>\n",
       "      <td>1</td>\n",
       "      <td>0</td>\n",
       "      <td>1</td>\n",
       "      <td>0</td>\n",
       "      <td>0</td>\n",
       "      <td>0</td>\n",
       "      <td>0</td>\n",
       "      <td>0</td>\n",
       "      <td>1</td>\n",
       "      <td>0</td>\n",
       "    </tr>\n",
       "    <tr>\n",
       "      <th>2446</th>\n",
       "      <td>1</td>\n",
       "      <td>0</td>\n",
       "      <td>0</td>\n",
       "      <td>0</td>\n",
       "      <td>0.239437</td>\n",
       "      <td>1</td>\n",
       "      <td>1</td>\n",
       "      <td>0</td>\n",
       "      <td>1</td>\n",
       "      <td>0</td>\n",
       "      <td>...</td>\n",
       "      <td>1</td>\n",
       "      <td>0</td>\n",
       "      <td>1</td>\n",
       "      <td>0</td>\n",
       "      <td>0</td>\n",
       "      <td>0</td>\n",
       "      <td>1</td>\n",
       "      <td>0</td>\n",
       "      <td>0</td>\n",
       "      <td>1</td>\n",
       "    </tr>\n",
       "    <tr>\n",
       "      <th>1680</th>\n",
       "      <td>0</td>\n",
       "      <td>0</td>\n",
       "      <td>1</td>\n",
       "      <td>1</td>\n",
       "      <td>0.774648</td>\n",
       "      <td>1</td>\n",
       "      <td>1</td>\n",
       "      <td>0</td>\n",
       "      <td>0</td>\n",
       "      <td>0</td>\n",
       "      <td>...</td>\n",
       "      <td>0</td>\n",
       "      <td>1</td>\n",
       "      <td>0</td>\n",
       "      <td>1</td>\n",
       "      <td>0</td>\n",
       "      <td>0</td>\n",
       "      <td>0</td>\n",
       "      <td>0</td>\n",
       "      <td>1</td>\n",
       "      <td>0</td>\n",
       "    </tr>\n",
       "    <tr>\n",
       "      <th>2220</th>\n",
       "      <td>0</td>\n",
       "      <td>0</td>\n",
       "      <td>1</td>\n",
       "      <td>0</td>\n",
       "      <td>1.000000</td>\n",
       "      <td>1</td>\n",
       "      <td>0</td>\n",
       "      <td>1</td>\n",
       "      <td>1</td>\n",
       "      <td>0</td>\n",
       "      <td>...</td>\n",
       "      <td>0</td>\n",
       "      <td>0</td>\n",
       "      <td>0</td>\n",
       "      <td>0</td>\n",
       "      <td>1</td>\n",
       "      <td>1</td>\n",
       "      <td>0</td>\n",
       "      <td>0</td>\n",
       "      <td>0</td>\n",
       "      <td>0</td>\n",
       "    </tr>\n",
       "    <tr>\n",
       "      <th>2842</th>\n",
       "      <td>1</td>\n",
       "      <td>0</td>\n",
       "      <td>0</td>\n",
       "      <td>0</td>\n",
       "      <td>0.042254</td>\n",
       "      <td>0</td>\n",
       "      <td>0</td>\n",
       "      <td>1</td>\n",
       "      <td>0</td>\n",
       "      <td>1</td>\n",
       "      <td>...</td>\n",
       "      <td>0</td>\n",
       "      <td>0</td>\n",
       "      <td>1</td>\n",
       "      <td>0</td>\n",
       "      <td>0</td>\n",
       "      <td>0</td>\n",
       "      <td>0</td>\n",
       "      <td>0</td>\n",
       "      <td>1</td>\n",
       "      <td>0</td>\n",
       "    </tr>\n",
       "  </tbody>\n",
       "</table>\n",
       "<p>5 rows × 27 columns</p>\n",
       "</div>"
      ],
      "text/plain": [
       "      gender  SeniorCitizen  Partner  Dependents    tenure  PhoneService  \\\n",
       "684        1              0        0           0  0.000000             1   \n",
       "2446       1              0        0           0  0.239437             1   \n",
       "1680       0              0        1           1  0.774648             1   \n",
       "2220       0              0        1           0  1.000000             1   \n",
       "2842       1              0        0           0  0.042254             0   \n",
       "\n",
       "      MultipleLines  OnlineSecurity  OnlineBackup  DeviceProtection  ...  \\\n",
       "684               0               0             0                 0  ...   \n",
       "2446              1               0             1                 0  ...   \n",
       "1680              1               0             0                 0  ...   \n",
       "2220              0               1             1                 0  ...   \n",
       "2842              0               1             0                 1  ...   \n",
       "\n",
       "      InternetService_Fiber optic  InternetService_No  \\\n",
       "684                             1                   0   \n",
       "2446                            1                   0   \n",
       "1680                            0                   1   \n",
       "2220                            0                   0   \n",
       "2842                            0                   0   \n",
       "\n",
       "      Contract_Month-to-month  Contract_One year  Contract_Two year  \\\n",
       "684                         1                  0                  0   \n",
       "2446                        1                  0                  0   \n",
       "1680                        0                  1                  0   \n",
       "2220                        0                  0                  1   \n",
       "2842                        1                  0                  0   \n",
       "\n",
       "      PaymentMethod_Bank transfer (automatic)  \\\n",
       "684                                         0   \n",
       "2446                                        0   \n",
       "1680                                        0   \n",
       "2220                                        1   \n",
       "2842                                        0   \n",
       "\n",
       "      PaymentMethod_Credit card (automatic)  PaymentMethod_Electronic check  \\\n",
       "684                                       0                               0   \n",
       "2446                                      1                               0   \n",
       "1680                                      0                               0   \n",
       "2220                                      0                               0   \n",
       "2842                                      0                               0   \n",
       "\n",
       "      PaymentMethod_Mailed check  Churn  \n",
       "684                            1      0  \n",
       "2446                           0      1  \n",
       "1680                           1      0  \n",
       "2220                           0      0  \n",
       "2842                           1      0  \n",
       "\n",
       "[5 rows x 27 columns]"
      ]
     },
     "execution_count": 110,
     "metadata": {},
     "output_type": "execute_result"
    }
   ],
   "source": [
    "df2.head()"
   ]
  },
  {
   "cell_type": "code",
   "execution_count": 111,
   "id": "98ee5d7b",
   "metadata": {},
   "outputs": [],
   "source": [
    "df2_class0 = df2[df2.Churn==0]\n",
    "df2_class1 = df2[df2.Churn==1]"
   ]
  },
  {
   "cell_type": "code",
   "execution_count": 112,
   "id": "00c695f8",
   "metadata": {},
   "outputs": [],
   "source": [
    "def get_train_batch(df_majority, df_minority, start, end):\n",
    "    df_train = pd.concat([df_majority[start:end], df_minority], axis=0)\n",
    "\n",
    "    X_train = df_train.drop('Churn', axis='columns')\n",
    "    y_train = df_train.Churn\n",
    "    return X_train, y_train  "
   ]
  },
  {
   "cell_type": "code",
   "execution_count": 113,
   "id": "3e656cfc",
   "metadata": {},
   "outputs": [
    {
     "name": "stdout",
     "output_type": "stream",
     "text": [
      "Epoch 1/100\n",
      "94/94 [==============================] - 1s 1ms/step - loss: 0.6058 - accuracy: 0.6997\n",
      "Epoch 2/100\n",
      "94/94 [==============================] - 0s 1ms/step - loss: 0.5098 - accuracy: 0.7565\n",
      "Epoch 3/100\n",
      "94/94 [==============================] - 0s 1ms/step - loss: 0.4955 - accuracy: 0.7689\n",
      "Epoch 4/100\n",
      "94/94 [==============================] - 0s 1ms/step - loss: 0.4900 - accuracy: 0.7689\n",
      "Epoch 5/100\n",
      "94/94 [==============================] - 0s 1ms/step - loss: 0.4858 - accuracy: 0.7736\n",
      "Epoch 6/100\n",
      "94/94 [==============================] - 0s 1ms/step - loss: 0.4827 - accuracy: 0.7742\n",
      "Epoch 7/100\n",
      "94/94 [==============================] - 0s 1ms/step - loss: 0.4798 - accuracy: 0.7742\n",
      "Epoch 8/100\n",
      "94/94 [==============================] - 0s 1ms/step - loss: 0.4782 - accuracy: 0.7742\n",
      "Epoch 9/100\n",
      "94/94 [==============================] - 0s 1ms/step - loss: 0.4759 - accuracy: 0.7696\n",
      "Epoch 10/100\n",
      "94/94 [==============================] - 0s 1ms/step - loss: 0.4755 - accuracy: 0.7722\n",
      "Epoch 11/100\n",
      "94/94 [==============================] - 0s 1ms/step - loss: 0.4719 - accuracy: 0.7773\n",
      "Epoch 12/100\n",
      "94/94 [==============================] - 0s 1ms/step - loss: 0.4720 - accuracy: 0.7779\n",
      "Epoch 13/100\n",
      "94/94 [==============================] - 0s 2ms/step - loss: 0.4693 - accuracy: 0.7793\n",
      "Epoch 14/100\n",
      "94/94 [==============================] - 0s 2ms/step - loss: 0.4691 - accuracy: 0.7759\n",
      "Epoch 15/100\n",
      "94/94 [==============================] - 0s 2ms/step - loss: 0.4670 - accuracy: 0.7793\n",
      "Epoch 16/100\n",
      "94/94 [==============================] - 0s 1ms/step - loss: 0.4648 - accuracy: 0.7823\n",
      "Epoch 17/100\n",
      "94/94 [==============================] - 0s 1ms/step - loss: 0.4649 - accuracy: 0.7793\n",
      "Epoch 18/100\n",
      "94/94 [==============================] - 0s 1ms/step - loss: 0.4637 - accuracy: 0.7816\n",
      "Epoch 19/100\n",
      "94/94 [==============================] - 0s 1ms/step - loss: 0.4622 - accuracy: 0.7793\n",
      "Epoch 20/100\n",
      "94/94 [==============================] - 0s 1ms/step - loss: 0.4596 - accuracy: 0.7829\n",
      "Epoch 21/100\n",
      "94/94 [==============================] - 0s 1ms/step - loss: 0.4597 - accuracy: 0.7836\n",
      "Epoch 22/100\n",
      "94/94 [==============================] - 0s 1ms/step - loss: 0.4590 - accuracy: 0.7823\n",
      "Epoch 23/100\n",
      "94/94 [==============================] - 0s 1ms/step - loss: 0.4568 - accuracy: 0.7856\n",
      "Epoch 24/100\n",
      "94/94 [==============================] - 0s 1ms/step - loss: 0.4570 - accuracy: 0.7806\n",
      "Epoch 25/100\n",
      "94/94 [==============================] - 0s 2ms/step - loss: 0.4556 - accuracy: 0.7789\n",
      "Epoch 26/100\n",
      "94/94 [==============================] - 0s 2ms/step - loss: 0.4530 - accuracy: 0.7856\n",
      "Epoch 27/100\n",
      "94/94 [==============================] - 0s 1ms/step - loss: 0.4528 - accuracy: 0.7856\n",
      "Epoch 28/100\n",
      "94/94 [==============================] - 0s 2ms/step - loss: 0.4518 - accuracy: 0.7896\n",
      "Epoch 29/100\n",
      "94/94 [==============================] - 0s 2ms/step - loss: 0.4492 - accuracy: 0.7870\n",
      "Epoch 30/100\n",
      "94/94 [==============================] - 0s 2ms/step - loss: 0.4477 - accuracy: 0.7883\n",
      "Epoch 31/100\n",
      "94/94 [==============================] - 0s 2ms/step - loss: 0.4478 - accuracy: 0.7890\n",
      "Epoch 32/100\n",
      "94/94 [==============================] - 0s 2ms/step - loss: 0.4457 - accuracy: 0.7890\n",
      "Epoch 33/100\n",
      "94/94 [==============================] - 0s 1ms/step - loss: 0.4447 - accuracy: 0.7893\n",
      "Epoch 34/100\n",
      "94/94 [==============================] - 0s 1ms/step - loss: 0.4446 - accuracy: 0.7920\n",
      "Epoch 35/100\n",
      "94/94 [==============================] - 0s 1ms/step - loss: 0.4412 - accuracy: 0.7957\n",
      "Epoch 36/100\n",
      "94/94 [==============================] - 0s 2ms/step - loss: 0.4408 - accuracy: 0.7946\n",
      "Epoch 37/100\n",
      "94/94 [==============================] - 0s 1ms/step - loss: 0.4398 - accuracy: 0.7953\n",
      "Epoch 38/100\n",
      "94/94 [==============================] - 0s 1ms/step - loss: 0.4385 - accuracy: 0.7946\n",
      "Epoch 39/100\n",
      "94/94 [==============================] - 0s 1ms/step - loss: 0.4365 - accuracy: 0.7970\n",
      "Epoch 40/100\n",
      "94/94 [==============================] - 0s 2ms/step - loss: 0.4371 - accuracy: 0.7970\n",
      "Epoch 41/100\n",
      "94/94 [==============================] - 0s 2ms/step - loss: 0.4346 - accuracy: 0.8033\n",
      "Epoch 42/100\n",
      "94/94 [==============================] - 0s 2ms/step - loss: 0.4335 - accuracy: 0.8000\n",
      "Epoch 43/100\n",
      "94/94 [==============================] - 0s 1ms/step - loss: 0.4339 - accuracy: 0.7967\n",
      "Epoch 44/100\n",
      "94/94 [==============================] - 0s 1ms/step - loss: 0.4332 - accuracy: 0.7983\n",
      "Epoch 45/100\n",
      "94/94 [==============================] - 0s 2ms/step - loss: 0.4328 - accuracy: 0.7957\n",
      "Epoch 46/100\n",
      "94/94 [==============================] - 0s 2ms/step - loss: 0.4277 - accuracy: 0.7980\n",
      "Epoch 47/100\n",
      "94/94 [==============================] - 0s 2ms/step - loss: 0.4297 - accuracy: 0.7990\n",
      "Epoch 48/100\n",
      "94/94 [==============================] - 0s 1ms/step - loss: 0.4290 - accuracy: 0.7993\n",
      "Epoch 49/100\n",
      "94/94 [==============================] - 0s 2ms/step - loss: 0.4250 - accuracy: 0.7990\n",
      "Epoch 50/100\n",
      "94/94 [==============================] - 0s 2ms/step - loss: 0.4251 - accuracy: 0.8047\n",
      "Epoch 51/100\n",
      "94/94 [==============================] - 0s 1ms/step - loss: 0.4237 - accuracy: 0.8050\n",
      "Epoch 52/100\n",
      "94/94 [==============================] - 0s 1ms/step - loss: 0.4219 - accuracy: 0.8057\n",
      "Epoch 53/100\n",
      "94/94 [==============================] - 0s 1ms/step - loss: 0.4225 - accuracy: 0.8003\n",
      "Epoch 54/100\n",
      "94/94 [==============================] - 0s 1ms/step - loss: 0.4210 - accuracy: 0.8027\n",
      "Epoch 55/100\n",
      "94/94 [==============================] - 0s 1ms/step - loss: 0.4197 - accuracy: 0.8027\n",
      "Epoch 56/100\n",
      "94/94 [==============================] - 0s 1ms/step - loss: 0.4169 - accuracy: 0.8087\n",
      "Epoch 57/100\n",
      "94/94 [==============================] - 0s 1ms/step - loss: 0.4168 - accuracy: 0.8074\n",
      "Epoch 58/100\n",
      "94/94 [==============================] - 0s 1ms/step - loss: 0.4160 - accuracy: 0.8087\n",
      "Epoch 59/100\n",
      "94/94 [==============================] - 0s 1ms/step - loss: 0.4160 - accuracy: 0.8054\n",
      "Epoch 60/100\n",
      "94/94 [==============================] - 0s 1ms/step - loss: 0.4112 - accuracy: 0.8147\n",
      "Epoch 61/100\n",
      "94/94 [==============================] - 0s 2ms/step - loss: 0.4132 - accuracy: 0.8127\n",
      "Epoch 62/100\n",
      "94/94 [==============================] - 0s 1ms/step - loss: 0.4096 - accuracy: 0.8157\n",
      "Epoch 63/100\n",
      "94/94 [==============================] - 0s 1ms/step - loss: 0.4110 - accuracy: 0.8097\n",
      "Epoch 64/100\n",
      "94/94 [==============================] - 0s 1ms/step - loss: 0.4097 - accuracy: 0.8140\n",
      "Epoch 65/100\n",
      "94/94 [==============================] - 0s 2ms/step - loss: 0.4080 - accuracy: 0.8120\n",
      "Epoch 66/100\n",
      "94/94 [==============================] - 0s 2ms/step - loss: 0.4062 - accuracy: 0.8147\n",
      "Epoch 67/100\n",
      "94/94 [==============================] - 0s 1ms/step - loss: 0.4054 - accuracy: 0.8144\n",
      "Epoch 68/100\n",
      "94/94 [==============================] - 0s 1ms/step - loss: 0.4049 - accuracy: 0.8124\n",
      "Epoch 69/100\n",
      "94/94 [==============================] - 0s 1ms/step - loss: 0.4030 - accuracy: 0.8137\n",
      "Epoch 70/100\n",
      "94/94 [==============================] - 0s 1ms/step - loss: 0.4002 - accuracy: 0.8184\n",
      "Epoch 71/100\n",
      "94/94 [==============================] - 0s 1ms/step - loss: 0.3997 - accuracy: 0.8181\n",
      "Epoch 72/100\n",
      "94/94 [==============================] - 0s 1ms/step - loss: 0.3984 - accuracy: 0.8191\n",
      "Epoch 73/100\n",
      "94/94 [==============================] - 0s 1ms/step - loss: 0.3977 - accuracy: 0.8197\n",
      "Epoch 74/100\n",
      "94/94 [==============================] - 0s 1ms/step - loss: 0.3962 - accuracy: 0.8201\n",
      "Epoch 75/100\n",
      "94/94 [==============================] - 0s 1ms/step - loss: 0.3954 - accuracy: 0.8224\n",
      "Epoch 76/100\n",
      "94/94 [==============================] - 0s 1ms/step - loss: 0.3936 - accuracy: 0.8247\n",
      "Epoch 77/100\n",
      "94/94 [==============================] - 0s 1ms/step - loss: 0.3939 - accuracy: 0.8251\n",
      "Epoch 78/100\n",
      "94/94 [==============================] - 0s 1ms/step - loss: 0.3912 - accuracy: 0.8251\n",
      "Epoch 79/100\n",
      "94/94 [==============================] - 0s 2ms/step - loss: 0.3892 - accuracy: 0.8264\n",
      "Epoch 80/100\n",
      "94/94 [==============================] - 0s 1ms/step - loss: 0.3884 - accuracy: 0.8301\n",
      "Epoch 81/100\n",
      "94/94 [==============================] - 0s 1ms/step - loss: 0.3888 - accuracy: 0.8258\n",
      "Epoch 82/100\n",
      "94/94 [==============================] - 0s 1ms/step - loss: 0.3865 - accuracy: 0.8254\n",
      "Epoch 83/100\n",
      "94/94 [==============================] - 0s 1ms/step - loss: 0.3879 - accuracy: 0.8258\n",
      "Epoch 84/100\n",
      "94/94 [==============================] - 0s 1ms/step - loss: 0.3867 - accuracy: 0.8258\n",
      "Epoch 85/100\n",
      "94/94 [==============================] - 0s 1ms/step - loss: 0.3818 - accuracy: 0.8298\n",
      "Epoch 86/100\n",
      "94/94 [==============================] - 0s 1ms/step - loss: 0.3826 - accuracy: 0.8324\n",
      "Epoch 87/100\n",
      "94/94 [==============================] - 0s 1ms/step - loss: 0.3783 - accuracy: 0.8294\n",
      "Epoch 88/100\n",
      "94/94 [==============================] - 0s 1ms/step - loss: 0.3777 - accuracy: 0.8321\n",
      "Epoch 89/100\n",
      "94/94 [==============================] - 0s 1ms/step - loss: 0.3828 - accuracy: 0.8264\n",
      "Epoch 90/100\n",
      "94/94 [==============================] - 0s 1ms/step - loss: 0.3761 - accuracy: 0.8314\n",
      "Epoch 91/100\n",
      "94/94 [==============================] - 0s 1ms/step - loss: 0.3759 - accuracy: 0.8304\n",
      "Epoch 92/100\n",
      "94/94 [==============================] - 0s 2ms/step - loss: 0.3761 - accuracy: 0.8324\n",
      "Epoch 93/100\n",
      "94/94 [==============================] - 0s 2ms/step - loss: 0.3719 - accuracy: 0.8361\n",
      "Epoch 94/100\n",
      "94/94 [==============================] - 0s 1ms/step - loss: 0.3803 - accuracy: 0.8341\n",
      "Epoch 95/100\n",
      "94/94 [==============================] - 0s 1ms/step - loss: 0.3714 - accuracy: 0.8368\n",
      "Epoch 96/100\n",
      "94/94 [==============================] - 0s 1ms/step - loss: 0.3705 - accuracy: 0.8321\n",
      "Epoch 97/100\n",
      "94/94 [==============================] - 0s 2ms/step - loss: 0.3688 - accuracy: 0.8388\n",
      "Epoch 98/100\n",
      "94/94 [==============================] - 0s 2ms/step - loss: 0.3699 - accuracy: 0.8348\n",
      "Epoch 99/100\n",
      "94/94 [==============================] - 0s 1ms/step - loss: 0.3655 - accuracy: 0.8378\n",
      "Epoch 100/100\n",
      "94/94 [==============================] - 0s 2ms/step - loss: 0.3666 - accuracy: 0.8365\n",
      "44/44 [==============================] - 0s 1ms/step - loss: 0.5651 - accuracy: 0.7363\n",
      "[0.5651382803916931, 0.7363184094429016]\n",
      "44/44 [==============================] - 0s 1ms/step\n",
      "Classification Report: \n",
      "               precision    recall  f1-score   support\n",
      "\n",
      "           0       0.87      0.75      0.81      1033\n",
      "           1       0.50      0.70      0.58       374\n",
      "\n",
      "    accuracy                           0.74      1407\n",
      "   macro avg       0.69      0.72      0.70      1407\n",
      "weighted avg       0.77      0.74      0.75      1407\n",
      "\n"
     ]
    }
   ],
   "source": [
    "X_train, y_train = get_train_batch(df2_class0, df2_class1, 0, 1495)\n",
    "\n",
    "y_pred1 = ANN(X_train, y_train, X_test, y_test, 'binary_crossentropy')"
   ]
  },
  {
   "cell_type": "code",
   "execution_count": 118,
   "id": "df751d4c",
   "metadata": {},
   "outputs": [
    {
     "name": "stdout",
     "output_type": "stream",
     "text": [
      "Epoch 1/100\n",
      "94/94 [==============================] - 1s 1ms/step - loss: 0.6055 - accuracy: 0.6803\n",
      "Epoch 2/100\n",
      "94/94 [==============================] - 0s 1ms/step - loss: 0.5145 - accuracy: 0.7512\n",
      "Epoch 3/100\n",
      "94/94 [==============================] - 0s 1ms/step - loss: 0.4932 - accuracy: 0.7676\n",
      "Epoch 4/100\n",
      "94/94 [==============================] - 0s 1ms/step - loss: 0.4850 - accuracy: 0.7629\n",
      "Epoch 5/100\n",
      "94/94 [==============================] - 0s 2ms/step - loss: 0.4810 - accuracy: 0.7666\n",
      "Epoch 6/100\n",
      "94/94 [==============================] - 0s 2ms/step - loss: 0.4769 - accuracy: 0.7672\n",
      "Epoch 7/100\n",
      "94/94 [==============================] - 0s 2ms/step - loss: 0.4736 - accuracy: 0.7712\n",
      "Epoch 8/100\n",
      "94/94 [==============================] - 0s 2ms/step - loss: 0.4710 - accuracy: 0.7736\n",
      "Epoch 9/100\n",
      "94/94 [==============================] - 0s 1ms/step - loss: 0.4684 - accuracy: 0.7696\n",
      "Epoch 10/100\n",
      "94/94 [==============================] - 0s 2ms/step - loss: 0.4683 - accuracy: 0.7732\n",
      "Epoch 11/100\n",
      "94/94 [==============================] - 0s 1ms/step - loss: 0.4652 - accuracy: 0.7716\n",
      "Epoch 12/100\n",
      "94/94 [==============================] - 0s 1ms/step - loss: 0.4639 - accuracy: 0.7759\n",
      "Epoch 13/100\n",
      "94/94 [==============================] - 0s 2ms/step - loss: 0.4627 - accuracy: 0.7712\n",
      "Epoch 14/100\n",
      "94/94 [==============================] - 0s 1ms/step - loss: 0.4611 - accuracy: 0.7749\n",
      "Epoch 15/100\n",
      "94/94 [==============================] - 0s 1ms/step - loss: 0.4596 - accuracy: 0.7742\n",
      "Epoch 16/100\n",
      "94/94 [==============================] - 0s 1ms/step - loss: 0.4577 - accuracy: 0.7749\n",
      "Epoch 17/100\n",
      "94/94 [==============================] - 0s 1ms/step - loss: 0.4571 - accuracy: 0.7779\n",
      "Epoch 18/100\n",
      "94/94 [==============================] - 0s 1ms/step - loss: 0.4557 - accuracy: 0.7753\n",
      "Epoch 19/100\n",
      "94/94 [==============================] - 0s 1ms/step - loss: 0.4552 - accuracy: 0.7763\n",
      "Epoch 20/100\n",
      "94/94 [==============================] - 0s 1ms/step - loss: 0.4524 - accuracy: 0.7803\n",
      "Epoch 21/100\n",
      "94/94 [==============================] - 0s 2ms/step - loss: 0.4516 - accuracy: 0.7816\n",
      "Epoch 22/100\n",
      "94/94 [==============================] - 0s 2ms/step - loss: 0.4517 - accuracy: 0.7803\n",
      "Epoch 23/100\n",
      "94/94 [==============================] - 0s 2ms/step - loss: 0.4509 - accuracy: 0.7789\n",
      "Epoch 24/100\n",
      "94/94 [==============================] - 0s 2ms/step - loss: 0.4486 - accuracy: 0.7796\n",
      "Epoch 25/100\n",
      "94/94 [==============================] - 0s 2ms/step - loss: 0.4468 - accuracy: 0.7813\n",
      "Epoch 26/100\n",
      "94/94 [==============================] - 0s 2ms/step - loss: 0.4469 - accuracy: 0.7809\n",
      "Epoch 27/100\n",
      "94/94 [==============================] - 0s 2ms/step - loss: 0.4453 - accuracy: 0.7809\n",
      "Epoch 28/100\n",
      "94/94 [==============================] - 0s 2ms/step - loss: 0.4454 - accuracy: 0.7846\n",
      "Epoch 29/100\n",
      "94/94 [==============================] - 0s 2ms/step - loss: 0.4447 - accuracy: 0.7829\n",
      "Epoch 30/100\n",
      "94/94 [==============================] - 0s 2ms/step - loss: 0.4423 - accuracy: 0.7843\n",
      "Epoch 31/100\n",
      "94/94 [==============================] - 0s 2ms/step - loss: 0.4398 - accuracy: 0.7866\n",
      "Epoch 32/100\n",
      "94/94 [==============================] - 0s 2ms/step - loss: 0.4409 - accuracy: 0.7896\n",
      "Epoch 33/100\n",
      "94/94 [==============================] - 0s 2ms/step - loss: 0.4379 - accuracy: 0.7893\n",
      "Epoch 34/100\n",
      "94/94 [==============================] - 0s 2ms/step - loss: 0.4379 - accuracy: 0.7853\n",
      "Epoch 35/100\n",
      "94/94 [==============================] - 0s 2ms/step - loss: 0.4373 - accuracy: 0.7880\n",
      "Epoch 36/100\n",
      "94/94 [==============================] - 0s 1ms/step - loss: 0.4345 - accuracy: 0.7910\n",
      "Epoch 37/100\n",
      "94/94 [==============================] - 0s 2ms/step - loss: 0.4337 - accuracy: 0.7930\n",
      "Epoch 38/100\n",
      "94/94 [==============================] - 0s 1ms/step - loss: 0.4349 - accuracy: 0.7896\n",
      "Epoch 39/100\n",
      "94/94 [==============================] - 0s 1ms/step - loss: 0.4309 - accuracy: 0.7910\n",
      "Epoch 40/100\n",
      "94/94 [==============================] - 0s 1ms/step - loss: 0.4302 - accuracy: 0.7916\n",
      "Epoch 41/100\n",
      "94/94 [==============================] - 0s 1ms/step - loss: 0.4301 - accuracy: 0.7933\n",
      "Epoch 42/100\n",
      "94/94 [==============================] - 0s 1ms/step - loss: 0.4277 - accuracy: 0.7957\n",
      "Epoch 43/100\n",
      "94/94 [==============================] - 0s 1ms/step - loss: 0.4255 - accuracy: 0.7946\n",
      "Epoch 44/100\n",
      "94/94 [==============================] - 0s 1ms/step - loss: 0.4264 - accuracy: 0.7987\n",
      "Epoch 45/100\n",
      "94/94 [==============================] - 0s 1ms/step - loss: 0.4236 - accuracy: 0.8003\n",
      "Epoch 46/100\n",
      "94/94 [==============================] - 0s 1ms/step - loss: 0.4217 - accuracy: 0.7997\n",
      "Epoch 47/100\n",
      "94/94 [==============================] - 0s 1ms/step - loss: 0.4206 - accuracy: 0.8007\n",
      "Epoch 48/100\n",
      "94/94 [==============================] - 0s 1ms/step - loss: 0.4201 - accuracy: 0.8007\n",
      "Epoch 49/100\n",
      "94/94 [==============================] - 0s 1ms/step - loss: 0.4191 - accuracy: 0.8037\n",
      "Epoch 50/100\n",
      "94/94 [==============================] - 0s 2ms/step - loss: 0.4190 - accuracy: 0.8040\n",
      "Epoch 51/100\n",
      "94/94 [==============================] - 0s 1ms/step - loss: 0.4163 - accuracy: 0.8047\n",
      "Epoch 52/100\n",
      "94/94 [==============================] - 0s 2ms/step - loss: 0.4155 - accuracy: 0.8037\n",
      "Epoch 53/100\n",
      "94/94 [==============================] - 0s 1ms/step - loss: 0.4132 - accuracy: 0.8074\n",
      "Epoch 54/100\n",
      "94/94 [==============================] - 0s 1ms/step - loss: 0.4148 - accuracy: 0.8030\n",
      "Epoch 55/100\n",
      "94/94 [==============================] - 0s 1ms/step - loss: 0.4123 - accuracy: 0.8023\n",
      "Epoch 56/100\n",
      "94/94 [==============================] - 0s 1ms/step - loss: 0.4131 - accuracy: 0.8047\n",
      "Epoch 57/100\n",
      "94/94 [==============================] - 0s 1ms/step - loss: 0.4097 - accuracy: 0.8023\n",
      "Epoch 58/100\n",
      "94/94 [==============================] - 0s 1ms/step - loss: 0.4106 - accuracy: 0.8087\n",
      "Epoch 59/100\n",
      "94/94 [==============================] - 0s 1ms/step - loss: 0.4055 - accuracy: 0.8043\n",
      "Epoch 60/100\n",
      "94/94 [==============================] - 0s 1ms/step - loss: 0.4051 - accuracy: 0.8110\n",
      "Epoch 61/100\n",
      "94/94 [==============================] - 0s 1ms/step - loss: 0.4042 - accuracy: 0.8117\n",
      "Epoch 62/100\n",
      "94/94 [==============================] - 0s 1ms/step - loss: 0.4047 - accuracy: 0.8090\n",
      "Epoch 63/100\n",
      "94/94 [==============================] - 0s 1ms/step - loss: 0.4033 - accuracy: 0.8040\n",
      "Epoch 64/100\n",
      "94/94 [==============================] - 0s 1ms/step - loss: 0.4010 - accuracy: 0.8104\n",
      "Epoch 65/100\n",
      "94/94 [==============================] - 0s 1ms/step - loss: 0.4009 - accuracy: 0.8074\n",
      "Epoch 66/100\n",
      "94/94 [==============================] - 0s 1ms/step - loss: 0.3995 - accuracy: 0.8080\n",
      "Epoch 67/100\n",
      "94/94 [==============================] - 0s 1ms/step - loss: 0.3989 - accuracy: 0.8070\n",
      "Epoch 68/100\n",
      "94/94 [==============================] - 0s 1ms/step - loss: 0.3975 - accuracy: 0.8120\n",
      "Epoch 69/100\n",
      "94/94 [==============================] - 0s 1ms/step - loss: 0.3945 - accuracy: 0.8127\n",
      "Epoch 70/100\n",
      "94/94 [==============================] - 0s 1ms/step - loss: 0.3939 - accuracy: 0.8100\n",
      "Epoch 71/100\n",
      "94/94 [==============================] - 0s 1ms/step - loss: 0.3937 - accuracy: 0.8107\n",
      "Epoch 72/100\n",
      "94/94 [==============================] - 0s 1ms/step - loss: 0.3935 - accuracy: 0.8171\n",
      "Epoch 73/100\n",
      "94/94 [==============================] - 0s 1ms/step - loss: 0.3910 - accuracy: 0.8164\n",
      "Epoch 74/100\n",
      "94/94 [==============================] - 0s 1ms/step - loss: 0.3912 - accuracy: 0.8181\n",
      "Epoch 75/100\n",
      "94/94 [==============================] - 0s 2ms/step - loss: 0.3872 - accuracy: 0.8154\n",
      "Epoch 76/100\n",
      "94/94 [==============================] - 0s 1ms/step - loss: 0.3884 - accuracy: 0.8221\n",
      "Epoch 77/100\n",
      "94/94 [==============================] - 0s 1ms/step - loss: 0.3851 - accuracy: 0.8171\n",
      "Epoch 78/100\n",
      "94/94 [==============================] - 0s 1ms/step - loss: 0.3835 - accuracy: 0.8214\n",
      "Epoch 79/100\n",
      "94/94 [==============================] - 0s 1ms/step - loss: 0.3857 - accuracy: 0.8231\n",
      "Epoch 80/100\n",
      "94/94 [==============================] - 0s 2ms/step - loss: 0.3845 - accuracy: 0.8211\n",
      "Epoch 81/100\n",
      "94/94 [==============================] - 0s 2ms/step - loss: 0.3808 - accuracy: 0.8227\n",
      "Epoch 82/100\n",
      "94/94 [==============================] - 0s 1ms/step - loss: 0.3859 - accuracy: 0.8224\n",
      "Epoch 83/100\n",
      "94/94 [==============================] - 0s 2ms/step - loss: 0.3804 - accuracy: 0.8241\n",
      "Epoch 84/100\n",
      "94/94 [==============================] - 0s 1ms/step - loss: 0.3784 - accuracy: 0.8271\n",
      "Epoch 85/100\n",
      "94/94 [==============================] - 0s 1ms/step - loss: 0.3783 - accuracy: 0.8241\n",
      "Epoch 86/100\n",
      "94/94 [==============================] - 0s 1ms/step - loss: 0.3785 - accuracy: 0.8224\n",
      "Epoch 87/100\n",
      "94/94 [==============================] - 0s 2ms/step - loss: 0.3756 - accuracy: 0.8234\n",
      "Epoch 88/100\n",
      "94/94 [==============================] - 0s 2ms/step - loss: 0.3750 - accuracy: 0.8261\n",
      "Epoch 89/100\n",
      "94/94 [==============================] - 0s 2ms/step - loss: 0.3721 - accuracy: 0.8294\n",
      "Epoch 90/100\n",
      "94/94 [==============================] - 0s 2ms/step - loss: 0.3726 - accuracy: 0.8318\n",
      "Epoch 91/100\n",
      "94/94 [==============================] - 0s 1ms/step - loss: 0.3722 - accuracy: 0.8284\n",
      "Epoch 92/100\n",
      "94/94 [==============================] - 0s 1ms/step - loss: 0.3706 - accuracy: 0.8288\n",
      "Epoch 93/100\n",
      "94/94 [==============================] - 0s 1ms/step - loss: 0.3687 - accuracy: 0.8264\n",
      "Epoch 94/100\n",
      "94/94 [==============================] - 0s 1ms/step - loss: 0.3663 - accuracy: 0.8361\n",
      "Epoch 95/100\n",
      "94/94 [==============================] - 0s 1ms/step - loss: 0.3670 - accuracy: 0.8334\n",
      "Epoch 96/100\n",
      "94/94 [==============================] - 0s 1ms/step - loss: 0.3666 - accuracy: 0.8294\n",
      "Epoch 97/100\n",
      "94/94 [==============================] - 0s 1ms/step - loss: 0.3679 - accuracy: 0.8331\n",
      "Epoch 98/100\n",
      "94/94 [==============================] - 0s 2ms/step - loss: 0.3631 - accuracy: 0.8368\n",
      "Epoch 99/100\n",
      "94/94 [==============================] - 0s 1ms/step - loss: 0.3632 - accuracy: 0.8391\n",
      "Epoch 100/100\n",
      "94/94 [==============================] - 0s 1ms/step - loss: 0.3627 - accuracy: 0.8361\n",
      "44/44 [==============================] - 0s 1ms/step - loss: 0.5256 - accuracy: 0.7505\n",
      "[0.5256381630897522, 0.7505330443382263]\n",
      "44/44 [==============================] - 0s 922us/step\n",
      "Classification Report: \n",
      "               precision    recall  f1-score   support\n",
      "\n",
      "           0       0.89      0.76      0.82      1033\n",
      "           1       0.52      0.73      0.61       374\n",
      "\n",
      "    accuracy                           0.75      1407\n",
      "   macro avg       0.70      0.74      0.71      1407\n",
      "weighted avg       0.79      0.75      0.76      1407\n",
      "\n"
     ]
    }
   ],
   "source": [
    "X_train, y_train = get_train_batch(df2_class0, df2_class1, 1495, 2990)\n",
    "\n",
    "y_pred2 = ANN(X_train, y_train, X_test, y_test, 'binary_crossentropy')"
   ]
  },
  {
   "cell_type": "code",
   "execution_count": 115,
   "id": "6fe0a098",
   "metadata": {},
   "outputs": [
    {
     "name": "stdout",
     "output_type": "stream",
     "text": [
      "Epoch 1/100\n",
      "83/83 [==============================] - 1s 1ms/step - loss: 0.5562 - accuracy: 0.7507\n",
      "Epoch 2/100\n",
      "83/83 [==============================] - 0s 2ms/step - loss: 0.4955 - accuracy: 0.7620\n",
      "Epoch 3/100\n",
      "83/83 [==============================] - 0s 2ms/step - loss: 0.4867 - accuracy: 0.7681\n",
      "Epoch 4/100\n",
      "83/83 [==============================] - 0s 2ms/step - loss: 0.4811 - accuracy: 0.7746\n",
      "Epoch 5/100\n",
      "83/83 [==============================] - 0s 2ms/step - loss: 0.4764 - accuracy: 0.7723\n",
      "Epoch 6/100\n",
      "83/83 [==============================] - 0s 1ms/step - loss: 0.4730 - accuracy: 0.7795\n",
      "Epoch 7/100\n",
      "83/83 [==============================] - 0s 1ms/step - loss: 0.4694 - accuracy: 0.7769\n",
      "Epoch 8/100\n",
      "83/83 [==============================] - 0s 1ms/step - loss: 0.4665 - accuracy: 0.7806\n",
      "Epoch 9/100\n",
      "83/83 [==============================] - 0s 2ms/step - loss: 0.4647 - accuracy: 0.7848\n",
      "Epoch 10/100\n",
      "83/83 [==============================] - 0s 2ms/step - loss: 0.4614 - accuracy: 0.7814\n",
      "Epoch 11/100\n",
      "83/83 [==============================] - 0s 1ms/step - loss: 0.4617 - accuracy: 0.7882\n",
      "Epoch 12/100\n",
      "83/83 [==============================] - 0s 2ms/step - loss: 0.4579 - accuracy: 0.7871\n",
      "Epoch 13/100\n",
      "83/83 [==============================] - 0s 2ms/step - loss: 0.4569 - accuracy: 0.7871\n",
      "Epoch 14/100\n",
      "83/83 [==============================] - 0s 1ms/step - loss: 0.4553 - accuracy: 0.7848\n",
      "Epoch 15/100\n",
      "83/83 [==============================] - 0s 1ms/step - loss: 0.4547 - accuracy: 0.7879\n",
      "Epoch 16/100\n",
      "83/83 [==============================] - 0s 1ms/step - loss: 0.4505 - accuracy: 0.7905\n",
      "Epoch 17/100\n",
      "83/83 [==============================] - 0s 1ms/step - loss: 0.4499 - accuracy: 0.7905\n",
      "Epoch 18/100\n",
      "83/83 [==============================] - 0s 1ms/step - loss: 0.4480 - accuracy: 0.7905\n",
      "Epoch 19/100\n",
      "83/83 [==============================] - 0s 2ms/step - loss: 0.4458 - accuracy: 0.7951\n",
      "Epoch 20/100\n",
      "83/83 [==============================] - 0s 2ms/step - loss: 0.4449 - accuracy: 0.7962\n",
      "Epoch 21/100\n",
      "83/83 [==============================] - 0s 2ms/step - loss: 0.4432 - accuracy: 0.7932\n",
      "Epoch 22/100\n",
      "83/83 [==============================] - 0s 2ms/step - loss: 0.4409 - accuracy: 0.7947\n",
      "Epoch 23/100\n",
      "83/83 [==============================] - 0s 1ms/step - loss: 0.4388 - accuracy: 0.7973\n",
      "Epoch 24/100\n",
      "83/83 [==============================] - 0s 1ms/step - loss: 0.4375 - accuracy: 0.7951\n",
      "Epoch 25/100\n",
      "83/83 [==============================] - 0s 1ms/step - loss: 0.4365 - accuracy: 0.8004\n",
      "Epoch 26/100\n",
      "83/83 [==============================] - 0s 1ms/step - loss: 0.4348 - accuracy: 0.7989\n",
      "Epoch 27/100\n",
      "83/83 [==============================] - 0s 2ms/step - loss: 0.4350 - accuracy: 0.8046\n",
      "Epoch 28/100\n",
      "83/83 [==============================] - 0s 1ms/step - loss: 0.4314 - accuracy: 0.8023\n",
      "Epoch 29/100\n",
      "83/83 [==============================] - 0s 1ms/step - loss: 0.4305 - accuracy: 0.8065\n",
      "Epoch 30/100\n",
      "83/83 [==============================] - 0s 1ms/step - loss: 0.4296 - accuracy: 0.7992\n",
      "Epoch 31/100\n",
      "83/83 [==============================] - 0s 1ms/step - loss: 0.4245 - accuracy: 0.8102\n",
      "Epoch 32/100\n",
      "83/83 [==============================] - 0s 2ms/step - loss: 0.4243 - accuracy: 0.8076\n",
      "Epoch 33/100\n",
      "83/83 [==============================] - 0s 2ms/step - loss: 0.4226 - accuracy: 0.8091\n",
      "Epoch 34/100\n",
      "83/83 [==============================] - 0s 2ms/step - loss: 0.4213 - accuracy: 0.8114\n",
      "Epoch 35/100\n",
      "83/83 [==============================] - 0s 1ms/step - loss: 0.4207 - accuracy: 0.8083\n",
      "Epoch 36/100\n",
      "83/83 [==============================] - 0s 1ms/step - loss: 0.4191 - accuracy: 0.8095\n",
      "Epoch 37/100\n",
      "83/83 [==============================] - 0s 1ms/step - loss: 0.4164 - accuracy: 0.8148\n",
      "Epoch 38/100\n",
      "83/83 [==============================] - 0s 1ms/step - loss: 0.4157 - accuracy: 0.8137\n",
      "Epoch 39/100\n",
      "83/83 [==============================] - 0s 1ms/step - loss: 0.4135 - accuracy: 0.8182\n",
      "Epoch 40/100\n",
      "83/83 [==============================] - 0s 1ms/step - loss: 0.4122 - accuracy: 0.8156\n",
      "Epoch 41/100\n",
      "83/83 [==============================] - 0s 1ms/step - loss: 0.4113 - accuracy: 0.8190\n",
      "Epoch 42/100\n",
      "83/83 [==============================] - 0s 1ms/step - loss: 0.4086 - accuracy: 0.8182\n",
      "Epoch 43/100\n",
      "83/83 [==============================] - 0s 2ms/step - loss: 0.4056 - accuracy: 0.8197\n",
      "Epoch 44/100\n",
      "83/83 [==============================] - 0s 2ms/step - loss: 0.4044 - accuracy: 0.8213\n",
      "Epoch 45/100\n",
      "83/83 [==============================] - 0s 2ms/step - loss: 0.4052 - accuracy: 0.8250\n",
      "Epoch 46/100\n",
      "83/83 [==============================] - 0s 2ms/step - loss: 0.4015 - accuracy: 0.8258\n",
      "Epoch 47/100\n",
      "83/83 [==============================] - 0s 2ms/step - loss: 0.4003 - accuracy: 0.8243\n",
      "Epoch 48/100\n",
      "83/83 [==============================] - 0s 1ms/step - loss: 0.4000 - accuracy: 0.8239\n",
      "Epoch 49/100\n",
      "83/83 [==============================] - 0s 1ms/step - loss: 0.3998 - accuracy: 0.8235\n",
      "Epoch 50/100\n",
      "83/83 [==============================] - 0s 1ms/step - loss: 0.3974 - accuracy: 0.8254\n",
      "Epoch 51/100\n",
      "83/83 [==============================] - 0s 1ms/step - loss: 0.3921 - accuracy: 0.8266\n",
      "Epoch 52/100\n",
      "83/83 [==============================] - 0s 1ms/step - loss: 0.3941 - accuracy: 0.8254\n",
      "Epoch 53/100\n",
      "83/83 [==============================] - 0s 1ms/step - loss: 0.3897 - accuracy: 0.8258\n",
      "Epoch 54/100\n",
      "83/83 [==============================] - 0s 1ms/step - loss: 0.3883 - accuracy: 0.8292\n",
      "Epoch 55/100\n",
      "83/83 [==============================] - 0s 1ms/step - loss: 0.3882 - accuracy: 0.8334\n",
      "Epoch 56/100\n",
      "83/83 [==============================] - 0s 1ms/step - loss: 0.3852 - accuracy: 0.8292\n",
      "Epoch 57/100\n",
      "83/83 [==============================] - 0s 1ms/step - loss: 0.3846 - accuracy: 0.8277\n",
      "Epoch 58/100\n",
      "83/83 [==============================] - 0s 1ms/step - loss: 0.3835 - accuracy: 0.8311\n",
      "Epoch 59/100\n",
      "83/83 [==============================] - 0s 1ms/step - loss: 0.3806 - accuracy: 0.8323\n",
      "Epoch 60/100\n",
      "83/83 [==============================] - 0s 1ms/step - loss: 0.3784 - accuracy: 0.8323\n",
      "Epoch 61/100\n",
      "83/83 [==============================] - 0s 1ms/step - loss: 0.3776 - accuracy: 0.8368\n",
      "Epoch 62/100\n",
      "83/83 [==============================] - 0s 1ms/step - loss: 0.3776 - accuracy: 0.8304\n",
      "Epoch 63/100\n",
      "83/83 [==============================] - 0s 1ms/step - loss: 0.3760 - accuracy: 0.8326\n",
      "Epoch 64/100\n",
      "83/83 [==============================] - 0s 1ms/step - loss: 0.3748 - accuracy: 0.8345\n",
      "Epoch 65/100\n",
      "83/83 [==============================] - 0s 1ms/step - loss: 0.3716 - accuracy: 0.8353\n",
      "Epoch 66/100\n",
      "83/83 [==============================] - 0s 1ms/step - loss: 0.3706 - accuracy: 0.8376\n",
      "Epoch 67/100\n",
      "83/83 [==============================] - 0s 1ms/step - loss: 0.3686 - accuracy: 0.8387\n",
      "Epoch 68/100\n",
      "83/83 [==============================] - 0s 1ms/step - loss: 0.3688 - accuracy: 0.8402\n",
      "Epoch 69/100\n",
      "83/83 [==============================] - 0s 1ms/step - loss: 0.3672 - accuracy: 0.8414\n",
      "Epoch 70/100\n",
      "83/83 [==============================] - 0s 1ms/step - loss: 0.3630 - accuracy: 0.8433\n",
      "Epoch 71/100\n",
      "83/83 [==============================] - 0s 1ms/step - loss: 0.3623 - accuracy: 0.8414\n",
      "Epoch 72/100\n",
      "83/83 [==============================] - 0s 1ms/step - loss: 0.3612 - accuracy: 0.8471\n",
      "Epoch 73/100\n",
      "83/83 [==============================] - 0s 1ms/step - loss: 0.3614 - accuracy: 0.8414\n",
      "Epoch 74/100\n",
      "83/83 [==============================] - 0s 1ms/step - loss: 0.3575 - accuracy: 0.8440\n",
      "Epoch 75/100\n",
      "83/83 [==============================] - 0s 1ms/step - loss: 0.3565 - accuracy: 0.8425\n",
      "Epoch 76/100\n",
      "83/83 [==============================] - 0s 1ms/step - loss: 0.3550 - accuracy: 0.8414\n",
      "Epoch 77/100\n",
      "83/83 [==============================] - 0s 1ms/step - loss: 0.3548 - accuracy: 0.8509\n",
      "Epoch 78/100\n",
      "83/83 [==============================] - 0s 1ms/step - loss: 0.3533 - accuracy: 0.8478\n",
      "Epoch 79/100\n",
      "83/83 [==============================] - 0s 1ms/step - loss: 0.3515 - accuracy: 0.8490\n",
      "Epoch 80/100\n",
      "83/83 [==============================] - 0s 1ms/step - loss: 0.3483 - accuracy: 0.8524\n",
      "Epoch 81/100\n",
      "83/83 [==============================] - 0s 1ms/step - loss: 0.3488 - accuracy: 0.8528\n",
      "Epoch 82/100\n",
      "83/83 [==============================] - 0s 1ms/step - loss: 0.3528 - accuracy: 0.8463\n",
      "Epoch 83/100\n",
      "83/83 [==============================] - 0s 1ms/step - loss: 0.3458 - accuracy: 0.8528\n",
      "Epoch 84/100\n",
      "83/83 [==============================] - 0s 2ms/step - loss: 0.3452 - accuracy: 0.8535\n",
      "Epoch 85/100\n",
      "83/83 [==============================] - 0s 2ms/step - loss: 0.3423 - accuracy: 0.8550\n",
      "Epoch 86/100\n",
      "83/83 [==============================] - 0s 1ms/step - loss: 0.3413 - accuracy: 0.8554\n",
      "Epoch 87/100\n",
      "83/83 [==============================] - 0s 1ms/step - loss: 0.3437 - accuracy: 0.8562\n",
      "Epoch 88/100\n",
      "83/83 [==============================] - 0s 2ms/step - loss: 0.3423 - accuracy: 0.8531\n",
      "Epoch 89/100\n",
      "83/83 [==============================] - 0s 2ms/step - loss: 0.3378 - accuracy: 0.8565\n",
      "Epoch 90/100\n",
      "83/83 [==============================] - 0s 1ms/step - loss: 0.3373 - accuracy: 0.8558\n",
      "Epoch 91/100\n",
      "83/83 [==============================] - 0s 1ms/step - loss: 0.3349 - accuracy: 0.8577\n",
      "Epoch 92/100\n",
      "83/83 [==============================] - 0s 1ms/step - loss: 0.3350 - accuracy: 0.8588\n",
      "Epoch 93/100\n",
      "83/83 [==============================] - 0s 2ms/step - loss: 0.3343 - accuracy: 0.8539\n",
      "Epoch 94/100\n",
      "83/83 [==============================] - 0s 1ms/step - loss: 0.3339 - accuracy: 0.8550\n",
      "Epoch 95/100\n",
      "83/83 [==============================] - 0s 1ms/step - loss: 0.3299 - accuracy: 0.8619\n",
      "Epoch 96/100\n",
      "83/83 [==============================] - 0s 1ms/step - loss: 0.3323 - accuracy: 0.8554\n",
      "Epoch 97/100\n",
      "83/83 [==============================] - 0s 2ms/step - loss: 0.3283 - accuracy: 0.8588\n",
      "Epoch 98/100\n",
      "83/83 [==============================] - 0s 2ms/step - loss: 0.3262 - accuracy: 0.8596\n",
      "Epoch 99/100\n",
      "83/83 [==============================] - 0s 2ms/step - loss: 0.3269 - accuracy: 0.8657\n",
      "Epoch 100/100\n",
      "83/83 [==============================] - 0s 2ms/step - loss: 0.3249 - accuracy: 0.8619\n",
      "44/44 [==============================] - 0s 1ms/step - loss: 0.7517 - accuracy: 0.6567\n",
      "[0.7517373561859131, 0.6567164063453674]\n",
      "44/44 [==============================] - 0s 1ms/step\n",
      "Classification Report: \n",
      "               precision    recall  f1-score   support\n",
      "\n",
      "           0       0.91      0.59      0.72      1033\n",
      "           1       0.43      0.83      0.56       374\n",
      "\n",
      "    accuracy                           0.66      1407\n",
      "   macro avg       0.67      0.71      0.64      1407\n",
      "weighted avg       0.78      0.66      0.68      1407\n",
      "\n"
     ]
    }
   ],
   "source": [
    "X_train, y_train = get_train_batch(df2_class0, df2_class1, 2990, 4130)\n",
    "\n",
    "y_pred3 = ANN(X_train, y_train, X_test, y_test, 'binary_crossentropy')"
   ]
  },
  {
   "cell_type": "code",
   "execution_count": 116,
   "id": "7873bad0",
   "metadata": {},
   "outputs": [
    {
     "data": {
      "text/plain": [
       "1407"
      ]
     },
     "execution_count": 116,
     "metadata": {},
     "output_type": "execute_result"
    }
   ],
   "source": [
    "len(y_pred1)"
   ]
  },
  {
   "cell_type": "code",
   "execution_count": 120,
   "id": "2398207e",
   "metadata": {},
   "outputs": [
    {
     "data": {
      "text/plain": [
       "1407"
      ]
     },
     "execution_count": 120,
     "metadata": {},
     "output_type": "execute_result"
    }
   ],
   "source": [
    "len(y_pred2)"
   ]
  },
  {
   "cell_type": "code",
   "execution_count": 119,
   "id": "14c16f3f",
   "metadata": {},
   "outputs": [
    {
     "data": {
      "text/plain": [
       "1407"
      ]
     },
     "execution_count": 119,
     "metadata": {},
     "output_type": "execute_result"
    }
   ],
   "source": [
    "len(y_pred3)"
   ]
  },
  {
   "cell_type": "code",
   "execution_count": 121,
   "id": "84f9be9f",
   "metadata": {},
   "outputs": [],
   "source": [
    "y_pred_final = y_pred1.copy()\n",
    "for i in range(len(y_pred1)):\n",
    "    n_ones = y_pred1[i] + y_pred2[i] + y_pred3[i]\n",
    "    if n_ones>1:\n",
    "        y_pred_final[i] = 1\n",
    "    else:\n",
    "        y_pred_final[i] = 0"
   ]
  },
  {
   "cell_type": "code",
   "execution_count": 123,
   "id": "4212c7ea",
   "metadata": {},
   "outputs": [
    {
     "name": "stdout",
     "output_type": "stream",
     "text": [
      "              precision    recall  f1-score   support\n",
      "\n",
      "           0       0.90      0.66      0.77      1033\n",
      "           1       0.46      0.80      0.59       374\n",
      "\n",
      "    accuracy                           0.70      1407\n",
      "   macro avg       0.68      0.73      0.68      1407\n",
      "weighted avg       0.79      0.70      0.72      1407\n",
      "\n"
     ]
    }
   ],
   "source": [
    "print(classification_report(y_test, y_pred_final))"
   ]
  }
 ],
 "metadata": {
  "kernelspec": {
   "display_name": "Python 3 (ipykernel)",
   "language": "python",
   "name": "python3"
  },
  "language_info": {
   "codemirror_mode": {
    "name": "ipython",
    "version": 3
   },
   "file_extension": ".py",
   "mimetype": "text/x-python",
   "name": "python",
   "nbconvert_exporter": "python",
   "pygments_lexer": "ipython3",
   "version": "3.9.7"
  }
 },
 "nbformat": 4,
 "nbformat_minor": 5
}
